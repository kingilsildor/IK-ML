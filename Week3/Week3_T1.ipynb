{
 "cells": [
  {
   "cell_type": "code",
   "execution_count": 9,
   "metadata": {
    "slideshow": {
     "slide_type": "skip"
    }
   },
   "outputs": [
    {
     "name": "stdout",
     "output_type": "stream",
     "text": [
      "[NbConvertApp] Converting notebook Week3_T1.ipynb to slides\n",
      "[NbConvertApp] Writing 673455 bytes to Week3_T1.slides.html\n",
      "[NbConvertApp] Redirecting reveal.js requests to https://cdnjs.cloudflare.com/ajax/libs/reveal.js/3.5.0\n",
      "Serving your slides at http://127.0.0.1:8000/Week3_T1.slides.html\n",
      "Use Control-C to stop this server\n",
      "^C\n",
      "\n",
      "Interrupted\n"
     ]
    }
   ],
   "source": [
    "!jupyter nbconvert Week3_T1.ipynb --to slides --post serve"
   ]
  },
  {
   "cell_type": "code",
   "execution_count": 5,
   "metadata": {
    "slideshow": {
     "slide_type": "skip"
    }
   },
   "outputs": [],
   "source": [
    "import seaborn as sns\n",
    "import numpy as np\n",
    "import pandas as pd\n",
    "from  sklearn import linear_model\n",
    "import matplotlib.pyplot as plt"
   ]
  },
  {
   "cell_type": "markdown",
   "metadata": {
    "slideshow": {
     "slide_type": "slide"
    }
   },
   "source": [
    "# AML W3: evaluatie\n",
    "\n",
    "> Hoe goed is je geleerde model?\n",
    "\n",
    "### topics\n",
    "\n",
    "1. Evaluatiematen\n",
    "2. baselines\n",
    "3. Optimalisatie/loss functies\n",
    "4. Cross validatie en grid search\n",
    "5. Significantie toetsen\n",
    "\n",
    "### Stof\n",
    "\n",
    "* Chapter 5 Introduction to Machine Learning with Python\n",
    "    * Hoeft niet: 5.3.5, 5.2 tot aan bladzijde 274.\n",
    "* [RMSE, $R^2$,95% confidence intervals](https://www.coursera.org/lecture/wharton-quantitative-modeling/4-4-r-squared-and-root-mean-squared-error-rmse-Nndhc)\n",
    "* [$R^2$ on wikipedia](https://en.wikipedia.org/wiki/Coefficient_of_determination)\n",
    "* [baseline models](https://crunchingthedata.com/baseline-models-for-machine-learning/)\n",
    "* (Extra) Als je ons soort performance evaluatie in een breder, ook toegepast, evaluatie traject wilt zien is [deze post](https://crunchingthedata.com/machine-learning-model-evaluation/) ontzettend nuttig."
   ]
  },
  {
   "cell_type": "markdown",
   "metadata": {
    "slideshow": {
     "slide_type": "slide"
    }
   },
   "source": [
    "# To start: train, (validate), test set.\n",
    "\n",
    "* In de **Evaluatie** kijk je hoe goed je geleerde (getrainde) model **generaliseert** naar nieuwe voorbeelden.\n",
    "* Je moet dus niet gaan testen op voorbeelden die je al gezien hebt.\n",
    "    * waarop je getraind hebt.\n",
    "* Waarom eigenlijk niet?\n",
    "\n",
    "## Partitie\n",
    "\n",
    "* Je deelt je verzameling gelabelde voorbeelden dus op in een **niet overlappende** train en test set."
   ]
  },
  {
   "cell_type": "markdown",
   "metadata": {
    "slideshow": {
     "slide_type": "slide"
    }
   },
   "source": [
    "## Om hyperparameters te \"tunen\": validatieset\n",
    "\n",
    "* Kan je ook nog een derde set, een validatieset, maken.\n",
    "* Ook weer *disjoint* van de andere twee.\n",
    "    * Je leert op de train-set met bepaalde waardes op hyperparameters\n",
    "    * test op de validatieset\n",
    "    * en doet dit weer met andere waardes voor de hyperparameters,\n",
    "    * enzovoort\n",
    "* uiteindelijk test je (het model met de best presterende hyperparameters) op je (nog nooit geziene) testset, \n",
    "* en die waardes rapporteer je. "
   ]
  },
  {
   "cell_type": "markdown",
   "metadata": {
    "slideshow": {
     "slide_type": "slide"
    }
   },
   "source": [
    "# Evaluate a classifier\n",
    "\n",
    "* Measures based on a **confusion matrix**\n",
    "\n",
    "![](../img/conf_matrix.png)"
   ]
  },
  {
   "cell_type": "markdown",
   "metadata": {
    "slideshow": {
     "slide_type": "skip"
    }
   },
   "source": [
    "* neem over opp bord\n",
    "* maak rij en kolom totalen\n",
    "* geef de namen TP, FP, etc\n",
    "* maak extra kolom voor de recall en extra kolom voor de precisie, en bereken per classe"
   ]
  },
  {
   "cell_type": "markdown",
   "metadata": {
    "slideshow": {
     "slide_type": "slide"
    }
   },
   "source": [
    "# From [wikipedia](https://en.wikipedia.org/wiki/Confusion_matrix)\n",
    "\n",
    "\n",
    "* Wat zijn de verschillen met de vorige confusion table?\n",
    "\n",
    "<table class=\"wikitable\" style=\"border:none; background:transparent; text-align:center;\" align=\"center\">\n",
    "<tbody><tr>\n",
    "<td rowspan=\"2\" style=\"border:none;\">\n",
    "</td>\n",
    "<td style=\"border:none;\">\n",
    "</td>\n",
    "<td colspan=\"2\" style=\"background:#bbeeee;\"><b>Predicted condition</b>\n",
    "</td></tr>\n",
    "<tr>\n",
    "<td style=\"background:#eeeeee;\"><a href=\"/wiki/Statistical_population\" title=\"Statistical population\">Total population</a> <br><span style=\"white-space:nowrap;\">= P + N</span>\n",
    "</td>\n",
    "<td style=\"background:#ccffff;\"><b>Positive (PP)</b>\n",
    "</td>\n",
    "<td style=\"background:#aadddd;\"><b>Negative (PN)</b>\n",
    "</td></tr>\n",
    "<tr>\n",
    "<td rowspan=\"2\" class=\"nowrap unsortable\" style=\"line-height:99%;vertical-align:middle;padding:.4em .4em .2em;background-position:50% .4em !important;min-width:0.875em;max-width:0.875em;width:0.875em;overflow:hidden;background:#eeeebb;\"><div style=\"vertical-rl=-webkit-writing-mode: vertical-rl; -o-writing-mode: vertical-rl; -ms-writing-mode: tb-rl;writing-mode: tb-rl; writing-mode: vertical-rl; layout-flow: vertical-ideographic;transform:rotate(180deg);display:inline-block;padding-left:1px;text-align:center;\"><b>Actual condition</b></div>\n",
    "</td>\n",
    "<td style=\"background:#ffffcc;\"><b>Positive (P)</b>\n",
    "</td>\n",
    "<td style=\"background:#ccffcc;\"><b><a href=\"/wiki/True_positive\" class=\"mw-redirect\" title=\"True positive\">True positive</a> (TP) <br></b>\n",
    "</td>\n",
    "<td style=\"background:#ffdddd;\"><b><a href=\"/wiki/False_negative\" class=\"mw-redirect\" title=\"False negative\">False negative</a> (FN) <br></b>\n",
    "</td></tr>\n",
    "<tr>\n",
    "<td style=\"background:#ddddaa;\"><b>Negative (N)</b>\n",
    "</td>\n",
    "<td style=\"background:#ffcccc;\"><b><a href=\"/wiki/False_positive\" class=\"mw-redirect\" title=\"False positive\">False positive</a> (FP) <br></b>\n",
    "</td>\n",
    "<td style=\"background:#bbeebb;\"><b><a href=\"/wiki/True_negative\" class=\"mw-redirect\" title=\"True negative\">True negative</a> (TN) <br></b>\n",
    "</td></tr>\n",
    "<tr>\n",
    "<td colspan=\"4\" style=\"border:none;\"><sup>Sources: </sup><sup id=\"cite_ref-13\" class=\"reference\"><a href=\"#cite_note-13\">[13]</a></sup><sup id=\"cite_ref-14\" class=\"reference\"><a href=\"#cite_note-14\">[14]</a></sup><sup id=\"cite_ref-15\" class=\"reference\"><a href=\"#cite_note-15\">[15]</a></sup><sup id=\"cite_ref-16\" class=\"reference\"><a href=\"#cite_note-16\">[16]</a></sup><sup id=\"cite_ref-17\" class=\"reference\"><a href=\"#cite_note-17\">[17]</a></sup><sup id=\"cite_ref-18\" class=\"reference\"><a href=\"#cite_note-18\">[18]</a></sup><sup id=\"cite_ref-19\" class=\"reference\"><a href=\"#cite_note-19\">[19]</a></sup><sup id=\"cite_ref-20\" class=\"reference\"><a href=\"#cite_note-20\">[20]</a></sup>\n",
    "</td></tr></tbody></table>\n",
    " "
   ]
  },
  {
   "cell_type": "markdown",
   "metadata": {
    "slideshow": {
     "slide_type": "slide"
    }
   },
   "source": [
    "# zoek de verschillen\n",
    "<table>\n",
    "    <tr><td><img src='../img/conf_matrix.png' width='.3'/></td>\n",
    "        <td>\n",
    "<table class=\"wikitable\" style=\"border:none; background:transparent; text-align:center;\" align=\"center\">\n",
    "<tbody><tr>\n",
    "<td rowspan=\"2\" style=\"border:none;\">\n",
    "</td>\n",
    "<td style=\"border:none;\">\n",
    "</td>\n",
    "<td colspan=\"2\" style=\"background:#bbeeee;\"><b>Predicted condition</b>\n",
    "</td></tr>\n",
    "<tr>\n",
    "<td style=\"background:#eeeeee;\"><a href=\"/wiki/Statistical_population\" title=\"Statistical population\">Total population</a> <br><span style=\"white-space:nowrap;\">= P + N</span>\n",
    "</td>\n",
    "<td style=\"background:#ccffff;\"><b>Positive (PP)</b>\n",
    "</td>\n",
    "<td style=\"background:#aadddd;\"><b>Negative (PN)</b>\n",
    "</td></tr>\n",
    "<tr>\n",
    "<td rowspan=\"2\" class=\"nowrap unsortable\" style=\"line-height:99%;vertical-align:middle;padding:.4em .4em .2em;background-position:50% .4em !important;min-width:0.875em;max-width:0.875em;width:0.875em;overflow:hidden;background:#eeeebb;\"><div style=\"vertical-rl=-webkit-writing-mode: vertical-rl; -o-writing-mode: vertical-rl; -ms-writing-mode: tb-rl;writing-mode: tb-rl; writing-mode: vertical-rl; layout-flow: vertical-ideographic;transform:rotate(180deg);display:inline-block;padding-left:1px;text-align:center;\"><b>Actual condition</b></div>\n",
    "</td>\n",
    "<td style=\"background:#ffffcc;\"><b>Positive (P)</b>\n",
    "</td>\n",
    "<td style=\"background:#ccffcc;\"><b><a href=\"/wiki/True_positive\" class=\"mw-redirect\" title=\"True positive\">True positive</a> (TP) <br></b>\n",
    "</td>\n",
    "<td style=\"background:#ffdddd;\"><b><a href=\"/wiki/False_negative\" class=\"mw-redirect\" title=\"False negative\">False negative</a> (FN) <br></b>\n",
    "</td></tr>\n",
    "<tr>\n",
    "<td style=\"background:#ddddaa;\"><b>Negative (N)</b>\n",
    "</td>\n",
    "<td style=\"background:#ffcccc;\"><b><a href=\"/wiki/False_positive\" class=\"mw-redirect\" title=\"False positive\">False positive</a> (FP) <br></b>\n",
    "</td>\n",
    "<td style=\"background:#bbeebb;\"><b><a href=\"/wiki/True_negative\" class=\"mw-redirect\" title=\"True negative\">True negative</a> (TN) <br></b>\n",
    "</td></tr>\n",
    "<tr>\n",
    "<td colspan=\"4\" style=\"border:none;\"><sup>Sources: </sup><sup id=\"cite_ref-13\" class=\"reference\"><a href=\"#cite_note-13\">[13]</a></sup><sup id=\"cite_ref-14\" class=\"reference\"><a href=\"#cite_note-14\">[14]</a></sup><sup id=\"cite_ref-15\" class=\"reference\"><a href=\"#cite_note-15\">[15]</a></sup><sup id=\"cite_ref-16\" class=\"reference\"><a href=\"#cite_note-16\">[16]</a></sup><sup id=\"cite_ref-17\" class=\"reference\"><a href=\"#cite_note-17\">[17]</a></sup><sup id=\"cite_ref-18\" class=\"reference\"><a href=\"#cite_note-18\">[18]</a></sup><sup id=\"cite_ref-19\" class=\"reference\"><a href=\"#cite_note-19\">[19]</a></sup><sup id=\"cite_ref-20\" class=\"reference\"><a href=\"#cite_note-20\">[20]</a></sup>\n",
    "</td></tr></tbody></table>\n",
    "        </td>\n",
    "    </tr>\n",
    "    \n",
    "    \n",
    "</table>    "
   ]
  },
  {
   "cell_type": "markdown",
   "metadata": {
    "slideshow": {
     "slide_type": "slide"
    }
   },
   "source": [
    "## Short recap on Precision and recall\n",
    "\n",
    "\n",
    "Given a class $C$:\n",
    "* Precision= how many of the predictions for class $C$  were correct\n",
    "* Recall= how many  instances of class $C$ were predicted to be $C$\n",
    "* Accuracy= how many of all predictions were correct\n",
    "\n",
    "### In de confusion matrix\n",
    "\n",
    "**(de fruit-style: met de voorspelling op de rijen)**\n",
    "\n",
    "* Precisie = rij-totalen/diagonaal\n",
    "* Recall= kolom-totalen/diagonaal\n",
    "* accuracy= diagonaal.sum()/totaal"
   ]
  },
  {
   "cell_type": "markdown",
   "metadata": {
    "slideshow": {
     "slide_type": "slide"
    }
   },
   "source": [
    "## Example\n",
    "There is a test for a disease which has _an accuracy of 95%_. The disease occurs in one in every 100 persons.\n",
    "This accuracy means that the test is 95% reliable: \n",
    "* in 95% of cases of people who really have the disease, a positive result is returned, \n",
    "* and in 95% of cases of people who do not have the disease, a negative result is obtained.\n",
    "\n",
    " \n",
    "\n",
    "### Questions\n",
    "\n",
    "1. What is the probability that a person has the disease if the test is positive?\n",
    "    * This is called the _precision_ of the test.\n",
    "2. What is the probability that a person with the disease tests positive?\n",
    "    * This is called the _recall_ of the test."
   ]
  },
  {
   "cell_type": "markdown",
   "metadata": {
    "slideshow": {
     "slide_type": "subslide"
    }
   },
   "source": [
    "#### Answers\n",
    "\n",
    "1. **Recall** This is given because that is $TP/(TP+FN)$ = how many of the \"true class\" (those with the disease) are picked up by th etest. That is .95.\n",
    "2. **Precision** This is $TP/(TP+FP)$, how many of those with a positive test do have the disease?"
   ]
  },
  {
   "cell_type": "markdown",
   "metadata": {
    "slideshow": {
     "slide_type": "fragment"
    }
   },
   "source": [
    "* Let's calculate with an example. Say N=10.000.\n",
    "\n",
    "\n",
    "|  |*has disease*| *no disease* | |\n",
    "| -|-: |-: |-: |\n",
    "|positive test| ...3... |...6...| ...7... \n",
    "|negative test|...4... | ...5... |...8...\n",
    "|             |...1...| ...2....|10.000 "
   ]
  },
  {
   "cell_type": "markdown",
   "metadata": {
    "slideshow": {
     "slide_type": "fragment"
    }
   },
   "source": [
    "|  |*has disease*| *no disease* | |\n",
    "| -|-: |-: |-: |\n",
    "|positive test| 95 |495 | 590\n",
    "|negative test| 5| 9405|9410\n",
    "|             |100| 9900|10.000 "
   ]
  },
  {
   "cell_type": "markdown",
   "metadata": {
    "slideshow": {
     "slide_type": "fragment"
    }
   },
   "source": [
    "* So then Precision = $95/(95+495)= .16$."
   ]
  },
  {
   "cell_type": "markdown",
   "metadata": {
    "slideshow": {
     "slide_type": "subslide"
    }
   },
   "source": [
    "#### Direct calculation\n",
    "\n",
    "* Let's calculate directly with the probabilities (using Bayes rule).\n",
    "    1. We want P(has disease|test positive). \n",
    "    2. This is equal to P(has disease , test positive) / P(test positive).\n",
    "    3. P(has disease , test positive) is simpy P(has disease) * P(test positive | has disease). Thus $.01* .95$.\n",
    "    4. What is P(test positive)?\n",
    "        * Two cases: you have the disease or you have not.\n",
    "        * Thus  P(test positive) = P(test positive, has disease ) + P(test positive, not has disease )\n",
    "            * P(test positive, not has disease ) = .99 * .05  \n",
    "        * Thus P(test positive) = $ (.01* .95) + (.99 * .05 )$\n",
    "    5. Thus precision = $(.01* .95) / ((.01* .95) + (.99 * .05 )) = .16$\n",
    "    \n",
    "  "
   ]
  },
  {
   "cell_type": "markdown",
   "metadata": {
    "slideshow": {
     "slide_type": "subslide"
    }
   },
   "source": [
    "  \n",
    "### Accuracy, precision, recall\n",
    "\n",
    "* So we have an accuracy of .95, a recall of .95 but only a precision of .16. \n",
    "* So in order to catch .95 of all diseases with our test, we must have 84% \"false accusations\".\n",
    "* Let's imagine a spam filter with these numbers. Here Test=positive then means:  _email is genuine_.\n",
    "    * Then with 10K mails of which 99% is spam we have \n",
    "        * 590 mails in our mailbox (of which 495 are spam).  (pretty low precision)\n",
    "        * 5 genuine mails in our spam box.  (but high recall)"
   ]
  },
  {
   "cell_type": "markdown",
   "metadata": {
    "slideshow": {
     "slide_type": "subslide"
    }
   },
   "source": [
    "        \n",
    "### Why and when accuracy (or reliability) does not say much\n",
    "\n",
    "* With heavily skewed distributions (like with our disease, only 1% has it)\n",
    "* you can get high reliability by the law of large numbers on the False class.\n",
    "    * every time you correctly predict someone does not have the disease this is good for accuracy.\n",
    "    * So saying that no one has the disease gives an accuracy of .99. \n",
    "        * But a precision of 0 and a recall of 0 too. \n",
    "        * (actually, precision for the has disease class is then undefined, $0/0$.)\n",
    "        "
   ]
  },
  {
   "cell_type": "markdown",
   "metadata": {
    "slideshow": {
     "slide_type": "slide"
    }
   },
   "source": [
    "# P, R and F1 \n",
    "\n",
    "Given a class $C$:\n",
    "* Precision= how many of the predictions for class $C$  were correct\n",
    "* Recall= how many  instances of class $C$ predicted to be $C$\n",
    "* Accuracy= how many of all predictions were correct\n",
    "\n",
    "###  Formulate it using probabilities and priors\n",
    "$$Precision(C) = \\frac{P(True_C, Predicted_C)}{P(Predicted_C)}$$\n",
    "\n",
    "$$Recall(C) = \\frac{P(True_C, Predicted_C)}{P(True_C)}$$\n",
    "\n",
    "$$F1(C) = \\frac{P(True_C, Predicted_C)}{mean(P(Predicted_C), P(True_C)) }$$\n",
    "\n",
    "### F1 is the harmonic mean of precision and recall\n",
    "\n",
    "$$ P= \\frac{TP}{TP+ FP}\\hspace{1cm}  R= \\frac{TP}{TP+ FN} \\hspace{1cm}   F1= \\frac{TP}{TP+ \\frac{1}{2}(FP+FN)}$$"
   ]
  },
  {
   "cell_type": "markdown",
   "metadata": {
    "slideshow": {
     "slide_type": "slide"
    }
   },
   "source": [
    "# P, R and F1 with multiple classes"
   ]
  },
  {
   "cell_type": "markdown",
   "metadata": {
    "slideshow": {
     "slide_type": "fragment"
    }
   },
   "source": [
    "1. Compute P,R,F1 for each class.\n",
    "2. Combine these into a measure for all classes\n",
    "    * 3 ways of taking the mean"
   ]
  },
  {
   "cell_type": "markdown",
   "metadata": {
    "slideshow": {
     "slide_type": "slide"
    }
   },
   "source": [
    "### Macro mean\n",
    "\n",
    "* take the mean over the measures for each class\n",
    "    * each class is equal\n",
    "    * small classes (with bad behaviour) count a lot\n",
    "    \n",
    "    "
   ]
  },
  {
   "cell_type": "markdown",
   "metadata": {
    "slideshow": {
     "slide_type": "subslide"
    }
   },
   "source": [
    "### Weighted mean\n",
    "\n",
    "* Say 3 classes A, B , C with .7, .2, .1 distribution of the true class\n",
    "* then weighted mean $R$ecall is \n",
    "$$ .7\\cdot R(A) + .2\\cdot R(B) + .1\\cdot R(C)$$"
   ]
  },
  {
   "cell_type": "markdown",
   "metadata": {
    "slideshow": {
     "slide_type": "subslide"
    }
   },
   "source": [
    "### Micro mean\n",
    "\n",
    "$$ \\frac{diagonal}{diagonal + \\mbox{off-diagonal}} = \\frac{diagonal}{all}$$\n",
    "\n",
    "* Accuracy = micro P = micro R = micro F1"
   ]
  },
  {
   "cell_type": "markdown",
   "metadata": {
    "slideshow": {
     "slide_type": "slide"
    }
   },
   "source": [
    "# Confusion Matrix with multiple classes\n",
    "\n",
    "\n",
    "* example  with 3 classes, N=1000\n",
    "    * priors 700,200,100\n",
    "    * diagonal : 600,50,10\n",
    "    * predicted classes: 900,80,20\n",
    "    \n",
    "* Compute, accuracy, macro values, weighted values"
   ]
  },
  {
   "cell_type": "code",
   "execution_count": 6,
   "metadata": {
    "slideshow": {
     "slide_type": "slide"
    }
   },
   "outputs": [
    {
     "name": "stdout",
     "output_type": "stream",
     "text": [
      "              precision    recall  f1-score   support\n",
      "\n",
      "         Cat      0.308     0.667     0.421         6\n",
      "        Fish      0.667     0.200     0.308        10\n",
      "         Hen      0.667     0.667     0.667         9\n",
      "\n",
      "    accuracy                          0.480        25\n",
      "   macro avg      0.547     0.511     0.465        25\n",
      "weighted avg      0.581     0.480     0.464        25\n",
      "\n"
     ]
    },
    {
     "data": {
      "image/png": "[encoded data removed]",
      "text/plain": [
       "<Figure size 432x288 with 2 Axes>"
      ]
     },
     "metadata": {
      "needs_background": "light"
     },
     "output_type": "display_data"
    }
   ],
   "source": [
    "from sklearn import metrics\n",
    "\n",
    "# Constants\n",
    "C=\"Cat\"\n",
    "F=\"Fish\"\n",
    "H=\"Hen\"\n",
    "\n",
    "# True values\n",
    "y_true = [C,C,C,C,C,C, F,F,F,F,F,F,F,F,F,F, H,H,H,H,H,H,H,H,H]\n",
    "# Predicted values\n",
    "y_pred = [C,C,C,C,H,F, C,C,C,C,C,C,H,H,F,F, C,C,C,H,H,H,H,H,H]\n",
    "\n",
    "# Print the confusion matrix\n",
    "import seaborn as sns\n",
    "%matplotlib inline\n",
    "sns.heatmap(metrics.confusion_matrix(y_true, y_pred), annot=True,\n",
    "           xticklabels=[C,F,H],yticklabels=[C,F,H] );\n",
    "\n",
    "# Print the precision and recall, among other metrics\n",
    "print(metrics.classification_report(y_true, y_pred, digits=3))"
   ]
  },
  {
   "cell_type": "markdown",
   "metadata": {
    "slideshow": {
     "slide_type": "slide"
    }
   },
   "source": [
    "# let op de confusion matrix\n",
    "\n",
    "* waar staan de true values en waar de predicted?"
   ]
  },
  {
   "cell_type": "markdown",
   "metadata": {
    "slideshow": {
     "slide_type": "slide"
    }
   },
   "source": [
    "# Baselines\n",
    "\n",
    "\n",
    "### Your problem if you have to convince your manager/examiner/friend/....\n",
    "* Suppose you have trained a classifier and it has accuracy $A$.\n",
    "    * Is that good?\n",
    "    * How to assess that?\n",
    "    "
   ]
  },
  {
   "cell_type": "markdown",
   "metadata": {
    "slideshow": {
     "slide_type": "fragment"
    }
   },
   "source": [
    "* **Compare to a baseline!**"
   ]
  },
  {
   "cell_type": "markdown",
   "metadata": {
    "slideshow": {
     "slide_type": "fragment"
    }
   },
   "source": [
    "* Baseline? \n",
    "    * Often: a classifier \"learned\" using only **global** information\n",
    "        * That is, the distribution of the classes over the population.\n",
    "    * Your classifier is only based on  \"prejudice\"\n",
    "    * It does not use any feature of an instance"
   ]
  },
  {
   "cell_type": "markdown",
   "metadata": {
    "slideshow": {
     "slide_type": "slide"
    }
   },
   "source": [
    "# 3 Baselines\n",
    "\n",
    "## Majority class\n",
    "\n",
    "* Always choose the majority class"
   ]
  },
  {
   "cell_type": "markdown",
   "metadata": {
    "slideshow": {
     "slide_type": "fragment"
    }
   },
   "source": [
    "## Random \n",
    "\n",
    "* With $C$ classes, let each class have $\\frac{1}{C}$ chance."
   ]
  },
  {
   "cell_type": "markdown",
   "metadata": {
    "slideshow": {
     "slide_type": "fragment"
    }
   },
   "source": [
    "## Weighted Random \n",
    "\n",
    "*  Let each class have $P(C)$ chance.\n",
    "    * $P(C)$ = fraction of C-instances in the population."
   ]
  },
  {
   "cell_type": "markdown",
   "metadata": {
    "slideshow": {
     "slide_type": "slide"
    }
   },
   "source": [
    "# Example\n",
    "\n",
    "* 3 classes, A, B, C, with .7, .2 , .1 fractions."
   ]
  },
  {
   "cell_type": "markdown",
   "metadata": {
    "slideshow": {
     "slide_type": "fragment"
    }
   },
   "source": [
    "### Majority\n",
    "* always A\n",
    "* Accuracy= .7"
   ]
  },
  {
   "cell_type": "markdown",
   "metadata": {
    "slideshow": {
     "slide_type": "fragment"
    }
   },
   "source": [
    "### Random\n",
    "* with one third choose each class.\n",
    "* Accuracy = $.33\\cdot .7  + .33\\cdot .2 + .33\\cdot .1$\n",
    "* = 1/3"
   ]
  },
  {
   "cell_type": "markdown",
   "metadata": {
    "slideshow": {
     "slide_type": "fragment"
    }
   },
   "source": [
    "### Weighted Random\n",
    "\n",
    "* Accuracy = $.7\\cdot .7  + .2\\cdot .2 + .1\\cdot .1$\n",
    "* = .539"
   ]
  },
  {
   "cell_type": "code",
   "execution_count": 7,
   "metadata": {
    "slideshow": {
     "slide_type": "skip"
    }
   },
   "outputs": [
    {
     "data": {
      "text/plain": [
       "0.5399999999999999"
      ]
     },
     "execution_count": 7,
     "metadata": {},
     "output_type": "execute_result"
    }
   ],
   "source": [
    "rw= .7**2 + .2**2 + .1**2\n",
    "rw"
   ]
  },
  {
   "cell_type": "markdown",
   "metadata": {
    "slideshow": {
     "slide_type": "slide"
    }
   },
   "source": [
    "# Always compare your model to baselines\n",
    "\n",
    "* It really schould do better than weighted random, and, if accuracy is all you go for, even better than majority.\n",
    "* Note that majority scores bad on \"diversity\"\n",
    "    * Recall is 1 for majority class, 0 for all others\n",
    "    * Precision is P(C) for majority class C, not even defined for all others.\n",
    "    * Macro recall = 1/#C, (with #C:   number of classes) Macro precision even less, so macro F1 as well.\n",
    "    \n",
    "### Scikit learn has these baselines\n",
    "\n",
    "* <https://scikit-learn.org/stable/modules/generated/sklearn.dummy.DummyClassifier.html>"
   ]
  },
  {
   "cell_type": "markdown",
   "metadata": {
    "slideshow": {
     "slide_type": "slide"
    }
   },
   "source": [
    "# Waar zijn we?\n",
    "\n",
    "### topics\n",
    "\n",
    "1. ~~Evaluatiematen~~\n",
    "2. ~~baselines~~\n",
    "3. Optimalisatie/loss functies\n",
    "4. Cross validatie en grid search\n",
    "5. Significantie toetsen"
   ]
  },
  {
   "cell_type": "markdown",
   "metadata": {
    "slideshow": {
     "slide_type": "slide"
    }
   },
   "source": [
    "# Evaluatie regressie\n",
    "\n",
    "* Root mean squared error\n",
    "* R squared, $R^2$\n",
    "\n",
    "![](https://miro.medium.com/max/611/1*jopCO2kMEI84s6fiGKdXqg.png)"
   ]
  },
  {
   "cell_type": "markdown",
   "metadata": {
    "slideshow": {
     "slide_type": "slide"
    }
   },
   "source": [
    "## formules\n",
    "\n",
    "### RMSE\n",
    "\n",
    "* neem alle errors (ook wel 'residuals' genoemd)\n",
    "* kwadrateer ze\n",
    "    * maakt niet uit of ze onder of boven de lijn liggen (verschil pos of neg is)\n",
    "    * grote verschillen worden \"uitvergroot\"/extra bestraft.\n",
    "* neem het gemiddelde daarvan\n",
    "* en trek weer de wortel\n",
    "    * dan ben je weer in de eenheid waar je in begon\n",
    "* Error maat: dus hoe lager hoe beter.\n",
    "\n",
    "### $R^2$ *verklaarde variantie*\n",
    "\n",
    "*  een maat voor het deel van de variabiliteit dat wordt verklaard door het statistisch model.\n",
    "* getal tussen 0 en 1, of percentage. \n",
    "* Hoe hoger hoe beter."
   ]
  },
  {
   "cell_type": "markdown",
   "metadata": {
    "slideshow": {
     "slide_type": "slide"
    }
   },
   "source": [
    "# $R^2$ verklaarde variantie\n",
    "\n",
    "### Notatie\n",
    "\n",
    "* $y$ is de vector met true waardes\n",
    "* $\\bar{y}$ is het gemiddelde over alle waardes in $y$\n",
    "* $\\hat{y}$ is de vector met voorspelde waardes (even lang als $y$).\n",
    "\n",
    "### concepten\n",
    "\n",
    "* Variantie van $y$,   SST,  \n",
    "$$\\sum(y_i-\\bar{y})^2$$\n",
    "* SSR, sum of residuals\n",
    "$$\\sum(\\hat{y}_i-{y}_i)^2$$\n",
    "\n",
    "## $R^2$ is nu \n",
    "\n",
    "$$ R^2=1- \\frac{SSR}{SST} = 1 - \\frac{\\sum(\\hat{y}_i-{y}_i)^2}{\\sum(y_i-\\bar{y})^2}$$"
   ]
  },
  {
   "cell_type": "markdown",
   "metadata": {
    "slideshow": {
     "slide_type": "slide"
    }
   },
   "source": [
    "# Alternatief\n",
    "\n",
    "### concepten\n",
    "\n",
    "* Variantie van $y$,   SST,  \n",
    "$$\\sum(y_i-\\bar{y})^2$$\n",
    "* SSR, sum of residuals\n",
    "$$\\sum(\\hat{y}_i-{y}_i)^2$$\n",
    "* SSE, sum of squares explained, SSE\n",
    "$$\\sum(\\hat{y}_i-\\bar{y})^2$$\n",
    "\n",
    "## $R^2$ is nu  (met 1 verklarende variabele)\n",
    "\n",
    "$$ R^2= \\frac{SSE}{SST}= 1- \\frac{SSR}{SST}  $$\n",
    "\n",
    "\n",
    "### En met $n$:\n",
    "\n",
    "$$ R^2= \\frac{SSE/n}{SST/n}$$\n"
   ]
  },
  {
   "cell_type": "markdown",
   "metadata": {
    "slideshow": {
     "slide_type": "slide"
    }
   },
   "source": [
    "# Baseline voor regressie\n",
    "\n",
    "## wat is een goede keus?"
   ]
  },
  {
   "cell_type": "markdown",
   "metadata": {
    "slideshow": {
     "slide_type": "fragment"
    }
   },
   "source": [
    "* mean of mediaan\n",
    "* rechte lijn, altijd hetzelfde."
   ]
  },
  {
   "cell_type": "markdown",
   "metadata": {
    "slideshow": {
     "slide_type": "slide"
    }
   },
   "source": [
    "# Wat is de $R^2$ en wat de RMSE van de mean baseline.?\n",
    "\n",
    " \n",
    "\n",
    "$$ R^2= \\frac{SSE/n}{SST/n} = \\frac{\\sum(\\hat{y}_i-\\bar{y})^2/n}{\\sum(y_i-\\bar{y})^2/n}=\\ldots$$\n",
    "\n",
    "* En de RMSE?"
   ]
  },
  {
   "cell_type": "markdown",
   "metadata": {
    "slideshow": {
     "slide_type": "fragment"
    }
   },
   "source": [
    "$$ SE =  \\sum(y-\\hat{y})^2  =  \\sum(y-\\bar{y})^2 =  SST$$\n",
    "\n",
    "### de MSE\n",
    "\n",
    "* is dan de gemiddelde gekwadrateerde afstand tot het gemiddelde\n",
    "* en dat noemen we de variantie!\n",
    "\n",
    "### dus de RMSE is \n",
    "\n",
    "* de wortel van de variantie, en dat noemen we de std.\n",
    "\n",
    "$$ RMSE = \\sqrt{\\frac{SST}{n}}$$"
   ]
  },
  {
   "cell_type": "markdown",
   "metadata": {
    "slideshow": {
     "slide_type": "slide"
    }
   },
   "source": [
    "# Waar zijn we?\n",
    "\n",
    "### topics\n",
    "\n",
    "1. ~~Evaluatiematen~~\n",
    "2. ~~baselines~~\n",
    "3. Optimalisatie/loss functies\n",
    "4. Cross validatie en grid search\n",
    "5. Significantie toetsen"
   ]
  },
  {
   "cell_type": "markdown",
   "metadata": {
    "slideshow": {
     "slide_type": "slide"
    }
   },
   "source": [
    "# Optimalisatie/loss functies\n",
    "\n",
    "\n",
    "* Behandelen we uitgebreid in Week7, neurale netwerken.\n",
    "* Bij OLS regressie is de loss functie de SSE, de som van gekwadrateerde fouten.\n",
    "* **We kiezen die regressie lijn waarbij die som zo laag mogelijk is.**\n",
    "* We willen de *loss* altijd  **minimaliseren**\n",
    "\n",
    "### Supervised ML en loss\n",
    "\n",
    "* Je leert een model waarbij de loss op de train voorbeelden minimaal is.\n",
    "\n",
    "### Maar .....\n",
    "\n",
    "* Vaak is de echte loss functie een combinatie van \n",
    "    * *error* (het verschil tussne echte en voorspelde waardes)\n",
    "    * *regularisatie* (manier om de generalisatie van het model te bevorderen)"
   ]
  },
  {
   "cell_type": "markdown",
   "metadata": {
    "slideshow": {
     "slide_type": "slide"
    }
   },
   "source": [
    "# Waar zijn we?\n",
    "\n",
    "### topics\n",
    "\n",
    "1. ~~Evaluatiematen~~\n",
    "2. ~~baselines~~\n",
    "3. ~~Optimalisatie/loss functies~~\n",
    "4. Cross validatie en grid search\n",
    "5. Significantie toetsen"
   ]
  },
  {
   "cell_type": "markdown",
   "metadata": {
    "slideshow": {
     "slide_type": "slide"
    }
   },
   "source": [
    "# Cross validatie en grid search\n",
    "\n",
    "* **Grid search** is een gestructureerde manier om een hele hoop combinaties van mogelijke hyperparameters uit te proberen.\n",
    "    * het grid bestaat uit al die combinaties\n",
    "    * je zoekt naar die combinatie met de beste prestatie.\n",
    "    \n",
    "### Crossvalidatie\n",
    "\n",
    "* Manier om \n",
    "    * meer robuuste schatting van prestatie te krijgen\n",
    "    * meer van je dure gelabelde voorbeelden voor training te kunnen gebruiken\n",
    "    * een idee van de spreiding (confidence interval) van je kwaliteitsmaat te krijgen\n",
    "* K-fold cross validation\n",
    "    * Je trained en evalueert  $k$ keer je model, steeds op andere test en train sets.\n",
    "    * Dan heb je dus $k$ metrics."
   ]
  },
  {
   "cell_type": "markdown",
   "metadata": {
    "slideshow": {
     "slide_type": "slide"
    }
   },
   "source": [
    "# Cross validatie\n",
    "\n",
    "![](https://upload.wikimedia.org/wikipedia/commons/thumb/b/b5/K-fold_cross_validation_EN.svg/2560px-K-fold_cross_validation_EN.svg.png)"
   ]
  },
  {
   "cell_type": "markdown",
   "metadata": {
    "slideshow": {
     "slide_type": "slide"
    }
   },
   "source": [
    "# Cross validatie pas op\n",
    "\n",
    "* Neem de test sets niet te klein, zeker met multi class classificatie\n",
    "* Kijk altijd naar het box-plot van de waardes, niet alleen naar het gemiddelde\n",
    "* je wilt dat ze eigenlijk erg dicht bij elkaar liggen.\n",
    "\n",
    "## 95 % confidence interval\n",
    "\n",
    "* Bereken het gemiddelde en de standaard deviatie over de $k$ gevonden metrics.\n",
    "* Gebruik dan de gebruikelijke formule (met aanname dat de $k$ gevonden merics normaal verdeeld zijn):\n",
    "\n",
    "$$  \\mu \\pm \\frac{\\sigma}{\\sqrt{k}} $$"
   ]
  },
  {
   "cell_type": "markdown",
   "metadata": {
    "slideshow": {
     "slide_type": "slide"
    }
   },
   "source": [
    "# Significantie toetsen\n",
    "\n",
    "* kan op allerlei manieren, jullie kennen vast al T-toetsen\n",
    "\n",
    "###  De kern-vraag\n",
    "\n",
    "* Ik zie 0,... verschil in RMSE of F1 score tussen methode A en B, gemeten op deze testset.\n",
    "* Is dat een **echt verschil**? \n",
    "* Of kan het aan  **toeval** worden toegeschreven?\n",
    "\n",
    "### Simpele oplossing:\n",
    "\n",
    "* geef 95% confidence intervals bij elke maat die je rapporteert.\n",
    "* overlappen die niet, dan kan je rustig zeggen dat het verschil **echt is**."
   ]
  },
  {
   "cell_type": "markdown",
   "metadata": {
    "slideshow": {
     "slide_type": "slide"
    }
   },
   "source": [
    "# RMSE en confidence intervals\n",
    "\n",
    "* Wordt heel goed uitgelegd in [deze video](https://www.coursera.org/lecture/wharton-quantitative-modeling/4-4-r-squared-and-root-mean-squared-error-rmse-Nndhc)\n",
    "\n",
    "#### Idee: maak een schatting van waar de regressie lijn nou ligt met 95 % zekerheid.\n",
    "\n",
    "* Neem aan dat \n",
    "    1. de fouten  (*residuals*) overal *normaal verdeeld* zijn.\n",
    "    2. met uniforme standard deviatie overal\n",
    "* Vuistregel is dan: waarde ligt met ruwweg 95% zekerheid in *voorspelling* $\\pm 2\\cdot RMSE$.\n",
    "* je kan dat gebruiken om in je *regressieplot* die 95% betrouwbaarheids band te tekenen.\n",
    "\n",
    "\n",
    "## code to really compute it\n",
    "\n",
    "```\n",
    "sum_errs = np.sum((y_test - y_pred)**2)\n",
    "stdev = np.sqrt(1 / (len(y_test) - 2) * sum_errs) # net anders dan de RMSE, let op degrees of freedom\n",
    "#get interval from standard deviation\n",
    "z_score = stats.norm.ppf(1 - ((1-.95) / 2))  # .95 conf int returns 1.96\n",
    "interval = z_score * stdev\n",
    "``` "
   ]
  },
  {
   "cell_type": "code",
   "execution_count": 8,
   "metadata": {
    "slideshow": {
     "slide_type": "slide"
    }
   },
   "outputs": [
    {
     "name": "stdout",
     "output_type": "stream",
     "text": [
      "(244, 7)\n"
     ]
    },
    {
     "data": {
      "text/html": [
       "<div>\n",
       "<style scoped>\n",
       "    .dataframe tbody tr th:only-of-type {\n",
       "        vertical-align: middle;\n",
       "    }\n",
       "\n",
       "    .dataframe tbody tr th {\n",
       "        vertical-align: top;\n",
       "    }\n",
       "\n",
       "    .dataframe thead th {\n",
       "        text-align: right;\n",
       "    }\n",
       "</style>\n",
       "<table border=\"1\" class=\"dataframe\">\n",
       "  <thead>\n",
       "    <tr style=\"text-align: right;\">\n",
       "      <th></th>\n",
       "      <th>total_bill</th>\n",
       "      <th>tip</th>\n",
       "      <th>sex</th>\n",
       "      <th>smoker</th>\n",
       "      <th>day</th>\n",
       "      <th>time</th>\n",
       "      <th>size</th>\n",
       "    </tr>\n",
       "  </thead>\n",
       "  <tbody>\n",
       "    <tr>\n",
       "      <th>0</th>\n",
       "      <td>16.99</td>\n",
       "      <td>1.01</td>\n",
       "      <td>Female</td>\n",
       "      <td>No</td>\n",
       "      <td>Sun</td>\n",
       "      <td>Dinner</td>\n",
       "      <td>2</td>\n",
       "    </tr>\n",
       "    <tr>\n",
       "      <th>1</th>\n",
       "      <td>10.34</td>\n",
       "      <td>1.66</td>\n",
       "      <td>Male</td>\n",
       "      <td>No</td>\n",
       "      <td>Sun</td>\n",
       "      <td>Dinner</td>\n",
       "      <td>3</td>\n",
       "    </tr>\n",
       "  </tbody>\n",
       "</table>\n",
       "</div>"
      ],
      "text/plain": [
       "   total_bill   tip     sex smoker  day    time  size\n",
       "0       16.99  1.01  Female     No  Sun  Dinner     2\n",
       "1       10.34  1.66    Male     No  Sun  Dinner     3"
      ]
     },
     "execution_count": 8,
     "metadata": {},
     "output_type": "execute_result"
    },
    {
     "data": {
      "image/png": "[encoded data removed]",
      "text/plain": [
       "<Figure size 432x288 with 1 Axes>"
      ]
     },
     "metadata": {
      "needs_background": "light"
     },
     "output_type": "display_data"
    }
   ],
   "source": [
    "tips = sns.load_dataset('tips')\n",
    "print(tips.shape)\n",
    "sns.regplot(x='total_bill', y='tip', data=tips);\n",
    "tips.head(2)"
   ]
  },
  {
   "cell_type": "markdown",
   "metadata": {
    "slideshow": {
     "slide_type": "slide"
    }
   },
   "source": [
    "# Cijfers achter de komma\n",
    "\n",
    "* P, R en F1  en ook $R^2$ zijn maten tussen 0 en 1.\n",
    "* `sklearn` geeft die met liefde terug met 7 cijfers achter de komma.\n",
    "* **Moet je die allemaal laten zien?** \n",
    "\n",
    "<center><h1>NEE!</h1></center>\n",
    "\n",
    "* Ja, maar hoeveel dan wel? 2,3,4?\n",
    "* En als ik het nou als percentage geef, mag ik dan wel 2 cijfers achter de komma?\n",
    "\n",
    "### Vuistregel: kom niet naief over \n",
    "\n",
    "* veel cijfers achter de komma suggeren een heel grote precisie in je meting.\n",
    "* maar heb je die echt wel?\n",
    "\n",
    "### Oplossing: je 95% c.i.\n",
    "\n",
    "* Als jij een F1 hebt van .634892 met een c.i. van .06...\n",
    "* dan betekent het dat jou F1 score met 95% zekerheid ergens tussen .694 en .574 ligt. \n",
    "* dus je vertelt dan gewoon $.63\\pm.06$."
   ]
  },
  {
   "cell_type": "markdown",
   "metadata": {
    "slideshow": {
     "slide_type": "slide"
    }
   },
   "source": [
    "# Wrap up\n",
    "\n",
    "* Evaluatie is key in ML\n",
    "    * zowel voor ontwikkelen (hyperparameter tuning), als keuze van modellen\n",
    "* Daarom splitsen we gelabelde data altijd in train, (validatie), test \n",
    "    * en **gebruiken test zo weinig mogelijk**.\n",
    "* RMSE en $R^2$ voor regressie, \n",
    "* maten gebaseerd op confusion matrix voor classificatie.\n",
    "* Bepaal altijd een \"rule based\" niet-geleerde baseline, en vergelijk.\n",
    "* Wees je bewust van schijn-verschillen en van schijn-precisie.\n",
    "* K-fold Cross Validatie is vaak erg nuttig en geeft inzicht.\n",
    "\n",
    "\n",
    "### Hint\n",
    "\n",
    "* Die Marx vindt evaluatie echt heel belangrijk, hij zou er best eens wat tentamenvragen over kunnen stellen."
   ]
  }
 ],
 "metadata": {
  "anaconda-cloud": {},
  "celltoolbar": "Slideshow",
  "kernelspec": {
   "display_name": "Python 3",
   "language": "python",
   "name": "python3"
  },
  "language_info": {
   "codemirror_mode": {
    "name": "ipython",
    "version": 3
   },
   "file_extension": ".py",
   "mimetype": "text/x-python",
   "name": "python",
   "nbconvert_exporter": "python",
   "pygments_lexer": "ipython3",
   "version": "3.9.7"
  },
  "toc": {
   "nav_menu": {},
   "number_sections": false,
   "sideBar": true,
   "skip_h1_title": false,
   "title_cell": "Table of Contents",
   "title_sidebar": "Contents",
   "toc_cell": false,
   "toc_position": {},
   "toc_section_display": true,
   "toc_window_display": false
  }
 },
 "nbformat": 4,
 "nbformat_minor": 1
}

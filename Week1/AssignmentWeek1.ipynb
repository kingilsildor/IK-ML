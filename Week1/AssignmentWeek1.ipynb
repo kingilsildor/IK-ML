{
 "cells": [
  {
   "cell_type": "markdown",
   "metadata": {},
   "source": [
    "# Assignment Applied Machine Learning BSc IK "
   ]
  },
  {
   "cell_type": "markdown",
   "metadata": {
    "nbgrader": {
     "grade": false,
     "grade_id": "privacy",
     "locked": false,
     "schema_version": 3,
     "solution": false
    }
   },
   "source": [
    "## Notebook made by\n",
    "\n",
    "**Gebruik graag dit formaat**\n",
    "\n",
    "* Voor de namen:  voornaam rest van je naam, voornaam rest van je naam,....\n",
    "* je studentnummers: hetzelfde: scheidt met `,`\n",
    "* je emails: hetzelfde: scheidt met `,`\n",
    "* voor je groep: **alleen de hoofdletter** (iets als  `A` of `B` dus)\n",
    "\n",
    "__Namen__: Tycho Stam, Souad Laaziz, Lars de Jong\n",
    "\n",
    "__Emails__: tycho.stam@student.uva.nl, souad.laaziz@student.uva.nl, 2002larsdejong@gmail.com\n",
    "\n",
    "__Student ids__ : 13303147, 139834901, 13978268\n",
    "\n",
    "__Groep__ : B"
   ]
  },
  {
   "cell_type": "markdown",
   "metadata": {},
   "source": [
    "## Toelichting\n",
    "\n",
    "* Een aantal opgaven worden automatisch nagekeken. Bij vrijwel alle opdrachten staan er een paar tests onder de opdracht, dit is voornamelijk om te zorgen dat je de juiste type output geeft. Dit zijn dus *NIET* alle tests, die komen er bij het graden nog bij.\n",
    "* Elke vraag is 1 punt waard, tenzij anders aangegeven. Soms is die punt onderverdeeld in deelpunten, maar niet altijd. \n",
    "\n",
    "## Voor het inleveren!\n",
    "\n",
    "* Pas niet de cellen aan, vooral niet die je niet kunt editen. Dit levert problemen op bij nakijken. Twijfel je of je per ongeluk iets hebt gewijzigd, kopieer dan bij inleveren je antwoorden naar een nieuw bestand, zodat het niet fout kan gaan.\n",
    "\n",
    "* Zorg dat de code goed runt van boven naar beneden, verifieer dat door boven in Kernel -> Restart & Run All uit te voeren\n",
    "\n",
    "## Na het inleveren!\n",
    "\n",
    "* Het gebeurt erg vaak dat mensen een \"leeg bestand\" inleveren. Vaak een andere versie van de opgave die nog ergens op je computer rondslingerde. Zonde van al je werk toch!\n",
    "* Dus, lever **minstens een half uur voor tijd in**. Download dan wat je hebt ingeleverd op Canvas. Geef het een andere naam om verwarring te voorkomen. En draai alle cellen, en bekijk het. Geen syntax fouten? Alle vragen gemaakt? Dan zit het vast wel goed, en hoef je niet in de zenuwen te zitten."
   ]
  },
  {
   "cell_type": "markdown",
   "metadata": {
    "deletable": false,
    "editable": false,
    "id": "X-yY70P1pnS6",
    "nbgrader": {
     "cell_type": "markdown",
     "checksum": "82da87da8f1a450d81fbfa15e951a3fb",
     "grade": false,
     "grade_id": "cell-575272ac8c88383d",
     "locked": true,
     "schema_version": 3,
     "solution": false
    }
   },
   "source": [
    "# Applied Machine Learning W1\n",
    " "
   ]
  },
  {
   "cell_type": "code",
   "execution_count": 1,
   "metadata": {
    "colab": {
     "base_uri": "https://localhost:8080/"
    },
    "deletable": false,
    "editable": false,
    "execution": {
     "iopub.execute_input": "2023-03-01T12:52:11.412494Z",
     "iopub.status.busy": "2023-03-01T12:52:11.410972Z",
     "iopub.status.idle": "2023-03-01T12:52:14.328099Z",
     "shell.execute_reply": "2023-03-01T12:52:14.328704Z"
    },
    "executionInfo": {
     "elapsed": 5685,
     "status": "ok",
     "timestamp": 1618341657662,
     "user": {
      "displayName": "Bob De witte",
      "photoUrl": "",
      "userId": "14788410831395393646"
     },
     "user_tz": -60
    },
    "id": "OwtzrP7-z4LS",
    "nbgrader": {
     "cell_type": "code",
     "checksum": "1b01a49de3dc95c799fd399f591e1560",
     "grade": false,
     "grade_id": "nose",
     "locked": true,
     "schema_version": 3,
     "solution": false
    },
    "outputId": "2790d9c4-f682-4b96-ac6b-a023ed9c24b3"
   },
   "outputs": [
    {
     "name": "stdout",
     "output_type": "stream",
     "text": [
      "Requirement already satisfied: nose in c:\\users\\tycho\\anaconda3\\envs\\ml\\lib\\site-packages (1.3.7)\n"
     ]
    }
   ],
   "source": [
    "!pip install nose"
   ]
  },
  {
   "cell_type": "code",
   "execution_count": 2,
   "metadata": {
    "deletable": false,
    "editable": false,
    "execution": {
     "iopub.execute_input": "2023-03-01T12:52:14.336341Z",
     "iopub.status.busy": "2023-03-01T12:52:14.335799Z",
     "iopub.status.idle": "2023-03-01T12:52:16.537637Z",
     "shell.execute_reply": "2023-03-01T12:52:16.538083Z"
    },
    "id": "vkP8dRV-pnTI",
    "nbgrader": {
     "cell_type": "code",
     "checksum": "62a2753f522c0a9a7758c77b31a99bfd",
     "grade": false,
     "grade_id": "cell-f55bc95980e83e55",
     "locked": true,
     "schema_version": 3,
     "solution": false
    },
    "pycharm": {
     "is_executing": false
    }
   },
   "outputs": [],
   "source": [
    "import os\n",
    "import sys\n",
    "\n",
    "import numpy as np\n",
    "import pandas as pd\n",
    "import seaborn as sns\n",
    "\n",
    "import sklearn\n",
    "from scipy.stats import mode\n",
    "from nose.tools import assert_count_equal, assert_equal\n",
    "from numpy.testing import *\n",
    "from pandas.testing import assert_frame_equal\n",
    "from sklearn import linear_model\n",
    "from sklearn.linear_model import LinearRegression\n",
    "from sklearn.preprocessing import PolynomialFeatures\n",
    "from sklearn import datasets\n",
    "# Please do not remove this: \n",
    "np.random.seed(31415)"
   ]
  },
  {
   "cell_type": "markdown",
   "metadata": {
    "deletable": false,
    "editable": false,
    "nbgrader": {
     "cell_type": "markdown",
     "checksum": "b7a566395bf9dd24fe39c3be9f2147da",
     "grade": false,
     "grade_id": "th",
     "locked": true,
     "schema_version": 3,
     "solution": false
    }
   },
   "source": [
    "# Theory\n",
    "\n",
    "With these questions you and your group will practice your ability to formulate key concepts precisely and short. \n",
    "Such questions  also appear in the exams, and are graded quite strict.\n",
    "\n",
    "Always answer in one grammatically correct English sentence. \n",
    "\n",
    "Finish the following sentences:\n",
    "\n",
    "1. Machine learning algorithms build a model ...\n",
    "2. Machine learning can be divided into three parts, namely .....\n",
    "3. Each of these 3 parts can be described as follows:\n",
    "    1. .... is ....\n",
    "    1. .... is ....\n",
    "    1. .... is ....\n",
    "4. The key difference between regression and classification problems is .....\n"
   ]
  },
  {
   "cell_type": "markdown",
   "metadata": {},
   "source": [
    "----------------------"
   ]
  },
  {
   "cell_type": "markdown",
   "metadata": {
    "deletable": false,
    "nbgrader": {
     "cell_type": "markdown",
     "checksum": "bb5562762f320d9dec1038b28fed2176",
     "grade": true,
     "grade_id": "tha",
     "locked": false,
     "points": 1,
     "schema_version": 3,
     "solution": true
    }
   },
   "source": [
    "1. Machine learning algorithms build a model based on sample data, in order to make predictions on new unseen data, without being explicitly told to do so. \n",
    "2. Unsupervised learning, Supervised learning, Reinforcement learning.\n",
    "3. \n",
    "    1. Unsupervised learning is grouping and sorting. Hereby the details are abstracted.\n",
    "    1. Supervised learning is learning how to predict a value on a property of unseen items for having seen many examples.\n",
    "    1. Reinforcement learning is learning with practice and getting feedback everytime.\n",
    "4. Both are ways to predict a new example. The difference is in the type of the predicted example. By Regression the type is numeric, by classification it will be a class/tag"
   ]
  },
  {
   "cell_type": "markdown",
   "metadata": {},
   "source": [
    "-------------------------"
   ]
  },
  {
   "cell_type": "markdown",
   "metadata": {
    "deletable": false,
    "editable": false,
    "nbgrader": {
     "cell_type": "markdown",
     "checksum": "f0b3e89ab2b281827b55efe339240f4c",
     "grade": false,
     "grade_id": "part0",
     "locked": true,
     "schema_version": 3,
     "solution": false
    }
   },
   "source": [
    "## Part 0 classification with the iris data set, using knn"
   ]
  },
  {
   "cell_type": "code",
   "execution_count": 3,
   "metadata": {
    "deletable": false,
    "editable": false,
    "execution": {
     "iopub.execute_input": "2023-03-01T12:52:16.542337Z",
     "iopub.status.busy": "2023-03-01T12:52:16.541826Z",
     "iopub.status.idle": "2023-03-01T12:52:16.548898Z",
     "shell.execute_reply": "2023-03-01T12:52:16.549253Z"
    },
    "nbgrader": {
     "cell_type": "code",
     "checksum": "95c0a4249298206ebd0cba6abc6c5ea5",
     "grade": false,
     "grade_id": "iris1",
     "locked": true,
     "schema_version": 3,
     "solution": false
    }
   },
   "outputs": [
    {
     "name": "stdout",
     "output_type": "stream",
     "text": [
      "(150, 4) (150,)\n",
      "[[5.1 3.5 1.4 0.2]\n",
      " [4.9 3.  1.4 0.2]\n",
      " [4.7 3.2 1.3 0.2]\n",
      " [4.6 3.1 1.5 0.2]\n",
      " [5.  3.6 1.4 0.2]]\n",
      "[0 0 0 0 0 0 0 0 0 0 0 0 0 0 0 0 0 0 0 0 0 0 0 0 0 0 0 0 0 0 0 0 0 0 0 0 0\n",
      " 0 0 0 0 0 0 0 0 0 0 0 0 0 1 1 1 1 1 1 1 1 1 1 1 1 1 1 1 1 1 1 1 1 1 1 1 1\n",
      " 1 1 1 1 1 1 1 1 1 1 1 1 1 1 1 1 1 1 1 1 1 1 1 1 1 1 2 2 2 2 2 2 2 2 2 2 2\n",
      " 2 2 2 2 2 2 2 2 2 2 2 2 2 2 2 2 2 2 2 2 2 2 2 2 2 2 2 2 2 2 2 2 2 2 2 2 2\n",
      " 2 2]\n"
     ]
    }
   ],
   "source": [
    "#https://scikit-learn.org/stable/modules/generated/sklearn.datasets.load_iris.html\n",
    "iris= datasets.load_iris()\n",
    "\n",
    "X,y= iris.data, iris.target\n",
    "print(X.shape,y.shape)\n",
    "print(X[:5])\n",
    "print(y)"
   ]
  },
  {
   "cell_type": "markdown",
   "metadata": {
    "deletable": false,
    "editable": false,
    "nbgrader": {
     "cell_type": "markdown",
     "checksum": "f93c750d6d7382c56acc9cb2a977c791",
     "grade": false,
     "grade_id": "irist",
     "locked": true,
     "schema_version": 3,
     "solution": false
    }
   },
   "source": [
    "# train test\n",
    "\n",
    "Use `np.random.choice` to create random `X_train, X_test, y_train, y_test`  such that \n",
    "\n",
    "1. 90 train, 60 test\n",
    "2. Stratified, so an equal amount of cases from each of the three classes in the train and test sets.\n",
    "\n",
    "Make tests to test that what you create is according to these specs."
   ]
  },
  {
   "cell_type": "markdown",
   "metadata": {
    "deletable": false,
    "editable": false,
    "nbgrader": {
     "cell_type": "markdown",
     "checksum": "a3e4d8062c0db1f8336ed6e965cbc28c",
     "grade": false,
     "grade_id": "irist2",
     "locked": true,
     "schema_version": 3,
     "solution": false
    }
   },
   "source": [
    "## Note about our questions, and how to answer them\n",
    "\n",
    "Here and later we may ask you to program things explicitly, and thus **not** using a scikit learn or other routine. Please do so, and practice this. We will do the same in the exam. It is important that you understand the algorithms behind the concepts that you use. That is the reason. Also we believe that you understand and remember things better when you have programmed than from scratch.\n",
    "\n",
    "Of course you can google the answer in a few minutes and copy-paste it. But does that give your satisfaction or gratification? Do you *learn* anything from it? Please do not work like that. You make these assignments with 4 students, so you really have a lot of time. Make them all, compare and discuss the 4 found solutions, improve and refactor  them to one super great siolution. And, if all this does not appeal to you, then maybe this does: at the exam we will also ask these questions, and you do not have access to the web then. \n",
    "\n",
    "### making tests\n",
    "\n",
    "This is an underdeveloped skill with many students. Why? Testing your own answer gives you a good feeling, it often lets you improve your answer, and can also be seen as a way to find the (complete) answer. **Please practice it and take it seriously.** At the exam you will have a notebook too, and so you can also test your own answers. Being skillfull in testing will boost your grade."
   ]
  },
  {
   "cell_type": "code",
   "execution_count": 4,
   "metadata": {},
   "outputs": [],
   "source": [
    "# The function np.random.Generator.choice is used because this can handle a 2d array\n",
    "X_train, y_train = np.random.default_rng().choice(X, 90, axis=0),  np.random.choice(y,90)\n",
    "X_test, y_test = np.random.default_rng().choice(X, 60, axis=0), np.random.choice(y,60)\n",
    "\n"
   ]
  },
  {
   "cell_type": "code",
   "execution_count": 5,
   "metadata": {
    "deletable": false,
    "execution": {
     "iopub.execute_input": "2023-03-01T12:52:16.555003Z",
     "iopub.status.busy": "2023-03-01T12:52:16.554522Z",
     "iopub.status.idle": "2023-03-01T12:52:16.557589Z",
     "shell.execute_reply": "2023-03-01T12:52:16.557936Z"
    },
    "nbgrader": {
     "cell_type": "code",
     "checksum": "2d9214d57d3f80fa47e1f863d90d11e6",
     "grade": false,
     "grade_id": "iristta",
     "locked": false,
     "schema_version": 3,
     "solution": true
    }
   },
   "outputs": [
    {
     "data": {
      "text/plain": [
       "[True, True, True, True]"
      ]
     },
     "execution_count": 5,
     "metadata": {},
     "output_type": "execute_result"
    }
   ],
   "source": [
    "from sklearn.model_selection import train_test_split\n",
    "X_train, X_test, y_train, y_test = train_test_split(X, y, test_size=0.40, shuffle=True, random_state=0)\n",
    "\n",
    "def check_shape(M):    \n",
    "    if M.shape in [(90,4),(90,),(60,4),(60,)]:\n",
    "        return True\n",
    "    else:\n",
    "        return False\n",
    "\n",
    "[check_shape(M) for M in [X_train, y_train, X_test,  y_test]]"
   ]
  },
  {
   "cell_type": "code",
   "execution_count": 6,
   "metadata": {
    "deletable": false,
    "editable": false,
    "execution": {
     "iopub.execute_input": "2023-03-01T12:52:16.561877Z",
     "iopub.status.busy": "2023-03-01T12:52:16.561538Z",
     "iopub.status.idle": "2023-03-01T12:52:16.563927Z",
     "shell.execute_reply": "2023-03-01T12:52:16.564301Z"
    },
    "nbgrader": {
     "cell_type": "code",
     "checksum": "c47b149939e1b35b9d228cdd8261d655",
     "grade": true,
     "grade_id": "ttt",
     "locked": true,
     "points": 0,
     "schema_version": 3,
     "solution": false
    }
   },
   "outputs": [],
   "source": [
    "assert_equal(X_train.shape,(90, 4))\n",
    "assert_equal(X_test.shape,(60, 4))\n",
    "assert_equal(y_train.shape,(90, ))\n",
    "assert_equal(y_test.shape,(60, ))"
   ]
  },
  {
   "cell_type": "markdown",
   "metadata": {
    "deletable": false,
    "editable": false,
    "nbgrader": {
     "cell_type": "markdown",
     "checksum": "ee1cc257a29270dfdeef56dc36409c6c",
     "grade": false,
     "grade_id": "irisknn",
     "locked": true,
     "schema_version": 3,
     "solution": false
    }
   },
   "source": [
    "# knn classifier\n",
    "\n",
    "Program from scratch a knn classifier which can work on data `X` and `y` as you have from the iris dataset.\n",
    "\n",
    "It returns the most common label in the k nearest neighbors.\n",
    "\n",
    "### Hints\n",
    "\n",
    "* use `euclidean` as your distance function\n",
    "* `X_train[0,:]` picks out the first instance from `X_train`.\n",
    "* Use *fancy indexing* to take out a number of items from a numpy array. as in `X[8,35,7,2]`.\n",
    "* `np.argsort` is handy."
   ]
  },
  {
   "cell_type": "code",
   "execution_count": 7,
   "metadata": {
    "deletable": false,
    "execution": {
     "iopub.execute_input": "2023-03-01T12:52:16.579628Z",
     "iopub.status.busy": "2023-03-01T12:52:16.577849Z",
     "iopub.status.idle": "2023-03-01T12:52:16.582736Z",
     "shell.execute_reply": "2023-03-01T12:52:16.583135Z"
    },
    "nbgrader": {
     "cell_type": "code",
     "checksum": "4899914940bf4e13d8e67d1cffa8eb05",
     "grade": false,
     "grade_id": "irisknna",
     "locked": false,
     "schema_version": 3,
     "solution": true
    }
   },
   "outputs": [
    {
     "name": "stdout",
     "output_type": "stream",
     "text": [
      "[2, 1, 0, 2, 0, 2, 0, 1, 1, 1]\n"
     ]
    },
    {
     "name": "stderr",
     "output_type": "stream",
     "text": [
      "C:\\Users\\Tycho\\AppData\\Local\\Temp\\ipykernel_2908\\698600086.py:8: FutureWarning: Unlike other reduction functions (e.g. `skew`, `kurtosis`), the default behavior of `mode` typically preserves the axis it acts along. In SciPy 1.11.0, this behavior will change: the default value of `keepdims` will become False, the `axis` over which the statistic is taken will be eliminated, and the value None will no longer be accepted. Set `keepdims` to True or False to avoid this warning.\n",
      "  return mode(kNN_Y)[0][0]\n"
     ]
    }
   ],
   "source": [
    "from scipy.stats import mode\n",
    "from scipy.spatial.distance import euclidean\n",
    "\n",
    "\n",
    "def knn(X,y,example,k=5):\n",
    "    '''Classify example using majority vote of the k closest items in X with labels y.'''\n",
    "    kNN_Y = y[np.argsort([euclidean(example, node) for node in X])[:k]]\n",
    "    return mode(kNN_Y)[0][0]\n",
    "\n",
    "knn_values = [knn(X_train,y_train,i) for i in X_test[:10]] \n",
    "print(knn_values)"
   ]
  },
  {
   "cell_type": "markdown",
   "metadata": {
    "deletable": false,
    "editable": false,
    "nbgrader": {
     "cell_type": "markdown",
     "checksum": "7732a4dbcc13b407d4433925303d56bd",
     "grade": false,
     "grade_id": "irisknneval",
     "locked": true,
     "schema_version": 3,
     "solution": false
    }
   },
   "source": [
    "# Evaluate\n",
    "\n",
    "Run knn on `X_test` and compare the outcomes to `y_test`.\n",
    "\n",
    "Come up with a useful and insightfull error report."
   ]
  },
  {
   "cell_type": "code",
   "execution_count": 8,
   "metadata": {},
   "outputs": [
    {
     "data": {
      "text/plain": [
       "(array([2, 1, 0, 2, 0, 2, 0, 1, 1, 1]), [2, 1, 0, 2, 0, 2, 0, 1, 1, 1])"
      ]
     },
     "execution_count": 8,
     "metadata": {},
     "output_type": "execute_result"
    }
   ],
   "source": [
    "y_test[:10], knn_values"
   ]
  },
  {
   "cell_type": "code",
   "execution_count": 9,
   "metadata": {
    "deletable": false,
    "execution": {
     "iopub.execute_input": "2023-03-01T12:52:16.595590Z",
     "iopub.status.busy": "2023-03-01T12:52:16.590243Z",
     "iopub.status.idle": "2023-03-01T12:52:16.687922Z",
     "shell.execute_reply": "2023-03-01T12:52:16.688272Z"
    },
    "nbgrader": {
     "cell_type": "code",
     "checksum": "88b56402886d501f49390e16ff14a301",
     "grade": true,
     "grade_id": "irisevala",
     "locked": false,
     "points": 1,
     "schema_version": 3,
     "solution": true
    }
   },
   "outputs": [
    {
     "data": {
      "text/plain": [
       "[True, True, True, True, True, True, True, True, True, True]"
      ]
     },
     "execution_count": 9,
     "metadata": {},
     "output_type": "execute_result"
    }
   ],
   "source": [
    "# Compare y_test with the knn_values for y\n",
    "[y_test[:10][i] == knn_values[i] for i in range(len(knn_values))]"
   ]
  },
  {
   "cell_type": "code",
   "execution_count": 10,
   "metadata": {},
   "outputs": [
    {
     "name": "stdout",
     "output_type": "stream",
     "text": [
      "Accuracy:95.0%\n"
     ]
    },
    {
     "name": "stderr",
     "output_type": "stream",
     "text": [
      "C:\\Users\\Tycho\\AppData\\Local\\Temp\\ipykernel_2908\\698600086.py:8: FutureWarning: Unlike other reduction functions (e.g. `skew`, `kurtosis`), the default behavior of `mode` typically preserves the axis it acts along. In SciPy 1.11.0, this behavior will change: the default value of `keepdims` will become False, the `axis` over which the statistic is taken will be eliminated, and the value None will no longer be accepted. Set `keepdims` to True or False to avoid this warning.\n",
      "  return mode(kNN_Y)[0][0]\n"
     ]
    }
   ],
   "source": [
    "y_pred = [knn(X_train, y_train, i) for i in X_test]\n",
    "print('Accuracy:{}%'.format((np.array(y_test)==np.array(y_pred)).mean() * 100))"
   ]
  },
  {
   "cell_type": "markdown",
   "metadata": {
    "deletable": false,
    "editable": false,
    "nbgrader": {
     "cell_type": "markdown",
     "checksum": "d15b8d8310c1607b74afe76460f3c867",
     "grade": false,
     "grade_id": "heap",
     "locked": true,
     "schema_version": 3,
     "solution": false
    }
   },
   "source": [
    "# Make more efficient\n",
    "\n",
    "1. Estimate what work is done when running knn on one new to be classified instance, given that it has $n$ training examples. \n",
    "2. How expensive is the sorting step?\n",
    "3. Remove the sorting step by programming a heap of size $k$ which contains from the train set already inspected  the $k$ closest instances to the unseen example."
   ]
  },
  {
   "cell_type": "markdown",
   "metadata": {
    "deletable": false,
    "nbgrader": {
     "cell_type": "markdown",
     "checksum": "b27a47198787d76eba2ed04b2a539238",
     "grade": true,
     "grade_id": "heapa",
     "locked": false,
     "points": 1,
     "schema_version": 3,
     "solution": true
    }
   },
   "source": [
    "https://en.wikipedia.org/wiki/Heapsort\n",
    "> By a Heapsort the program creates a binary tree. Whereby the new example will be placed in the tree based on the neighbours.\n",
    "Heapsort has performance time of $O(n\\log{}n)$ "
   ]
  },
  {
   "cell_type": "code",
   "execution_count": 11,
   "metadata": {
    "deletable": false,
    "execution": {
     "iopub.execute_input": "2023-03-01T12:52:16.697632Z",
     "iopub.status.busy": "2023-03-01T12:52:16.696253Z",
     "iopub.status.idle": "2023-03-01T12:52:16.705021Z",
     "shell.execute_reply": "2023-03-01T12:52:16.705449Z"
    },
    "nbgrader": {
     "cell_type": "code",
     "checksum": "1fe618e1da226dba611e2de33f0840e9",
     "grade": false,
     "grade_id": "heapa2",
     "locked": false,
     "schema_version": 3,
     "solution": true
    }
   },
   "outputs": [
    {
     "name": "stdout",
     "output_type": "stream",
     "text": [
      "[2, 1, 0, 2, 0, 2, 0, 1, 1, 1]\n"
     ]
    },
    {
     "name": "stderr",
     "output_type": "stream",
     "text": [
      "C:\\Users\\Tycho\\AppData\\Local\\Temp\\ipykernel_2908\\2635597848.py:19: FutureWarning: Unlike other reduction functions (e.g. `skew`, `kurtosis`), the default behavior of `mode` typically preserves the axis it acts along. In SciPy 1.11.0, this behavior will change: the default value of `keepdims` will become False, the `axis` over which the statistic is taken will be eliminated, and the value None will no longer be accepted. Set `keepdims` to True or False to avoid this warning.\n",
      "  return mode(kNN_Y)[0][0]\n"
     ]
    }
   ],
   "source": [
    "def knn_heap(X,y,example,k=5):\n",
    "    '''Classify example using majority vote of the k closest items in X with labels y. \n",
    "    For every example calculate the closed neighbours and place them in a heap sort.\n",
    "    Only keep the 5 closests items and remove the others. Check this for all the items'''\n",
    "    heap = []\n",
    "    euclidean_arr = [(euclidean(example, items), i) for i, items in enumerate(X)]\n",
    "    for distance in euclidean_arr:\n",
    "        if len(heap) < k:\n",
    "            heap.append(distance)\n",
    "            if len(heap) == k:\n",
    "                heap.sort()\n",
    "        else:\n",
    "            farthest = heap[-1]\n",
    "            if distance < farthest:\n",
    "                heap[-1] = distance\n",
    "                heap.sort()\n",
    "                \n",
    "    kNN_Y = y[[i[1] for i in heap]]\n",
    "    return mode(kNN_Y)[0][0]\n",
    "\n",
    "knn_heap_values = [knn_heap(X_train,y_train,i) for i in X_test[:10]] \n",
    "print(knn_heap_values) "
   ]
  },
  {
   "cell_type": "code",
   "execution_count": 12,
   "metadata": {},
   "outputs": [
    {
     "data": {
      "text/plain": [
       "[[(1.183215956619923, 0),\n",
       "  (4.263801121065568, 1),\n",
       "  (0.5099019513592784, 2),\n",
       "  (1.4387494569938155, 3),\n",
       "  (1.873499399519519, 4)]]"
      ]
     },
     "execution_count": 12,
     "metadata": {},
     "output_type": "execute_result"
    }
   ],
   "source": [
    "def knn_heap2(X,y,example,k=5):\n",
    "    heap = []\n",
    "    euclidean_arr = [(euclidean(example, items), i) for i, items in enumerate(X)]\n",
    "    for distance in euclidean_arr:\n",
    "        if len(heap) < k:\n",
    "            heap.append(distance)\n",
    "    return heap\n",
    "\n",
    "[knn_heap2(X_train,y_train,i) for i in X_test[:1]] "
   ]
  },
  {
   "cell_type": "markdown",
   "metadata": {},
   "source": [
    "## Mesure performance\n"
   ]
  },
  {
   "cell_type": "code",
   "execution_count": 13,
   "metadata": {},
   "outputs": [
    {
     "name": "stdout",
     "output_type": "stream",
     "text": [
      "Execution time of arg sort: 0.0598\n",
      "Execution time of heap sort: 0.0576\n"
     ]
    },
    {
     "name": "stderr",
     "output_type": "stream",
     "text": [
      "C:\\Users\\Tycho\\AppData\\Local\\Temp\\ipykernel_2908\\698600086.py:8: FutureWarning: Unlike other reduction functions (e.g. `skew`, `kurtosis`), the default behavior of `mode` typically preserves the axis it acts along. In SciPy 1.11.0, this behavior will change: the default value of `keepdims` will become False, the `axis` over which the statistic is taken will be eliminated, and the value None will no longer be accepted. Set `keepdims` to True or False to avoid this warning.\n",
      "  return mode(kNN_Y)[0][0]\n",
      "C:\\Users\\Tycho\\AppData\\Local\\Temp\\ipykernel_2908\\2635597848.py:19: FutureWarning: Unlike other reduction functions (e.g. `skew`, `kurtosis`), the default behavior of `mode` typically preserves the axis it acts along. In SciPy 1.11.0, this behavior will change: the default value of `keepdims` will become False, the `axis` over which the statistic is taken will be eliminated, and the value None will no longer be accepted. Set `keepdims` to True or False to avoid this warning.\n",
      "  return mode(kNN_Y)[0][0]\n"
     ]
    }
   ],
   "source": [
    "import time\n",
    "iterations = 10\n",
    "\n",
    "# Calculate time arg sort\n",
    "start_time = time.perf_counter()\n",
    "\n",
    "for i in range(iterations):\n",
    "    [knn(X_train,y_train,i) for i in X_test[:10]]\n",
    "    \n",
    "end_time = time.perf_counter()\n",
    "time_function1 = end_time - start_time\n",
    "\n",
    "# Calculate time heap sort\n",
    "start_time = time.perf_counter()\n",
    "\n",
    "for i in range(iterations):\n",
    "    [knn_heap(X_train,y_train,i) for i in X_test[:10]]\n",
    "    \n",
    "end_time = time.perf_counter()\n",
    "time_function2 = end_time - start_time\n",
    "\n",
    "# Compare the execution times\n",
    "print(\"Execution time of arg sort:\", round(time_function1, 4))\n",
    "print(\"Execution time of heap sort:\", round(time_function2, 4))"
   ]
  },
  {
   "cell_type": "markdown",
   "metadata": {},
   "source": [
    "## Evaluate"
   ]
  },
  {
   "cell_type": "code",
   "execution_count": 14,
   "metadata": {},
   "outputs": [
    {
     "data": {
      "text/plain": [
       "[True, True, True, True, True, True, True, True, True, True]"
      ]
     },
     "execution_count": 14,
     "metadata": {},
     "output_type": "execute_result"
    }
   ],
   "source": [
    "# Compare y_test with the knn_values and knn_heap_values for y\n",
    "[y_test[:10][i] == knn_values[i] == knn_heap_values[i] for i in range(len(knn_values))]"
   ]
  },
  {
   "cell_type": "code",
   "execution_count": 15,
   "metadata": {},
   "outputs": [
    {
     "name": "stdout",
     "output_type": "stream",
     "text": [
      "Heap Accuracy:95.0%\n"
     ]
    },
    {
     "name": "stderr",
     "output_type": "stream",
     "text": [
      "C:\\Users\\Tycho\\AppData\\Local\\Temp\\ipykernel_2908\\2635597848.py:19: FutureWarning: Unlike other reduction functions (e.g. `skew`, `kurtosis`), the default behavior of `mode` typically preserves the axis it acts along. In SciPy 1.11.0, this behavior will change: the default value of `keepdims` will become False, the `axis` over which the statistic is taken will be eliminated, and the value None will no longer be accepted. Set `keepdims` to True or False to avoid this warning.\n",
      "  return mode(kNN_Y)[0][0]\n"
     ]
    }
   ],
   "source": [
    "y_pred = [knn_heap(X_train, y_train, i) for i in X_test]\n",
    "print('Heap Accuracy:{}%'.format((np.array(y_test)==np.array(y_pred)).mean() * 100))"
   ]
  },
  {
   "cell_type": "markdown",
   "metadata": {
    "deletable": false,
    "editable": false,
    "id": "tYWhz0bxdZo9",
    "nbgrader": {
     "cell_type": "markdown",
     "checksum": "e627ff51f2f552cdd88f90e02ed61ee0",
     "grade": false,
     "grade_id": "cell-8452bfe549fa98ac",
     "locked": true,
     "schema_version": 3,
     "solution": false
    }
   },
   "source": [
    "# Predicting a value with knn-regression\n",
    "\n",
    "## Part 1: Loading the data into a Pandas Data Frame  "
   ]
  },
  {
   "cell_type": "markdown",
   "metadata": {
    "deletable": false,
    "editable": false,
    "id": "_X5Vt2jMpnTX",
    "nbgrader": {
     "cell_type": "markdown",
     "checksum": "4a6c69ccd90e8b7155025f7f0bea2857",
     "grade": false,
     "grade_id": "1a",
     "locked": true,
     "schema_version": 3,
     "solution": false
    }
   },
   "source": [
    "The descriptions of the columns of the dataset can be found here:\n",
    "\n",
    "**pop**: population\n",
    "\n",
    "**pctUrban**: percentage of people living in areas classified as urban\n",
    "\n",
    "**medIncome**: Median Income\n",
    "\n",
    "**pct12-29**: percentage of population that is 12-21 in age\n",
    "\n",
    "**pct65up**: percentage of population that is 65 and over in age\n",
    "\n",
    "**pctPoverty**: percentage of people under the poverty level\n",
    "\n",
    "**pctAllDivorc**: percentage of population who are divorced\n",
    "\n",
    "**pctUnemploy**: percentage of people 16 and over, in the labor force, and unemployed\n",
    "\n",
    "**perHoush**: mean persons per household\n",
    "\n",
    "**pctHousOccup**: percent of housing occupied\n",
    "\n",
    "**persHomeless**: number of homeless people\n",
    "\n",
    "**persEmergShelt**: number of people in homeless shelters\n",
    "\n",
    "**nonViolPerPop**: total number of non-violent crimes per 100K popuation\n",
    "\n",
    "**State**: the state in which this town/city is located\n",
    "\n",
    "**countyCode**: the code number of the county of the state this town/city is located\n"
   ]
  },
  {
   "cell_type": "markdown",
   "metadata": {
    "deletable": false,
    "editable": false,
    "id": "l2kUe2uupnTY",
    "nbgrader": {
     "cell_type": "markdown",
     "checksum": "bedb86a7b8388cd494485a4bb7bec32a",
     "grade": false,
     "grade_id": "1b",
     "locked": true,
     "schema_version": 3,
     "solution": false
    }
   },
   "source": [
    "\n",
    "### Question 1a:\n",
    "Load the data into a Pandas DataFrame. At this point, make sure that you only load the following columns: \n",
    "\n",
    "`'pop', 'pctUrban', 'medIncome', 'pct12-29', 'pct65up', 'pctPoverty', 'pctAllDivorc', 'pctUnemploy', 'perHoush', 'pctHousOccup', 'persHomeless', 'persEmergShelt', 'nonViolPerPop'`\n",
    "\n",
    "\n",
    "Here and elsewhere, when we load data, always use the `loadfile()` command. Like in `pd.read_csv(loadfile())`. We do this because when we (auto)grade we have the file not in the same directory as the notebook."
   ]
  },
  {
   "cell_type": "code",
   "execution_count": 16,
   "metadata": {
    "deletable": false,
    "editable": false,
    "execution": {
     "iopub.execute_input": "2023-03-01T12:52:16.709263Z",
     "iopub.status.busy": "2023-03-01T12:52:16.708918Z",
     "iopub.status.idle": "2023-03-01T12:52:16.710611Z",
     "shell.execute_reply": "2023-03-01T12:52:16.710988Z"
    },
    "id": "TZbYd5WvpnTZ",
    "nbgrader": {
     "cell_type": "code",
     "checksum": "d05763fb1d92ed6640b9caa11d0eb5fe",
     "grade": false,
     "grade_id": "1c",
     "locked": true,
     "schema_version": 3,
     "solution": false
    },
    "pycharm": {
     "is_executing": false
    }
   },
   "outputs": [],
   "source": [
    "def loadfile():\n",
    "    if 'crime_data.csv.gz' in os.listdir():\n",
    "        return 'crime_data.csv.gz'\n",
    "    elif os.path.exists('../../data/Week1/'):\n",
    "        return '../../data/Week1/crime_data.csv.gz'\n",
    "    elif os.path.exists('../../../data/Week1/'):\n",
    "        return '../../../data/Week1/crime_data.csv.gz'\n",
    "    \n"
   ]
  },
  {
   "cell_type": "code",
   "execution_count": 17,
   "metadata": {
    "colab": {
     "base_uri": "https://localhost:8080/",
     "height": 426
    },
    "deletable": false,
    "execution": {
     "iopub.execute_input": "2023-03-01T12:52:16.714954Z",
     "iopub.status.busy": "2023-03-01T12:52:16.714611Z",
     "iopub.status.idle": "2023-03-01T12:52:16.739789Z",
     "shell.execute_reply": "2023-03-01T12:52:16.740217Z"
    },
    "executionInfo": {
     "elapsed": 6740,
     "status": "error",
     "timestamp": 1618341658738,
     "user": {
      "displayName": "Bob De witte",
      "photoUrl": "",
      "userId": "14788410831395393646"
     },
     "user_tz": -60
    },
    "id": "Nucu0E17pnTk",
    "nbgrader": {
     "cell_type": "code",
     "checksum": "fc6eb752aec729b90b42a928b39dc8c1",
     "grade": false,
     "grade_id": "cell-9a5813b911a397d1",
     "locked": false,
     "schema_version": 3,
     "solution": true
    },
    "outputId": "cfa384cb-56ca-4d18-c2be-6f3cb64bfe43",
    "pycharm": {
     "is_executing": false
    }
   },
   "outputs": [
    {
     "name": "stdout",
     "output_type": "stream",
     "text": [
      "(949, 13)\n"
     ]
    },
    {
     "data": {
      "text/html": [
       "<div>\n",
       "<style scoped>\n",
       "    .dataframe tbody tr th:only-of-type {\n",
       "        vertical-align: middle;\n",
       "    }\n",
       "\n",
       "    .dataframe tbody tr th {\n",
       "        vertical-align: top;\n",
       "    }\n",
       "\n",
       "    .dataframe thead th {\n",
       "        text-align: right;\n",
       "    }\n",
       "</style>\n",
       "<table border=\"1\" class=\"dataframe\">\n",
       "  <thead>\n",
       "    <tr style=\"text-align: right;\">\n",
       "      <th></th>\n",
       "      <th>pop</th>\n",
       "      <th>pctUrban</th>\n",
       "      <th>medIncome</th>\n",
       "      <th>pct12-29</th>\n",
       "      <th>pct65up</th>\n",
       "      <th>pctPoverty</th>\n",
       "      <th>pctAllDivorc</th>\n",
       "      <th>pctUnemploy</th>\n",
       "      <th>perHoush</th>\n",
       "      <th>pctHousOccup</th>\n",
       "      <th>persHomeless</th>\n",
       "      <th>persEmergShelt</th>\n",
       "      <th>nonViolPerPop</th>\n",
       "    </tr>\n",
       "  </thead>\n",
       "  <tbody>\n",
       "    <tr>\n",
       "      <th>0</th>\n",
       "      <td>11980.0</td>\n",
       "      <td>100.0</td>\n",
       "      <td>75122.0</td>\n",
       "      <td>21.44</td>\n",
       "      <td>11.33</td>\n",
       "      <td>1.96</td>\n",
       "      <td>4.47</td>\n",
       "      <td>2.70</td>\n",
       "      <td>3.10</td>\n",
       "      <td>98.37</td>\n",
       "      <td>0</td>\n",
       "      <td>11</td>\n",
       "      <td>1394.59</td>\n",
       "    </tr>\n",
       "    <tr>\n",
       "      <th>1</th>\n",
       "      <td>23123.0</td>\n",
       "      <td>100.0</td>\n",
       "      <td>NaN</td>\n",
       "      <td>21.30</td>\n",
       "      <td>17.18</td>\n",
       "      <td>3.98</td>\n",
       "      <td>5.42</td>\n",
       "      <td>2.43</td>\n",
       "      <td>2.82</td>\n",
       "      <td>97.15</td>\n",
       "      <td>0</td>\n",
       "      <td>0</td>\n",
       "      <td>1955.95</td>\n",
       "    </tr>\n",
       "    <tr>\n",
       "      <th>2</th>\n",
       "      <td>NaN</td>\n",
       "      <td>0.0</td>\n",
       "      <td>NaN</td>\n",
       "      <td>40.53</td>\n",
       "      <td>12.65</td>\n",
       "      <td>29.99</td>\n",
       "      <td>9.73</td>\n",
       "      <td>9.08</td>\n",
       "      <td>2.76</td>\n",
       "      <td>92.45</td>\n",
       "      <td>0</td>\n",
       "      <td>2</td>\n",
       "      <td>9988.79</td>\n",
       "    </tr>\n",
       "    <tr>\n",
       "      <th>3</th>\n",
       "      <td>28700.0</td>\n",
       "      <td>100.0</td>\n",
       "      <td>42805.0</td>\n",
       "      <td>27.41</td>\n",
       "      <td>14.42</td>\n",
       "      <td>4.01</td>\n",
       "      <td>7.64</td>\n",
       "      <td>4.85</td>\n",
       "      <td>2.60</td>\n",
       "      <td>95.11</td>\n",
       "      <td>0</td>\n",
       "      <td>0</td>\n",
       "      <td>1890.88</td>\n",
       "    </tr>\n",
       "    <tr>\n",
       "      <th>4</th>\n",
       "      <td>74111.0</td>\n",
       "      <td>100.0</td>\n",
       "      <td>NaN</td>\n",
       "      <td>35.16</td>\n",
       "      <td>8.58</td>\n",
       "      <td>13.68</td>\n",
       "      <td>8.64</td>\n",
       "      <td>4.18</td>\n",
       "      <td>2.46</td>\n",
       "      <td>95.07</td>\n",
       "      <td>15</td>\n",
       "      <td>125</td>\n",
       "      <td>4747.58</td>\n",
       "    </tr>\n",
       "  </tbody>\n",
       "</table>\n",
       "</div>"
      ],
      "text/plain": [
       "       pop  pctUrban  medIncome  pct12-29  pct65up  pctPoverty  pctAllDivorc  \\\n",
       "0  11980.0     100.0    75122.0     21.44    11.33        1.96          4.47   \n",
       "1  23123.0     100.0        NaN     21.30    17.18        3.98          5.42   \n",
       "2      NaN       0.0        NaN     40.53    12.65       29.99          9.73   \n",
       "3  28700.0     100.0    42805.0     27.41    14.42        4.01          7.64   \n",
       "4  74111.0     100.0        NaN     35.16     8.58       13.68          8.64   \n",
       "\n",
       "   pctUnemploy  perHoush  pctHousOccup  persHomeless  persEmergShelt  \\\n",
       "0         2.70      3.10         98.37             0              11   \n",
       "1         2.43      2.82         97.15             0               0   \n",
       "2         9.08      2.76         92.45             0               2   \n",
       "3         4.85      2.60         95.11             0               0   \n",
       "4         4.18      2.46         95.07            15             125   \n",
       "\n",
       "   nonViolPerPop  \n",
       "0        1394.59  \n",
       "1        1955.95  \n",
       "2        9988.79  \n",
       "3        1890.88  \n",
       "4        4747.58  "
      ]
     },
     "execution_count": 17,
     "metadata": {},
     "output_type": "execute_result"
    }
   ],
   "source": [
    "# Load the dataset\n",
    "crime_data = pd.read_csv(loadfile())\n",
    "crime_data = crime_data[['pop', 'pctUrban', 'medIncome', 'pct12-29', 'pct65up', 'pctPoverty', 'pctAllDivorc',\n",
    "                        'pctUnemploy', 'perHoush', 'pctHousOccup', 'persHomeless', 'persEmergShelt', 'nonViolPerPop']]\n",
    "\n",
    "\n",
    "print(crime_data.shape)\n",
    "crime_data.head()"
   ]
  },
  {
   "cell_type": "code",
   "execution_count": 18,
   "metadata": {
    "deletable": false,
    "editable": false,
    "execution": {
     "iopub.execute_input": "2023-03-01T12:52:16.744667Z",
     "iopub.status.busy": "2023-03-01T12:52:16.744273Z",
     "iopub.status.idle": "2023-03-01T12:52:16.746358Z",
     "shell.execute_reply": "2023-03-01T12:52:16.746761Z"
    },
    "nbgrader": {
     "cell_type": "code",
     "checksum": "a399db079b5e31c62ece7d2451e8206a",
     "grade": true,
     "grade_id": "reada",
     "locked": true,
     "points": 1,
     "schema_version": 3,
     "solution": false
    }
   },
   "outputs": [],
   "source": [
    "assert_equal(crime_data.shape,(949, 13))\n",
    "assert_count_equal(crime_data.columns,['pop',\n",
    "            'pctUrban',\n",
    "            'medIncome',\n",
    "            'pct12-29',\n",
    "            'pct65up',\n",
    "            'pctPoverty',\n",
    "            'pctAllDivorc',\n",
    "            'pctUnemploy',\n",
    "            'perHoush',\n",
    "            'pctHousOccup',\n",
    "            'persHomeless',\n",
    "            'persEmergShelt',\n",
    "            'nonViolPerPop'\n",
    "           ])"
   ]
  },
  {
   "cell_type": "markdown",
   "metadata": {
    "deletable": false,
    "editable": false,
    "id": "7FyKPnPepnT9",
    "nbgrader": {
     "cell_type": "markdown",
     "checksum": "bcce91e220b87b045fc836c84f4eb917",
     "grade": false,
     "grade_id": "cell-793ac60698061e82",
     "locked": true,
     "schema_version": 3,
     "solution": false
    }
   },
   "source": [
    "### Question 1b:\n",
    "We want to predict the number of crimes. Identify the features X and the target variable Y, and turn the X and Y DataFrames into Numpy arrays.\n",
    "\n",
    "Make sure `Y` is of shape `(949, 1)`."
   ]
  },
  {
   "cell_type": "code",
   "execution_count": 19,
   "metadata": {
    "deletable": false,
    "execution": {
     "iopub.execute_input": "2023-03-01T12:52:16.753135Z",
     "iopub.status.busy": "2023-03-01T12:52:16.752786Z",
     "iopub.status.idle": "2023-03-01T12:52:16.754546Z",
     "shell.execute_reply": "2023-03-01T12:52:16.754888Z"
    },
    "id": "_FzIEG5DdZo-",
    "nbgrader": {
     "cell_type": "code",
     "checksum": "77a539deddec828c3cbb7a7d88a385cb",
     "grade": false,
     "grade_id": "cell-8eb698d0c3f532fd",
     "locked": false,
     "schema_version": 3,
     "solution": true
    },
    "pycharm": {
     "is_executing": false
    }
   },
   "outputs": [
    {
     "name": "stdout",
     "output_type": "stream",
     "text": [
      "<class 'numpy.ndarray'>\n",
      "(949, 12) (949, 1)\n",
      "[[1.1980e+04 1.0000e+02 7.5122e+04 2.1440e+01 1.1330e+01 1.9600e+00\n",
      "  4.4700e+00 2.7000e+00 3.1000e+00 9.8370e+01 0.0000e+00 1.1000e+01]\n",
      " [2.3123e+04 1.0000e+02        nan 2.1300e+01 1.7180e+01 3.9800e+00\n",
      "  5.4200e+00 2.4300e+00 2.8200e+00 9.7150e+01 0.0000e+00 0.0000e+00]\n",
      " [       nan 0.0000e+00        nan 4.0530e+01 1.2650e+01 2.9990e+01\n",
      "  9.7300e+00 9.0800e+00 2.7600e+00 9.2450e+01 0.0000e+00 2.0000e+00]]\n",
      "[[1394.59]\n",
      " [1955.95]\n",
      " [9988.79]\n",
      " [1890.88]\n",
      " [4747.58]]\n"
     ]
    }
   ],
   "source": [
    "X = crime_data[['pop', 'pctUrban', 'medIncome', 'pct12-29', 'pct65up', 'pctPoverty', 'pctAllDivorc', 'pctUnemploy', 'perHoush', 'pctHousOccup', 'persHomeless', 'persEmergShelt']].to_numpy()\n",
    "Y = crime_data[['nonViolPerPop']].to_numpy()\n",
    "\n",
    "print(type(X))\n",
    "print(X.shape,Y.shape)\n",
    "print(X[:3])\n",
    "print(Y[:5])"
   ]
  },
  {
   "cell_type": "code",
   "execution_count": 20,
   "metadata": {
    "deletable": false,
    "editable": false,
    "execution": {
     "iopub.execute_input": "2023-03-01T12:52:16.758611Z",
     "iopub.status.busy": "2023-03-01T12:52:16.758269Z",
     "iopub.status.idle": "2023-03-01T12:52:16.759901Z",
     "shell.execute_reply": "2023-03-01T12:52:16.760261Z"
    },
    "nbgrader": {
     "cell_type": "code",
     "checksum": "b89d5d4a7671055c4129cc89ec4cf29f",
     "grade": true,
     "grade_id": "p1",
     "locked": true,
     "points": 1,
     "schema_version": 3,
     "solution": false
    }
   },
   "outputs": [],
   "source": [
    "assert isinstance(X, np.ndarray)\n",
    "assert isinstance(y, np.ndarray)\n",
    "assert_equal(X.shape,(949, 12))\n",
    "assert_equal(Y.shape,(949, 1))"
   ]
  },
  {
   "cell_type": "markdown",
   "metadata": {
    "deletable": false,
    "editable": false,
    "id": "P9YvTy9kdZpG",
    "nbgrader": {
     "cell_type": "markdown",
     "checksum": "14b7a8e66d6dfe628a1f4af1188fb10b",
     "grade": false,
     "grade_id": "cell-afc0b6593e782894",
     "locked": true,
     "schema_version": 3,
     "solution": false
    }
   },
   "source": [
    "## Part 2: Split the data into a training set and a test set \n",
    "### Question 2:\n",
    "Split the data into a training and a test set, using teh appropriate sklearn function. Use a  70%-30% split.  \n",
    "Print the number of examples in the training set and the test set."
   ]
  },
  {
   "cell_type": "code",
   "execution_count": 21,
   "metadata": {
    "deletable": false,
    "execution": {
     "iopub.execute_input": "2023-03-01T12:52:16.764415Z",
     "iopub.status.busy": "2023-03-01T12:52:16.764047Z",
     "iopub.status.idle": "2023-03-01T12:52:16.766295Z",
     "shell.execute_reply": "2023-03-01T12:52:16.766647Z"
    },
    "id": "e_oiLoaWdZpH",
    "nbgrader": {
     "cell_type": "code",
     "checksum": "fa64a075ae6ed557673397513a9eb88f",
     "grade": false,
     "grade_id": "cell-cb09606197bd3f58",
     "locked": false,
     "schema_version": 3,
     "solution": true
    },
    "pycharm": {
     "is_executing": false
    }
   },
   "outputs": [
    {
     "name": "stdout",
     "output_type": "stream",
     "text": [
      "(664, 12)\n",
      "(285, 12)\n",
      "(664, 1)\n",
      "(285, 1)\n"
     ]
    }
   ],
   "source": [
    "from sklearn.model_selection import train_test_split\n",
    "X_train, X_test, Y_train, Y_test = train_test_split(X, Y, test_size=0.30, shuffle=True, random_state=0)\n",
    "\n",
    "\n",
    "for M in [X_train, X_test, Y_train, Y_test]:\n",
    "    print(M.shape)"
   ]
  },
  {
   "cell_type": "code",
   "execution_count": 22,
   "metadata": {
    "deletable": false,
    "editable": false,
    "execution": {
     "iopub.execute_input": "2023-03-01T12:52:16.771225Z",
     "iopub.status.busy": "2023-03-01T12:52:16.770661Z",
     "iopub.status.idle": "2023-03-01T12:52:16.773384Z",
     "shell.execute_reply": "2023-03-01T12:52:16.773838Z"
    },
    "nbgrader": {
     "cell_type": "code",
     "checksum": "25187bc812c9abaa37fdacc398a36311",
     "grade": true,
     "grade_id": "p2",
     "locked": true,
     "points": 1,
     "schema_version": 3,
     "solution": false
    }
   },
   "outputs": [],
   "source": [
    "assert X_train.shape== (664, 12)\n",
    "assert Y_test.shape== (285,1)\n"
   ]
  },
  {
   "cell_type": "markdown",
   "metadata": {
    "deletable": false,
    "editable": false,
    "id": "ZIYFfQN0dZpM",
    "nbgrader": {
     "cell_type": "markdown",
     "checksum": "3d6a6ad9339a5433eab73ac7abf6cc7c",
     "grade": false,
     "grade_id": "cell-473a187a1ce777d3",
     "locked": true,
     "schema_version": 3,
     "solution": false
    }
   },
   "source": [
    "## Part 3: Knn Regression [2 pts]"
   ]
  },
  {
   "cell_type": "code",
   "execution_count": 23,
   "metadata": {
    "execution": {
     "iopub.execute_input": "2023-03-01T12:52:16.779457Z",
     "iopub.status.busy": "2023-03-01T12:52:16.779092Z",
     "iopub.status.idle": "2023-03-01T12:52:16.781283Z",
     "shell.execute_reply": "2023-03-01T12:52:16.781666Z"
    }
   },
   "outputs": [
    {
     "data": {
      "text/plain": [
       "pop               95\n",
       "pctUrban           0\n",
       "medIncome         95\n",
       "pct12-29           0\n",
       "pct65up            0\n",
       "pctPoverty         0\n",
       "pctAllDivorc       0\n",
       "pctUnemploy        0\n",
       "perHoush           0\n",
       "pctHousOccup       0\n",
       "persHomeless       0\n",
       "persEmergShelt     0\n",
       "nonViolPerPop      0\n",
       "dtype: int64"
      ]
     },
     "execution_count": 23,
     "metadata": {},
     "output_type": "execute_result"
    }
   ],
   "source": [
    "# figure out what this means, and what does it mean when taking the sum?\n",
    "crime_data.isna().sum()"
   ]
  },
  {
   "cell_type": "markdown",
   "metadata": {},
   "source": [
    "> We calculate the amount of missing values for each column. So the column pop has a total of 95 missing values"
   ]
  },
  {
   "cell_type": "code",
   "execution_count": 24,
   "metadata": {
    "execution": {
     "iopub.execute_input": "2023-03-01T12:52:16.785764Z",
     "iopub.status.busy": "2023-03-01T12:52:16.785379Z",
     "iopub.status.idle": "2023-03-01T12:52:16.788018Z",
     "shell.execute_reply": "2023-03-01T12:52:16.788476Z"
    }
   },
   "outputs": [
    {
     "data": {
      "text/plain": [
       "array([[False, False, False, ..., False, False, False],\n",
       "       [False, False,  True, ..., False, False, False],\n",
       "       [False, False, False, ..., False, False, False],\n",
       "       ...,\n",
       "       [False, False, False, ..., False, False, False],\n",
       "       [False, False, False, ..., False, False, False],\n",
       "       [False, False, False, ..., False, False, False]])"
      ]
     },
     "execution_count": 24,
     "metadata": {},
     "output_type": "execute_result"
    }
   ],
   "source": [
    "np.isnan(X_test)#.sum(0)"
   ]
  },
  {
   "cell_type": "code",
   "execution_count": 25,
   "metadata": {
    "execution": {
     "iopub.execute_input": "2023-03-01T12:52:16.792895Z",
     "iopub.status.busy": "2023-03-01T12:52:16.792502Z",
     "iopub.status.idle": "2023-03-01T12:52:16.794712Z",
     "shell.execute_reply": "2023-03-01T12:52:16.795083Z"
    }
   },
   "outputs": [
    {
     "data": {
      "text/plain": [
       "array([False, False, False, False, False, False, False, False, False,\n",
       "       False, False, False, False, False, False,  True,  True, False,\n",
       "       False, False, False, False, False, False, False, False, False,\n",
       "       False, False, False, False, False, False, False, False, False,\n",
       "       False, False, False, False, False, False, False,  True,  True,\n",
       "       False, False, False, False, False, False, False,  True, False,\n",
       "       False, False, False, False, False, False, False, False, False,\n",
       "       False, False, False, False, False, False, False, False, False,\n",
       "       False, False, False, False, False, False,  True, False, False,\n",
       "       False, False, False, False, False,  True, False, False, False,\n",
       "       False, False, False, False, False, False, False, False, False,\n",
       "       False, False, False, False, False, False, False, False, False,\n",
       "        True, False, False, False, False, False,  True,  True,  True,\n",
       "        True, False, False, False,  True, False,  True, False, False,\n",
       "       False, False, False, False, False, False, False, False, False,\n",
       "       False, False, False, False, False, False,  True, False, False,\n",
       "       False, False, False, False, False, False, False, False, False,\n",
       "       False, False, False, False, False,  True, False, False, False,\n",
       "       False, False, False, False, False, False, False, False, False,\n",
       "        True, False, False, False, False, False, False, False,  True,\n",
       "       False,  True, False, False, False, False, False, False, False,\n",
       "       False, False, False,  True, False, False,  True, False, False,\n",
       "       False, False,  True, False, False, False, False,  True, False,\n",
       "       False, False, False, False, False, False, False, False, False,\n",
       "       False, False, False, False, False, False, False,  True, False,\n",
       "       False, False, False,  True, False, False, False, False, False,\n",
       "       False, False, False, False, False, False, False, False, False,\n",
       "       False, False, False, False, False, False, False, False, False,\n",
       "       False, False, False, False, False,  True, False, False, False,\n",
       "       False, False,  True, False, False, False, False, False, False,\n",
       "        True, False, False,  True, False, False, False, False,  True,\n",
       "       False, False, False, False, False, False])"
      ]
     },
     "execution_count": 25,
     "metadata": {},
     "output_type": "execute_result"
    }
   ],
   "source": [
    "np.isnan(X_test[:,0])#.sum()"
   ]
  },
  {
   "cell_type": "markdown",
   "metadata": {
    "deletable": false,
    "editable": false,
    "id": "prbPvQZodZpN",
    "nbgrader": {
     "cell_type": "markdown",
     "checksum": "52fddad4e8b02fa636554b311c0664cb",
     "grade": false,
     "grade_id": "cell-5db55cc890570964",
     "locked": true,
     "schema_version": 3,
     "solution": false
    }
   },
   "source": [
    "**Missing Data**: Often the data you are considering is incomplete. For example in some city, the number of homeless people might be unknown. In this case, if you look into the datasets you will find the value *NaN*. This is not a real value, hence Linear Regression cannot handle it.\n",
    "\n",
    "The question is how can we handle missing data. There are many ways to do so, some more sophisticated than others. Here we will use a simple approach. This simple approach fills in the missing values, i.e. replaces the *NaN* by the median of the corresponding feature. E.g. if there is a *NaN* value for the population in one city, this *NaN* value will be replaced by the median number of the population in all other cities in the data.\n",
    "\n",
    "1. figure out what this code  `np.isnan(X_test).sum(axis=0), np.isnan(X_train).sum(axis=0) `    is doing. Remove the `axis=0`, and replace it by `axis=1`. You get it?\n",
    "2. What is the median of the values in the first column of `X_test`?  (variable `v2`)\n",
    "    * Why does `np.median` not work ;-) You are close though! \n",
    "3. Create the first column of X_test in which you replaced all nan values by the median of the first column. (variable `v3`)\n",
    "5. Then do this for all columns at once   using Scikit learn's `SimpleImputer`.\n",
    "    * So the new `X_train` and `X_test` have no more missing values.\n",
    "6. Check that you get exactly the same result using your own method and sklearn's.  "
   ]
  },
  {
   "cell_type": "code",
   "execution_count": 26,
   "metadata": {
    "deletable": false,
    "execution": {
     "iopub.execute_input": "2023-03-01T12:52:16.800242Z",
     "iopub.status.busy": "2023-03-01T12:52:16.799044Z",
     "iopub.status.idle": "2023-03-01T12:52:16.802142Z",
     "shell.execute_reply": "2023-03-01T12:52:16.802490Z"
    },
    "nbgrader": {
     "cell_type": "code",
     "checksum": "0f3a8827ebedc7699b1f716a131c2af2",
     "grade": false,
     "grade_id": "p3a",
     "locked": false,
     "schema_version": 3,
     "solution": true
    }
   },
   "outputs": [
    {
     "name": "stdout",
     "output_type": "stream",
     "text": [
      "21605.0\n",
      "[27244. 22353. 17637. 56177. 32383. 10793. 10823. 22097. 16162. 25925.]\n",
      "0\n",
      "[ True  True  True  True  True  True  True  True  True  True  True  True\n",
      "  True  True  True  True  True  True  True  True  True  True  True  True\n",
      "  True  True  True  True  True  True]\n"
     ]
    }
   ],
   "source": [
    "v2= np.nanmedian(X_test[:,0])\n",
    "v3= np.nan_to_num(X_test[:,0], nan=v2)\n",
    "\n",
    "print(v2)\n",
    "print(v3[:10])\n",
    "print(np.isnan(v3).sum())\n",
    "# naize test\n",
    "# all places in v3 which were nan in  X_test[:,0] are now equal to v2\n",
    "print(v3[np.isnan(X_test[:,0])]==v2)"
   ]
  },
  {
   "cell_type": "code",
   "execution_count": 27,
   "metadata": {
    "deletable": false,
    "editable": false,
    "execution": {
     "iopub.execute_input": "2023-03-01T12:52:16.807269Z",
     "iopub.status.busy": "2023-03-01T12:52:16.806933Z",
     "iopub.status.idle": "2023-03-01T12:52:16.808569Z",
     "shell.execute_reply": "2023-03-01T12:52:16.808935Z"
    },
    "nbgrader": {
     "cell_type": "code",
     "checksum": "eb12fdffbeb452154399a8f9b7c1e611",
     "grade": true,
     "grade_id": "p3t",
     "locked": true,
     "points": 1,
     "schema_version": 3,
     "solution": false
    }
   },
   "outputs": [
    {
     "name": "stderr",
     "output_type": "stream",
     "text": [
      "C:\\Users\\Tycho\\AppData\\Local\\Temp\\ipykernel_2908\\346195263.py:1: DeprecationWarning: `np.float` is a deprecated alias for the builtin `float`. To silence this warning, use `float` by itself. Doing this will not modify any behavior and is safe. If you specifically wanted the numpy scalar type, use `np.float64` here.\n",
      "Deprecated in NumPy 1.20; for more details and guidance: https://numpy.org/devdocs/release/1.20.0-notes.html#deprecations\n",
      "  assert isinstance(v2,np.float)\n"
     ]
    }
   ],
   "source": [
    "assert isinstance(v2,np.float) \n",
    "assert np.isnan(v3).sum()==0"
   ]
  },
  {
   "cell_type": "code",
   "execution_count": 28,
   "metadata": {
    "deletable": false,
    "execution": {
     "iopub.execute_input": "2023-03-01T12:52:16.813022Z",
     "iopub.status.busy": "2023-03-01T12:52:16.812607Z",
     "iopub.status.idle": "2023-03-01T12:52:16.877813Z",
     "shell.execute_reply": "2023-03-01T12:52:16.878203Z"
    },
    "id": "DZEv4VfCdZpP",
    "nbgrader": {
     "cell_type": "code",
     "checksum": "f45985564dff665156b3a22017c3607a",
     "grade": false,
     "grade_id": "cell-0777a154778f1fe3",
     "locked": false,
     "schema_version": 3,
     "solution": true
    },
    "pycharm": {
     "is_executing": false
    }
   },
   "outputs": [
    {
     "name": "stdout",
     "output_type": "stream",
     "text": [
      "0\n",
      "0\n",
      "[  27244.   22353.   17637.   56177.   32383.   10793.   10823.   22097.\n",
      "   16162.   25925.   53008.   12454.   12926.   60838.   11329.   21605.\n",
      "   21605.   10828.   19513.  231636.   14536.   54052.   16064.  122700.\n",
      "   30270.   16786.   10830.   11538.   10639.   54718.   26609.   13198.\n",
      "   10104.   55180.   36701.   30548.   11739.   29092.   28158.   26840.\n",
      "   10531.   41194.   13597.   21605.   21605.   22935.   53418.  632270.\n",
      "   39757.  286215.   30510.   27099.   21605.   17173.   13083.   24544.\n",
      "   16946.   15945.   22539.   19821.  103439.   50677.   27134.   15571.\n",
      "   48718.   49676.   14936.   25067.   21977.  606900.  140761.   18820.\n",
      "   24309.   12339.   27603.   10742.   31933.   31846.   21605.   12747.\n",
      "   28658.  228537.   16230.   14837.   22355.   13882.   21605.   17076.\n",
      "   43877.   11951.   88675.   14514.   10539.   15489.   31468.   12361.\n",
      "   20820.   11929.   50889.   22095.   38372.   21605.   19757.   10988.\n",
      "   15216.  328123.   12623.   45061.   21605.   17668.   19848.   34507.\n",
      "   28870.   51418.   21605.   21605.   21605.   21605.   28703.   21160.\n",
      "   25430.   21605.   23330.   21605.   51618.   63221.   12805.   24730.\n",
      "   28844.   12844.   76060.  182044.   65410.  108961.   13178.   18910.\n",
      "   18604.   27974.   13700.   54780.   48478.   21605.  672971.   38936.\n",
      "   35943.   75491.   15698.   10636.   33485.   11706.   61018.   20710.\n",
      "   13132.   18045.   76371.   33284.   25001.   45048.   21605.   26716.\n",
      "   12023.   13882.   61444.   11207.   11488.   24800.   12362.   13326.\n",
      "   12180.   81177.   17076.   21605.   71245.   34598.   12329.   10742.\n",
      "   49425.   14510.   19807.   21605.   34874.   21605.   10405.   15467.\n",
      "   47089.   37446.   10579.   49256.   41042.   12385.   29603.   19027.\n",
      "   21605.   20267.   19530.   21605.   33467.   13333.   19801.   24710.\n",
      "   21605.   12767.   29038.   14903.   11822.   21605.   20976.   11475.\n",
      "   18859.   33836.   22779.   16603.   12563.   16813.   23123.   12358.\n",
      "   57546.   14638.   15517.   92703.   35184.  133793.   13289.   21605.\n",
      "   17715.   32509.   13899.   10978.   21605.   12929.   14213.   70487.\n",
      "   10891.  139739.   28808.   18403.   10415.   22207.   18549.   13325.\n",
      "   78331.  364040.   15411.   13547.   49389.   30771.   40283.   18334.\n",
      "   23756.  203056.   12199.   14870.   13187.   11005.   33694.   14790.\n",
      "   19483.   21605.   10098.   12066.   17392.   10971.   14088.   21605.\n",
      "   11712.   58362.   11856.   31258.   12649.   64358.   21605.   18811.\n",
      "   99567.   21605.  160728.   25355.   13937.   18530.   21605. 1585577.\n",
      "   15181.   14637.   47025.   41856.   31287.]\n"
     ]
    }
   ],
   "source": [
    "# Fill in the missing data in the dataset (i.e. replace NaN values in both X_train and X_test) \n",
    "from sklearn.impute import SimpleImputer\n",
    "\n",
    "X_train = SimpleImputer(missing_values=np.nan, strategy='median').fit_transform(X_train)\n",
    "X_test = SimpleImputer(missing_values=np.nan, strategy='median').fit_transform(X_test)\n",
    "\n",
    "print(np.isnan(X_train).sum())\n",
    "print(np.isnan(X_test).sum())\n",
    "print(X_test[:,0])"
   ]
  },
  {
   "cell_type": "code",
   "execution_count": 29,
   "metadata": {
    "deletable": false,
    "editable": false,
    "execution": {
     "iopub.execute_input": "2023-03-01T12:52:16.883246Z",
     "iopub.status.busy": "2023-03-01T12:52:16.882698Z",
     "iopub.status.idle": "2023-03-01T12:52:16.886934Z",
     "shell.execute_reply": "2023-03-01T12:52:16.887301Z"
    },
    "nbgrader": {
     "cell_type": "code",
     "checksum": "073c3a15bbee7865874bd690781b0a00",
     "grade": true,
     "grade_id": "p3tt",
     "locked": true,
     "points": 1,
     "schema_version": 3,
     "solution": false
    }
   },
   "outputs": [],
   "source": [
    "assert_equal(np.isnan(X_train).sum(),0)\n",
    "assert_equal(np.isnan(X_test).sum(),0)\n"
   ]
  },
  {
   "cell_type": "markdown",
   "metadata": {},
   "source": [
    "# Check that you get exactly the same result using your own method and sklearn's.\n",
    "\n"
   ]
  },
  {
   "cell_type": "code",
   "execution_count": 30,
   "metadata": {
    "deletable": false,
    "execution": {
     "iopub.execute_input": "2023-03-01T12:52:16.890269Z",
     "iopub.status.busy": "2023-03-01T12:52:16.889856Z",
     "iopub.status.idle": "2023-03-01T12:52:16.891799Z",
     "shell.execute_reply": "2023-03-01T12:52:16.892205Z"
    },
    "nbgrader": {
     "cell_type": "code",
     "checksum": "bdf76e360b282d29596f2e5ac46aaa11",
     "grade": true,
     "grade_id": "check",
     "locked": false,
     "points": 0,
     "schema_version": 3,
     "solution": true
    }
   },
   "outputs": [
    {
     "data": {
      "text/plain": [
       "(True, True)"
      ]
     },
     "execution_count": 30,
     "metadata": {},
     "output_type": "execute_result"
    }
   ],
   "source": [
    "X_test[np.isnan(X_test)] = np.nanmedian(X_test)\n",
    "X_train[np.isnan(X_train)] = np.nanmedian(X_train)\n",
    "\n",
    "(X_test == SimpleImputer(missing_values=np.nan, strategy='median').fit_transform(X_test)).all(), (X_train == SimpleImputer(missing_values=np.nan, strategy='median').fit_transform(X_train)).all()"
   ]
  },
  {
   "cell_type": "markdown",
   "metadata": {
    "deletable": false,
    "editable": false,
    "nbgrader": {
     "cell_type": "markdown",
     "checksum": "38b76197c5b46d846914527a5c510406",
     "grade": false,
     "grade_id": "knn",
     "locked": true,
     "schema_version": 3,
     "solution": false
    }
   },
   "source": [
    "# KNN\n",
    "\n",
    "Make now the KNN regression algorithm from scratch.\n",
    "\n",
    "* use euclidean again \n",
    "* use `np.argsort` and `[:k]` to find the indexes of the k nearest neighbor rows\n",
    "* use so called *fancy indexing* on numpy array \n",
    "    * `X_train[[2,5,3]]` gives the 2D array with the 2nd, 5th and 3rd row of `X_train`.\n",
    "\n",
    "\n",
    "## Evaluate with RMSE (root mean square error)\n",
    "\n",
    "1. Program the formula for RMSE from scratch \n",
    "2. Compute `Y_predicted`\n",
    "3. Compute the RMSE for the kNN algorithm on this dataset.\n",
    "\n",
    "## Do the same for $R^2$."
   ]
  },
  {
   "cell_type": "code",
   "execution_count": 31,
   "metadata": {
    "deletable": false,
    "execution": {
     "iopub.execute_input": "2023-03-01T12:52:16.902448Z",
     "iopub.status.busy": "2023-03-01T12:52:16.902044Z",
     "iopub.status.idle": "2023-03-01T12:52:16.904235Z",
     "shell.execute_reply": "2023-03-01T12:52:16.904608Z"
    },
    "nbgrader": {
     "cell_type": "code",
     "checksum": "63e4f8ae0510c29ba830d74056beaf8b",
     "grade": true,
     "grade_id": "knna",
     "locked": false,
     "points": 1,
     "schema_version": 3,
     "solution": true
    }
   },
   "outputs": [
    {
     "data": {
      "text/plain": [
       "(5395.032, array([4945.8]))"
      ]
     },
     "execution_count": 31,
     "metadata": {},
     "output_type": "execute_result"
    }
   ],
   "source": [
    "from scipy.spatial.distance import euclidean\n",
    "\n",
    "def knn(ExamplesX,ExamplesY,instance,k=5):\n",
    "    distance = np.argsort([euclidean(instance, example) for example in ExamplesX])[:k]\n",
    "    kNN_Y = np.array(ExamplesY[distance])\n",
    "    return kNN_Y.mean()\n",
    "\n",
    "knn(X_train,Y_train,X_test[0,:]), Y_test[0]"
   ]
  },
  {
   "cell_type": "markdown",
   "metadata": {},
   "source": [
    "## $$RMSE = \\sqrt{\\frac{\\sum_{i=1}^{n}(y_i-\\hat{y})^2}{n}}$$\n",
    "<!-- ## $$ \\textrm{rmse} = \\sqrt{\\frac{1}{N}\\sum_{i=1}^N(a_i - p_i)^2} $$ -->"
   ]
  },
  {
   "cell_type": "code",
   "execution_count": 1,
   "metadata": {
    "deletable": false,
    "execution": {
     "iopub.execute_input": "2023-03-01T12:52:16.909411Z",
     "iopub.status.busy": "2023-03-01T12:52:16.909055Z",
     "iopub.status.idle": "2023-03-01T12:52:16.911295Z",
     "shell.execute_reply": "2023-03-01T12:52:16.911671Z"
    },
    "nbgrader": {
     "cell_type": "code",
     "checksum": "190680a65e316cd45d86a9de00fdefcf",
     "grade": false,
     "grade_id": "rmse",
     "locked": false,
     "schema_version": 3,
     "solution": true
    }
   },
   "outputs": [
    {
     "ename": "NameError",
     "evalue": "name 'np' is not defined",
     "output_type": "error",
     "traceback": [
      "\u001b[1;31m---------------------------------------------------------------------------\u001b[0m",
      "\u001b[1;31mNameError\u001b[0m                                 Traceback (most recent call last)",
      "Cell \u001b[1;32mIn[1], line 5\u001b[0m\n\u001b[0;32m      2\u001b[0m     \u001b[38;5;28;01mif\u001b[39;00m \u001b[38;5;28mlen\u001b[39m(u) \u001b[38;5;241m==\u001b[39m \u001b[38;5;28mlen\u001b[39m(v):\n\u001b[0;32m      3\u001b[0m         \u001b[38;5;28;01mreturn\u001b[39;00m np\u001b[38;5;241m.\u001b[39msqrt(np\u001b[38;5;241m.\u001b[39mmean([(u[i] \u001b[38;5;241m-\u001b[39m v[i])\u001b[38;5;241m*\u001b[39m\u001b[38;5;241m*\u001b[39m\u001b[38;5;241m2\u001b[39m \u001b[38;5;28;01mfor\u001b[39;00m i \u001b[38;5;129;01min\u001b[39;00m \u001b[38;5;28mrange\u001b[39m(\u001b[38;5;28mlen\u001b[39m(u))]))\n\u001b[1;32m----> 5\u001b[0m \u001b[43mrmse\u001b[49m\u001b[43m(\u001b[49m\u001b[43m[\u001b[49m\u001b[38;5;241;43m2\u001b[39;49m\u001b[43m,\u001b[49m\u001b[38;5;241;43m3\u001b[39;49m\u001b[43m,\u001b[49m\u001b[38;5;241;43m5\u001b[39;49m\u001b[43m,\u001b[49m\u001b[38;5;241;43m6\u001b[39;49m\u001b[43m,\u001b[49m\u001b[38;5;241;43m7\u001b[39;49m\u001b[43m,\u001b[49m\u001b[38;5;241;43m34\u001b[39;49m\u001b[43m]\u001b[49m\u001b[43m,\u001b[49m\u001b[43m[\u001b[49m\u001b[38;5;241;43m2\u001b[39;49m\u001b[43m,\u001b[49m\u001b[38;5;241;43m3\u001b[39;49m\u001b[43m,\u001b[49m\u001b[38;5;241;43m5\u001b[39;49m\u001b[43m,\u001b[49m\u001b[38;5;241;43m6\u001b[39;49m\u001b[43m,\u001b[49m\u001b[38;5;241;43m7\u001b[39;49m\u001b[43m,\u001b[49m\u001b[38;5;241;43m34\u001b[39;49m\u001b[43m]\u001b[49m\u001b[43m)\u001b[49m\n",
      "Cell \u001b[1;32mIn[1], line 3\u001b[0m, in \u001b[0;36mrmse\u001b[1;34m(u, v)\u001b[0m\n\u001b[0;32m      1\u001b[0m \u001b[38;5;28;01mdef\u001b[39;00m \u001b[38;5;21mrmse\u001b[39m(u,v): \u001b[38;5;66;03m## u, v are 1D arrays of the same length\u001b[39;00m\n\u001b[0;32m      2\u001b[0m     \u001b[38;5;28;01mif\u001b[39;00m \u001b[38;5;28mlen\u001b[39m(u) \u001b[38;5;241m==\u001b[39m \u001b[38;5;28mlen\u001b[39m(v):\n\u001b[1;32m----> 3\u001b[0m         \u001b[38;5;28;01mreturn\u001b[39;00m \u001b[43mnp\u001b[49m\u001b[38;5;241m.\u001b[39msqrt(np\u001b[38;5;241m.\u001b[39mmean([(u[i] \u001b[38;5;241m-\u001b[39m v[i])\u001b[38;5;241m*\u001b[39m\u001b[38;5;241m*\u001b[39m\u001b[38;5;241m2\u001b[39m \u001b[38;5;28;01mfor\u001b[39;00m i \u001b[38;5;129;01min\u001b[39;00m \u001b[38;5;28mrange\u001b[39m(\u001b[38;5;28mlen\u001b[39m(u))]))\n",
      "\u001b[1;31mNameError\u001b[0m: name 'np' is not defined"
     ]
    }
   ],
   "source": [
    "def rmse(u,v): ## u, v are 1D arrays of the same length\n",
    "    if len(u) == len(v):\n",
    "        return np.sqrt(np.mean([(u[i] - v[i])**2 for i in range(len(u))]))\n",
    "\n",
    "rmse([2,3,5,6,7,34],[2,3,5,6,7,34])"
   ]
  },
  {
   "cell_type": "markdown",
   "metadata": {},
   "source": [
    "### $$SS_{res} = \\sum_{i}(y_i - f_i)^2 = \\sum_{i}e_i^2 $$\n",
    "### $$SS_{tot} = \\sum_{i}(y_i - \\hat{y})^2 $$"
   ]
  },
  {
   "cell_type": "code",
   "execution_count": 33,
   "metadata": {
    "deletable": false,
    "execution": {
     "iopub.execute_input": "2023-03-01T12:52:16.917474Z",
     "iopub.status.busy": "2023-03-01T12:52:16.917112Z",
     "iopub.status.idle": "2023-03-01T12:52:16.919260Z",
     "shell.execute_reply": "2023-03-01T12:52:16.919749Z"
    },
    "nbgrader": {
     "cell_type": "code",
     "checksum": "7f3d13fa820f4376dfb6452f6d49f57b",
     "grade": false,
     "grade_id": "rsquare",
     "locked": false,
     "schema_version": 3,
     "solution": true
    }
   },
   "outputs": [
    {
     "data": {
      "text/plain": [
       "1.0"
      ]
     },
     "execution_count": 33,
     "metadata": {},
     "output_type": "execute_result"
    }
   ],
   "source": [
    "# def rsquare(predicted,true): ## u, v are 1D arrays of the same length\n",
    "#     if len(predicted) == len(true):\n",
    "#         return 1 - sum((y - np.mean(true))**2 for y in true) / sum((y - y_hat)**2 for y in true for y_hat in predicted) \n",
    "\n",
    "# rsquare([2,3,5,6,7,34],[2,3,5,6,7,34])\n",
    "\n",
    "def rsquare(predicted, true):\n",
    "    SS_res = sum((np.array(true) - np.array(predicted))**2)\n",
    "    SS_tot = sum((true - np.mean(true))**2)\n",
    "    return 1 - SS_res / SS_tot\n",
    "rsquare([2,3,5,6,7,34],[2,3,5,6,7,34])"
   ]
  },
  {
   "cell_type": "markdown",
   "metadata": {},
   "source": [
    "With the RMSE we can measure the differences  between the values predicted and the values observed"
   ]
  },
  {
   "cell_type": "code",
   "execution_count": 34,
   "metadata": {
    "deletable": false,
    "execution": {
     "iopub.execute_input": "2023-03-01T12:52:16.978320Z",
     "iopub.status.busy": "2023-03-01T12:52:16.977975Z",
     "iopub.status.idle": "2023-03-01T12:52:18.235811Z",
     "shell.execute_reply": "2023-03-01T12:52:18.236165Z"
    },
    "nbgrader": {
     "cell_type": "code",
     "checksum": "229cde3a51a5e470df6afd06b6f710fc",
     "grade": true,
     "grade_id": "knneval",
     "locked": false,
     "points": 1,
     "schema_version": 3,
     "solution": true
    }
   },
   "outputs": [
    {
     "data": {
      "text/plain": [
       "((10,), 4720.334422691088)"
      ]
     },
     "execution_count": 34,
     "metadata": {},
     "output_type": "execute_result"
    }
   ],
   "source": [
    "Y_predicted = np.asarray([knn(X_train,Y_train,i) for i in X_train[:10]])\n",
    "RMSE= rmse(Y_predicted, y_test[:10])\n",
    "\n",
    "\n",
    "Y_predicted.shape, RMSE "
   ]
  },
  {
   "cell_type": "markdown",
   "metadata": {
    "deletable": false,
    "editable": false,
    "nbgrader": {
     "cell_type": "markdown",
     "checksum": "4ba78569e3bb8f2422dbcb6ab4d4cd84",
     "grade": false,
     "grade_id": "testb",
     "locked": true,
     "schema_version": 3,
     "solution": false
    }
   },
   "source": [
    "# What is happening here?\n",
    "\n",
    "* Explain what we are doing in the next cell.\n",
    "* Is this according to your intuition?"
   ]
  },
  {
   "cell_type": "code",
   "execution_count": 35,
   "metadata": {
    "execution": {
     "iopub.execute_input": "2023-03-01T12:52:18.240893Z",
     "iopub.status.busy": "2023-03-01T12:52:18.239738Z",
     "iopub.status.idle": "2023-03-01T12:52:18.245856Z",
     "shell.execute_reply": "2023-03-01T12:52:18.246261Z"
    }
   },
   "outputs": [
    {
     "data": {
      "text/plain": [
       "2411.617094885481"
      ]
     },
     "execution_count": 35,
     "metadata": {},
     "output_type": "execute_result"
    }
   ],
   "source": [
    "from sklearn.neighbors import KNeighborsRegressor\n",
    "\n",
    "neigh = KNeighborsRegressor(n_neighbors=5)\n",
    "neigh.fit(X_train, Y_train)\n",
    "\n",
    "Y_predicted2= neigh.predict(X_test )\n",
    "\n",
    "rmse(Y_predicted2,Y_test)"
   ]
  },
  {
   "cell_type": "markdown",
   "metadata": {
    "deletable": false,
    "nbgrader": {
     "cell_type": "markdown",
     "checksum": "8d1ca72ff085ab72c8951c792d8f8f29",
     "grade": true,
     "grade_id": "test2",
     "locked": false,
     "points": 0,
     "schema_version": 3,
     "solution": true
    }
   },
   "source": [
    "> We are calculating the regression based on KNN with a neigborhood size of 5. We fit the model with our trainingsdata. We predict the data based on the predict function.\n",
    "\n",
    "> I expected the RMSE to be lower"
   ]
  },
  {
   "cell_type": "markdown",
   "metadata": {
    "deletable": false,
    "editable": false,
    "nbgrader": {
     "cell_type": "markdown",
     "checksum": "2644c2cf1e7224dab94d89ec534a4f6f",
     "grade": false,
     "grade_id": "norm",
     "locked": true,
     "schema_version": 3,
     "solution": false
    }
   },
   "source": [
    "# Normalization\n",
    "\n",
    "\n",
    "## Z- transformation\n",
    "\n",
    "* We transform the data such that each kolom has a mean of 0 and a standard deviation of 1.\n",
    "\n",
    "## Unit normalization\n",
    "\n",
    "* We transform the data such that each row has unit norm.\n",
    "* A unit normn of a vector $v$ means that its length equals 1, that is $\\sqrt{v\\cdot v}$ equals 1, where $v\\cdot v$ is the dot product of $v$ with itself, that is $\\Sigma_i v_i\\cdot v_i$.\n",
    "\n",
    "\n",
    "## Your task\n",
    "\n",
    "* Implement both normalisations of a matrix and **make tests to check that they work correctly**.\n",
    "    * Check out `np.linalg.norm?`\n",
    "    * Tests are real computer tests. Not a print that you then check with your eyes.\n",
    "    * So use `assert` statements, or make a test which returns True.\n",
    "    * Of course you may add a useful print. \n",
    "* Do not use predefined functions for these normalisations, but program them from the here given definitions.\n",
    "* Finally check that they give the same results as the [scikit learn normalizer](https://scikit-learn.org/stable/modules/preprocessing.html#normalization) and [standardizer](https://scikit-learn.org/stable/modules/preprocessing.html#standardization-or-mean-removal-and-variance-scaling)."
   ]
  },
  {
   "cell_type": "markdown",
   "metadata": {},
   "source": [
    "<!-- :math:$||A||_F = [\\sum_{i,j} abs(a_{i,j})^2]^{1/2}$ -->"
   ]
  },
  {
   "cell_type": "code",
   "execution_count": 36,
   "metadata": {
    "deletable": false,
    "execution": {
     "iopub.execute_input": "2023-03-01T12:52:18.255769Z",
     "iopub.status.busy": "2023-03-01T12:52:18.255421Z",
     "iopub.status.idle": "2023-03-01T12:52:18.261029Z",
     "shell.execute_reply": "2023-03-01T12:52:18.261437Z"
    },
    "nbgrader": {
     "cell_type": "code",
     "checksum": "4559dfcb0f478f9587b3405ae98ceb8d",
     "grade": false,
     "grade_id": "norma",
     "locked": false,
     "schema_version": 3,
     "solution": true
    }
   },
   "outputs": [
    {
     "data": {
      "text/plain": [
       "(array([[ 0.        , -1.22474487,  1.33630621],\n",
       "        [ 1.22474487,  0.        , -0.26726124],\n",
       "        [-1.22474487,  1.22474487, -1.06904497]]),\n",
       " array([[ 0.40824829, -0.40824829,  0.81649658],\n",
       "        [ 1.        ,  0.        ,  0.        ],\n",
       "        [ 0.        ,  0.70710678, -0.70710678]]))"
      ]
     },
     "execution_count": 36,
     "metadata": {},
     "output_type": "execute_result"
    }
   ],
   "source": [
    "# Assume M is a np.array\n",
    "def standardize(M):\n",
    "    return (M - np.mean(M, axis=0)) / np.std(M, axis=0)\n",
    "    \n",
    "    \n",
    "def normalize(X):    \n",
    "    norms = np.reshape(np.linalg.norm(X, axis=1), (X.shape[0],1))\n",
    "    return X / norms\n",
    "    \n",
    "    \n",
    "X = np.array([[ 1., -1.,  2.],\n",
    "              [ 2.,  0.,  0.],\n",
    "              [ 0.,  1., -1.]])  \n",
    "\n",
    "\n",
    "standardize(X), normalize(X)"
   ]
  },
  {
   "cell_type": "code",
   "execution_count": 37,
   "metadata": {},
   "outputs": [
    {
     "data": {
      "text/plain": [
       "(array([[-0.20648828,  0.61057587, -0.4116077 , ...,  0.66985436,\n",
       "         -0.09549684, -0.18464943],\n",
       "        [-0.21708579, -2.00005007, -0.98473276, ...,  0.24433215,\n",
       "         -0.09549684, -0.18464943],\n",
       "        [-0.2067443 , -2.00005007, -0.29685872, ..., -0.11058773,\n",
       "         -0.09549684, -0.18464943],\n",
       "        ...,\n",
       "        [-0.1552618 , -0.02954961,  0.3738146 , ...,  0.61833373,\n",
       "         -0.09549684, -0.18464943],\n",
       "        [-0.17612323, -2.00005007, -1.16518541, ...,  0.16991346,\n",
       "         -0.09549684, -0.18464943],\n",
       "        [-0.1339349 , -0.05643906,  0.19855316, ...,  0.70610962,\n",
       "         -0.09549684, -0.18464943]]),\n",
       " array([[0.39876146, 0.00276995, 0.9170461 , ..., 0.00270374, 0.        ,\n",
       "         0.        ],\n",
       "        [0.45206144, 0.        , 0.89198001, ..., 0.0033091 , 0.        ,\n",
       "         0.        ],\n",
       "        [0.38350653, 0.        , 0.92353434, ..., 0.00249708, 0.        ,\n",
       "         0.        ],\n",
       "        ...,\n",
       "        [0.43681445, 0.00157011, 0.89954779, ..., 0.00202484, 0.        ,\n",
       "         0.        ],\n",
       "        [0.61655164, 0.        , 0.78730715, ..., 0.00319859, 0.        ,\n",
       "         0.        ],\n",
       "        [0.50137566, 0.00157181, 0.8652256 , ..., 0.00206479, 0.        ,\n",
       "         0.        ]]))"
      ]
     },
     "execution_count": 37,
     "metadata": {},
     "output_type": "execute_result"
    }
   ],
   "source": [
    "standardize(X_train), normalize(X_train)"
   ]
  },
  {
   "cell_type": "markdown",
   "metadata": {
    "deletable": false,
    "editable": false,
    "nbgrader": {
     "cell_type": "markdown",
     "checksum": "75e3b3cb9e22cdb2f0606c9e307207ab",
     "grade": false,
     "grade_id": "normc",
     "locked": true,
     "schema_version": 3,
     "solution": false
    }
   },
   "source": [
    "Here in the answer cell below:\n",
    "\n",
    "* your own tests\n",
    "*  tests that scikit learn functions do the same\n"
   ]
  },
  {
   "cell_type": "code",
   "execution_count": 38,
   "metadata": {
    "deletable": false,
    "execution": {
     "iopub.execute_input": "2023-03-01T12:52:18.265299Z",
     "iopub.status.busy": "2023-03-01T12:52:18.264933Z",
     "iopub.status.idle": "2023-03-01T12:52:18.279483Z",
     "shell.execute_reply": "2023-03-01T12:52:18.279886Z"
    },
    "nbgrader": {
     "cell_type": "code",
     "checksum": "2f624bdba3eb3f8eba6a99ff18a1232d",
     "grade": true,
     "grade_id": "norma1",
     "locked": false,
     "points": 1,
     "schema_version": 3,
     "solution": true
    }
   },
   "outputs": [
    {
     "name": "stdout",
     "output_type": "stream",
     "text": [
      "Check if standardize functions are equal:\n",
      " [[ True  True  True]\n",
      " [ True  True  True]\n",
      " [ True  True  True]]\n",
      "Check if normalize functions are equal:\n",
      " [[ True  True  True]\n",
      " [ True  True  True]\n",
      " [ True  True  True]]\n"
     ]
    }
   ],
   "source": [
    "from sklearn import preprocessing\n",
    "# Check if standardize function is the same as scikit standardizer\n",
    "print(\"Check if standardize functions are equal:\\n\", preprocessing.StandardScaler().fit_transform(X) == standardize(X))\n",
    "print(\"Check if normalize functions are equal:\\n\", preprocessing.Normalizer().fit_transform(X) == normalize(X))"
   ]
  },
  {
   "cell_type": "code",
   "execution_count": 39,
   "metadata": {
    "deletable": false,
    "editable": false,
    "execution": {
     "iopub.execute_input": "2023-03-01T12:52:18.288806Z",
     "iopub.status.busy": "2023-03-01T12:52:18.288409Z",
     "iopub.status.idle": "2023-03-01T12:52:18.294603Z",
     "shell.execute_reply": "2023-03-01T12:52:18.294955Z"
    },
    "nbgrader": {
     "cell_type": "code",
     "checksum": "5e70f68788ae8b60a40a4e4c36c2fcc9",
     "grade": true,
     "grade_id": "normt",
     "locked": true,
     "points": 1,
     "schema_version": 3,
     "solution": false
    }
   },
   "outputs": [],
   "source": [
    "assert_equal(X.shape, normalize(X).shape)\n",
    "assert_equal(X.shape, standardize(X).shape)\n"
   ]
  },
  {
   "cell_type": "markdown",
   "metadata": {
    "deletable": false,
    "editable": false,
    "id": "TJIk0ppWpnUV",
    "nbgrader": {
     "cell_type": "markdown",
     "checksum": "5cf5c1b96c99fb45335b32e5d095cb3e",
     "grade": false,
     "grade_id": "cell-5f6424ae3678e3c9",
     "locked": true,
     "schema_version": 3,
     "solution": false
    }
   },
   "source": [
    "### Question 3\n",
    " \n",
    " \n",
    "* Do the KNN regression again but now on the normalized data.\n",
    "* Conclude."
   ]
  },
  {
   "cell_type": "code",
   "execution_count": 40,
   "metadata": {},
   "outputs": [
    {
     "data": {
      "text/plain": [
       "(array([[1.4396e+04, 1.0000e+02, 3.3107e+04, 2.2840e+01, 1.8150e+01,\n",
       "         5.0000e+00, 9.8700e+00, 4.5500e+00, 2.4000e+00, 9.7610e+01,\n",
       "         0.0000e+00, 0.0000e+00],\n",
       "        [1.3030e+04, 0.0000e+00, 2.5710e+04, 2.3980e+01, 1.4810e+01,\n",
       "         9.0900e+00, 7.7800e+00, 4.5700e+00, 2.5200e+00, 9.5380e+01,\n",
       "         0.0000e+00, 0.0000e+00],\n",
       "        [1.4363e+04, 0.0000e+00, 3.4588e+04, 2.9530e+01, 9.2100e+00,\n",
       "         6.7600e+00, 9.8800e+00, 7.8600e+00, 2.8700e+00, 9.3520e+01,\n",
       "         0.0000e+00, 0.0000e+00]]),\n",
       " array([[2.7244e+04, 7.0760e+01, 3.5138e+04, 2.8130e+01, 1.4330e+01,\n",
       "         5.7400e+00, 6.7700e+00, 7.8500e+00, 2.9600e+00, 9.2000e+01,\n",
       "         0.0000e+00, 0.0000e+00],\n",
       "        [2.2353e+04, 0.0000e+00, 3.6215e+04, 2.7070e+01, 6.3700e+00,\n",
       "         2.8200e+00, 9.5500e+00, 3.3700e+00, 2.6100e+00, 9.4430e+01,\n",
       "         0.0000e+00, 1.4000e+01],\n",
       "        [1.7637e+04, 1.0000e+02, 1.8617e+04, 2.9430e+01, 1.2790e+01,\n",
       "         2.2330e+01, 1.2820e+01, 9.8500e+00, 2.6500e+00, 9.0540e+01,\n",
       "         0.0000e+00, 7.0000e+00]]),\n",
       " array([[5020.45],\n",
       "        [2858.43],\n",
       "        [1239.16]]))"
      ]
     },
     "execution_count": 40,
     "metadata": {},
     "output_type": "execute_result"
    }
   ],
   "source": [
    "X_train[:3], X_test[:3], Y_train[:3]"
   ]
  },
  {
   "cell_type": "code",
   "execution_count": 41,
   "metadata": {
    "deletable": false,
    "execution": {
     "iopub.execute_input": "2023-03-01T12:52:18.426935Z",
     "iopub.status.busy": "2023-03-01T12:52:18.354701Z",
     "iopub.status.idle": "2023-03-01T12:52:24.255568Z",
     "shell.execute_reply": "2023-03-01T12:52:24.255946Z"
    },
    "id": "BQc0v7GCdZpV",
    "nbgrader": {
     "cell_type": "code",
     "checksum": "4a7ea5b2db20746db0e405409c584c7b",
     "grade": true,
     "grade_id": "cell-40087f3cfc1918c7",
     "locked": false,
     "points": 1,
     "schema_version": 3,
     "solution": true
    },
    "pycharm": {
     "is_executing": false
    }
   },
   "outputs": [
    {
     "name": "stderr",
     "output_type": "stream",
     "text": [
      "C:\\Users\\Tycho\\AppData\\Local\\Temp\\ipykernel_2908\\657782433.py:4: FutureWarning: Unlike other reduction functions (e.g. `skew`, `kurtosis`), the default behavior of `mode` typically preserves the axis it acts along. In SciPy 1.11.0, this behavior will change: the default value of `keepdims` will become False, the `axis` over which the statistic is taken will be eliminated, and the value None will no longer be accepted. Set `keepdims` to True or False to avoid this warning.\n",
      "  return mode(kNN_Y)[0][0]\n"
     ]
    },
    {
     "data": {
      "text/plain": [
       "array([[1736.45],\n",
       "       [3590.24],\n",
       "       [2893.5 ],\n",
       "       [2543.13],\n",
       "       [ 699.77],\n",
       "       [ 516.16],\n",
       "       [2607.86],\n",
       "       [2631.94],\n",
       "       [2739.59],\n",
       "       [2840.48]])"
      ]
     },
     "execution_count": 41,
     "metadata": {},
     "output_type": "execute_result"
    }
   ],
   "source": [
    "def knn_normalize(X,y,example,k=5):\n",
    "    '''Classify example using majority vote of the k closest items in X with labels y.'''\n",
    "    kNN_Y = y[np.argsort([euclidean(example, node) for node in X])[:k]]\n",
    "    return mode(kNN_Y)[0][0]\n",
    "\n",
    "np.round([knn_normalize(normalize(X_train),Y_train,example) for example in normalize(X_test[:10])],2)"
   ]
  },
  {
   "cell_type": "code",
   "execution_count": 42,
   "metadata": {},
   "outputs": [
    {
     "data": {
      "text/plain": [
       "array([4416.32, 4286.95, 4305.51, 4001.68, 3710.87, 4127.27, 3416.02,\n",
       "       4259.19, 4359.94, 5876.87])"
      ]
     },
     "execution_count": 42,
     "metadata": {},
     "output_type": "execute_result"
    }
   ],
   "source": [
    "np.round([knn(normalize(X_train),Y_train,example) for example in normalize(X_test[:10])],2)"
   ]
  },
  {
   "cell_type": "markdown",
   "metadata": {},
   "source": [
    "> When doing the KNN with normalized data a different amount of crime is shown based on the values"
   ]
  },
  {
   "cell_type": "markdown",
   "metadata": {
    "deletable": false,
    "editable": false,
    "nbgrader": {
     "cell_type": "markdown",
     "checksum": "4a6b9e72cc2b6f4706c1ab7af66e5156",
     "grade": false,
     "grade_id": "imp",
     "locked": true,
     "schema_version": 3,
     "solution": false
    }
   },
   "source": [
    "# Improving KNN\n",
    "\n",
    "With KNN each neighbour is equal, as we take the mean or the majority class. Now, we may change KNN by *weighing* the imprtance of the neighbors, for instance with the distance or similarity. \n",
    "\n",
    "Implement that improvement:\n",
    "\n",
    "* find an easy way to create weights from distances.\n",
    "* normalize these weighjts so that the weights of all neighbours add up to 1.\n",
    "* find out the wonderfullness of the *dot product*, see how you take the dot product of 2 numpy arrays, and, well, use it to compute the weighted mean, basically by saying *weights times values*. \n",
    "\n",
    "* Work it out using the tips dataset for which you predict the tip from the total bill.\n",
    "* Do all steps we do in an ML project and predict the tip using KNN regression with weighted neighbors.\n",
    "\n",
    " "
   ]
  },
  {
   "cell_type": "code",
   "execution_count": 43,
   "metadata": {
    "deletable": false,
    "editable": false,
    "execution": {
     "iopub.execute_input": "2023-03-01T12:52:24.259608Z",
     "iopub.status.busy": "2023-03-01T12:52:24.259244Z",
     "iopub.status.idle": "2023-03-01T12:52:24.504365Z",
     "shell.execute_reply": "2023-03-01T12:52:24.504774Z"
    },
    "nbgrader": {
     "cell_type": "code",
     "checksum": "d56cd9b30778dee679b53b68f647f331",
     "grade": false,
     "grade_id": "tips",
     "locked": true,
     "schema_version": 3,
     "solution": false
    }
   },
   "outputs": [
    {
     "name": "stdout",
     "output_type": "stream",
     "text": [
      "(244, 7)\n"
     ]
    },
    {
     "data": {
      "text/html": [
       "<div>\n",
       "<style scoped>\n",
       "    .dataframe tbody tr th:only-of-type {\n",
       "        vertical-align: middle;\n",
       "    }\n",
       "\n",
       "    .dataframe tbody tr th {\n",
       "        vertical-align: top;\n",
       "    }\n",
       "\n",
       "    .dataframe thead th {\n",
       "        text-align: right;\n",
       "    }\n",
       "</style>\n",
       "<table border=\"1\" class=\"dataframe\">\n",
       "  <thead>\n",
       "    <tr style=\"text-align: right;\">\n",
       "      <th></th>\n",
       "      <th>total_bill</th>\n",
       "      <th>tip</th>\n",
       "      <th>sex</th>\n",
       "      <th>smoker</th>\n",
       "      <th>day</th>\n",
       "      <th>time</th>\n",
       "      <th>size</th>\n",
       "    </tr>\n",
       "  </thead>\n",
       "  <tbody>\n",
       "    <tr>\n",
       "      <th>0</th>\n",
       "      <td>16.99</td>\n",
       "      <td>1.01</td>\n",
       "      <td>Female</td>\n",
       "      <td>No</td>\n",
       "      <td>Sun</td>\n",
       "      <td>Dinner</td>\n",
       "      <td>2</td>\n",
       "    </tr>\n",
       "    <tr>\n",
       "      <th>1</th>\n",
       "      <td>10.34</td>\n",
       "      <td>1.66</td>\n",
       "      <td>Male</td>\n",
       "      <td>No</td>\n",
       "      <td>Sun</td>\n",
       "      <td>Dinner</td>\n",
       "      <td>3</td>\n",
       "    </tr>\n",
       "    <tr>\n",
       "      <th>2</th>\n",
       "      <td>21.01</td>\n",
       "      <td>3.50</td>\n",
       "      <td>Male</td>\n",
       "      <td>No</td>\n",
       "      <td>Sun</td>\n",
       "      <td>Dinner</td>\n",
       "      <td>3</td>\n",
       "    </tr>\n",
       "    <tr>\n",
       "      <th>3</th>\n",
       "      <td>23.68</td>\n",
       "      <td>3.31</td>\n",
       "      <td>Male</td>\n",
       "      <td>No</td>\n",
       "      <td>Sun</td>\n",
       "      <td>Dinner</td>\n",
       "      <td>2</td>\n",
       "    </tr>\n",
       "    <tr>\n",
       "      <th>4</th>\n",
       "      <td>24.59</td>\n",
       "      <td>3.61</td>\n",
       "      <td>Female</td>\n",
       "      <td>No</td>\n",
       "      <td>Sun</td>\n",
       "      <td>Dinner</td>\n",
       "      <td>4</td>\n",
       "    </tr>\n",
       "  </tbody>\n",
       "</table>\n",
       "</div>"
      ],
      "text/plain": [
       "   total_bill   tip     sex smoker  day    time  size\n",
       "0       16.99  1.01  Female     No  Sun  Dinner     2\n",
       "1       10.34  1.66    Male     No  Sun  Dinner     3\n",
       "2       21.01  3.50    Male     No  Sun  Dinner     3\n",
       "3       23.68  3.31    Male     No  Sun  Dinner     2\n",
       "4       24.59  3.61  Female     No  Sun  Dinner     4"
      ]
     },
     "execution_count": 43,
     "metadata": {},
     "output_type": "execute_result"
    },
    {
     "data": {
      "image/png": "[encoded data removed]",
      "text/plain": [
       "<Figure size 640x480 with 1 Axes>"
      ]
     },
     "metadata": {},
     "output_type": "display_data"
    }
   ],
   "source": [
    "tips = sns.load_dataset('tips')\n",
    "print(tips.shape)\n",
    "sns.regplot(x='total_bill', y='tip', data=tips);\n",
    "tips.head()"
   ]
  },
  {
   "cell_type": "markdown",
   "metadata": {
    "deletable": false,
    "editable": false,
    "nbgrader": {
     "cell_type": "markdown",
     "checksum": "7b3433b895657bfef19543a09d5139f0",
     "grade": false,
     "grade_id": "mf",
     "locked": true,
     "schema_version": 3,
     "solution": false
    }
   },
   "source": [
    "# Male vs Female\n",
    "\n",
    "We  wonder if males tip differently than females. We first investigate visually. Then we compute.\n",
    "\n",
    "1. Add `hue='sex'` to the `sns.scatterplot` command. \n",
    "2. Simply plot two regplots on top of each other, one for the males, one for the females.\n",
    "   * Of course you use Boolean indexing to restrict `data` to the required sex.\n",
    "3. Read up what those shaded areas in the `regplot` mean. Can you draw a conclusion about male vs female tipping?\n",
    "4. Finally run your weighted KNN and a scikit learn linear regression, and plot the regression line, the true values and the KNN-predicted tips for the test-set. Can you conclude something?"
   ]
  },
  {
   "cell_type": "code",
   "execution_count": 44,
   "metadata": {},
   "outputs": [
    {
     "data": {
      "image/png": "[encoded data removed]",
      "text/plain": [
       "<Figure size 640x480 with 1 Axes>"
      ]
     },
     "metadata": {},
     "output_type": "display_data"
    }
   ],
   "source": [
    "sns.scatterplot(x='total_bill', y='tip', data=tips, hue='sex');"
   ]
  },
  {
   "cell_type": "code",
   "execution_count": 45,
   "metadata": {},
   "outputs": [
    {
     "data": {
      "image/png": "[encoded data removed]",
      "text/plain": [
       "<Figure size 600x600 with 1 Axes>"
      ]
     },
     "metadata": {},
     "output_type": "display_data"
    }
   ],
   "source": [
    "import matplotlib.pyplot as plt\n",
    "# https://stackoverflow.com/questions/36026149/how-to-plot-multiple-linear-regressions-in-the-same-figure\n",
    "# create the figure and axes\n",
    "fig, ax = plt.subplots(figsize=(6, 6))\n",
    "\n",
    "# add the plots for each dataframe\n",
    "sns.regplot(x='total_bill', y='tip', data=tips[tips['sex'] == 'Male'], label='male');\n",
    "sns.regplot(x='total_bill', y='tip', data=tips[tips['sex'] == 'Female'], label='female');\n",
    "ax.set(xlabel='total_bill', ylabel='tip')\n",
    "ax.legend()\n",
    "plt.show()"
   ]
  },
  {
   "cell_type": "markdown",
   "metadata": {},
   "source": [
    "> The shaded area is the confidence interval. Most of the time the confidence interval is 95%, so that means that 95% of the time the true value lies with the shaded area."
   ]
  },
  {
   "cell_type": "code",
   "execution_count": 46,
   "metadata": {},
   "outputs": [],
   "source": [
    "# Change data to int\n",
    "# tips['sex'] = tips['sex'].replace({'Male':0, 'Female':1})\n",
    "# tips['smoker'] = tips['smoker'].replace({'No':0, 'Yes':1})\n",
    "# tips['day'] = tips['day'].replace({'Thur':0, 'Fri':1, 'Sat':2, 'Sun':3})\n",
    "# tips['time'] = tips['time'].replace({'Lunch':0, 'Dinner':1})\n",
    "\n",
    "# Split the tips data \n",
    "# X = tips[['total_bill', 'sex', 'smoker', 'day', 'time', 'size']].to_numpy()\n",
    "X = tips[['total_bill', 'size']].to_numpy()\n",
    "y = tips['tip'].to_numpy()\n",
    "X_train, X_test, y_train, y_test = train_test_split(X, y, test_size=0.30, shuffle=True, random_state=0)"
   ]
  },
  {
   "cell_type": "code",
   "execution_count": 47,
   "metadata": {
    "deletable": false,
    "execution": {
     "iopub.execute_input": "2023-03-01T12:52:24.529149Z",
     "iopub.status.busy": "2023-03-01T12:52:24.516208Z",
     "iopub.status.idle": "2023-03-01T12:52:24.797469Z",
     "shell.execute_reply": "2023-03-01T12:52:24.798010Z"
    },
    "nbgrader": {
     "cell_type": "code",
     "checksum": "d326fdefd47d967724c6dc6ddb493576",
     "grade": true,
     "grade_id": "mfa",
     "locked": false,
     "points": 0,
     "schema_version": 3,
     "solution": true
    }
   },
   "outputs": [
    {
     "name": "stderr",
     "output_type": "stream",
     "text": [
      "C:\\Users\\Tycho\\AppData\\Local\\Temp\\ipykernel_2908\\635086374.py:7: FutureWarning: Unlike other reduction functions (e.g. `skew`, `kurtosis`), the default behavior of `mode` typically preserves the axis it acts along. In SciPy 1.11.0, this behavior will change: the default value of `keepdims` will become False, the `axis` over which the statistic is taken will be eliminated, and the value None will no longer be accepted. Set `keepdims` to True or False to avoid this warning.\n",
      "  return mode(kNN_Y)[0][0]\n"
     ]
    }
   ],
   "source": [
    "def knn_weighted(X,y,example,k=5):\n",
    "    '''Classify example using majority vote of the k closest items in X with labels y.'''\n",
    "    weighted_distance = [1 / (euclidean(example, node) + 1e-8)  for node in X]\n",
    "    sorted_weighted = np.argsort(weighted_distance / np.sum(weighted_distance))\n",
    "    kNN_Y = y[sorted_weighted]\n",
    "#     return kNN_Y.mean()\n",
    "    return mode(kNN_Y)[0][0]\n",
    "\n",
    "knn = [knn_weighted(X_train,y_train,example) for example in X_test]"
   ]
  },
  {
   "cell_type": "code",
   "execution_count": 48,
   "metadata": {},
   "outputs": [],
   "source": [
    "X_axis = np.array([x[0] for x in X_test])"
   ]
  },
  {
   "cell_type": "code",
   "execution_count": 49,
   "metadata": {},
   "outputs": [
    {
     "name": "stdout",
     "output_type": "stream",
     "text": [
      "Heap Accuracy:8.108108108108109%\n"
     ]
    }
   ],
   "source": [
    "print('Heap Accuracy:{}%'.format((np.array(y_test)==np.array(knn)).mean() * 100))"
   ]
  },
  {
   "cell_type": "code",
   "execution_count": 50,
   "metadata": {},
   "outputs": [
    {
     "data": {
      "image/png": "[encoded data removed]",
      "text/plain": [
       "<Figure size 600x600 with 1 Axes>"
      ]
     },
     "metadata": {},
     "output_type": "display_data"
    }
   ],
   "source": [
    "import matplotlib.pyplot as plt\n",
    "# https://stackoverflow.com/questions/36026149/how-to-plot-multiple-linear-regressions-in-the-same-figure\n",
    "# create the figure and axes\n",
    "fig, ax = plt.subplots(figsize=(6, 6))\n",
    "\n",
    "# add the plots for each dataframe\n",
    "sns.regplot(x='total_bill', y='tip', data=tips[tips['sex'] == 'Male'], label='male');\n",
    "sns.regplot(x='total_bill', y='tip', data=tips[tips['sex'] == 'Female'], label='female');\n",
    "sns.lineplot(x=X_axis.ravel(), y=knn, color='red')\n",
    "\n",
    "ax.set(xlabel='total_bill', ylabel='tip')\n",
    "ax.legend()\n",
    "plt.show()"
   ]
  },
  {
   "cell_type": "markdown",
   "metadata": {},
   "source": [
    "> The current conclusion is that the weighted knn has an error somewhere, because this result isn't valid. Currently it has an accury of 8.1%"
   ]
  }
 ],
 "metadata": {
  "colab": {
   "collapsed_sections": [
    "mvRc3NfNpnX_",
    "jEVT2ICapnYY",
    "9VnA1f6gpnZF",
    "r0tPQjwcpnZq",
    "ToGW3LxdpnZy",
    "xtQdj-BJpnaK",
    "23xaVneOdZrC"
   ],
   "name": "Practical Assignment 1 - 2021 Answer.ipynb",
   "provenance": [],
   "toc_visible": true
  },
  "kernelspec": {
   "display_name": "Python 3 (ipykernel)",
   "language": "python",
   "name": "python3"
  },
  "language_info": {
   "codemirror_mode": {
    "name": "ipython",
    "version": 3
   },
   "file_extension": ".py",
   "mimetype": "text/x-python",
   "name": "python",
   "nbconvert_exporter": "python",
   "pygments_lexer": "ipython3",
   "version": "3.9.7"
  },
  "pycharm": {
   "stem_cell": {
    "cell_type": "raw",
    "metadata": {
     "collapsed": false
    },
    "source": []
   }
  },
  "toc": {
   "nav_menu": {},
   "number_sections": false,
   "sideBar": true,
   "skip_h1_title": false,
   "title_cell": "Table of Contents",
   "title_sidebar": "Contents",
   "toc_cell": false,
   "toc_position": {},
   "toc_section_display": true,
   "toc_window_display": false
  }
 },
 "nbformat": 4,
 "nbformat_minor": 1
}

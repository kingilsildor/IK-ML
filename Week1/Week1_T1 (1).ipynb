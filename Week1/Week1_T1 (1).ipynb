{
 "cells": [
  {
   "cell_type": "code",
   "execution_count": 9,
   "id": "490ffb0e",
   "metadata": {
    "slideshow": {
     "slide_type": "skip"
    }
   },
   "outputs": [
    {
     "name": "stdout",
     "output_type": "stream",
     "text": [
      "[NbConvertApp] Converting notebook Week1_T1.ipynb to slides\n",
      "[NbConvertApp] Writing 610827 bytes to Week1_T1.slides.html\n",
      "[NbConvertApp] Redirecting reveal.js requests to https://cdnjs.cloudflare.com/ajax/libs/reveal.js/3.5.0\n",
      "Serving your slides at http://127.0.0.1:8000/Week1_T1.slides.html\n",
      "Use Control-C to stop this server\n",
      "^C\n",
      "\n",
      "Interrupted\n"
     ]
    }
   ],
   "source": [
    "!jupyter nbconvert  Week1_T1.ipynb --to slides --post serve"
   ]
  },
  {
   "cell_type": "markdown",
   "id": "8941d16a",
   "metadata": {
    "slideshow": {
     "slide_type": "slide"
    }
   },
   "source": [
    "# Onderwerp van deze cursus: *leren door machines*\n",
    "\n",
    "\n",
    "## V: Wat is dat eigenlijk: leren?"
   ]
  },
  {
   "cell_type": "markdown",
   "id": "6d9b1244",
   "metadata": {
    "slideshow": {
     "slide_type": "fragment"
    }
   },
   "source": [
    "## A: Orde aanbrengen \n",
    "\n",
    "* We onderscheiden 4 soorten"
   ]
  },
  {
   "cell_type": "markdown",
   "id": "0b251a9c",
   "metadata": {
    "slideshow": {
     "slide_type": "slide"
    }
   },
   "source": [
    "# Soorten ML\n",
    "\n",
    "## Groeperen en sorteren\n",
    "\n",
    "* Verdeel ongeordende verzameling items in groepjes\n",
    "\n",
    "## Classificeren\n",
    "\n",
    "* geef items een klasse, een label, benoem ze als lid van soort X\n",
    "\n",
    "## Voorspellen\n",
    "\n",
    "* voorspel een waarde voor een bepaalde eigenschap van een item, gegeven waardes op andere eigenschappen\n",
    "\n",
    "## Handelen \n",
    "\n",
    "* hoe te handelen in een (nieuwe) situatie?"
   ]
  },
  {
   "cell_type": "markdown",
   "id": "dcd25276",
   "metadata": {
    "slideshow": {
     "slide_type": "slide"
    }
   },
   "source": [
    "## 1. Unsupervised learning\n",
    "\n",
    "* Groeperen en sorteren\n",
    "* Details wegabstraheren ('de kern van iets zien\")\n",
    "\n",
    "\n",
    "\n",
    "##  2. Supervised learning\n",
    "\n",
    "* Learn how to predict a value on a property of unseen items from having seen many examples.\n",
    "\n",
    "* Classificeren\n",
    "* Voorspellen \n",
    "\n",
    "\n",
    " \n",
    "## 3. Reinforcement learning\n",
    "\n",
    "*  how intelligent agents ought to take actions in an environment in order to maximize the notion of cumulative reward.\n",
    "* \"leren door (uit) te proberen\", en na elke actie feedback te krijgen\n",
    "    * Bijv: Alpha Go heeft heel veel potjes go tegen zichzelf gespeeld, en zich daardoor enorm verbeterd"
   ]
  },
  {
   "cell_type": "markdown",
   "id": "388236e1",
   "metadata": {
    "slideshow": {
     "slide_type": "slide"
    }
   },
   "source": [
    "# Groeperen en sorteren\n",
    "\n",
    "## Invoer\n",
    "\n",
    "![](../img/rommeligste-kinderkamer-verenigd-koninkrijk.png)"
   ]
  },
  {
   "cell_type": "markdown",
   "id": "7c6c8b1b",
   "metadata": {
    "slideshow": {
     "slide_type": "slide"
    }
   },
   "source": [
    "## Uitvoer\n",
    "\n",
    "![](https://shurgard-media-library.s3.eu-west-1.amazonaws.com/shutterstock_600332639-1024x683.jpg)"
   ]
  },
  {
   "cell_type": "markdown",
   "id": "d16626ca",
   "metadata": {
    "slideshow": {
     "slide_type": "slide"
    }
   },
   "source": [
    "# Classificeren\n",
    "\n",
    "## Jullie een voorbeeld"
   ]
  },
  {
   "cell_type": "markdown",
   "id": "8f5cf263",
   "metadata": {
    "slideshow": {
     "slide_type": "fragment"
    }
   },
   "source": [
    "* **Invoer**: willekeurige student hier op science park\n",
    "    * allerlei eigenschappen van haar\n",
    "* **Uitvoer**: welke studie ze doet."
   ]
  },
  {
   "cell_type": "markdown",
   "id": "b39e72de",
   "metadata": {
    "slideshow": {
     "slide_type": "slide"
    }
   },
   "source": [
    "# ~~Voorspellen~~ Regressie\n",
    "\n",
    "* Geen klasse voorspellen maar een numerieke waarde.\n",
    "\n",
    "## Jullie een voorbeeld met zelfde invoer"
   ]
  },
  {
   "cell_type": "markdown",
   "id": "2702cd00",
   "metadata": {
    "slideshow": {
     "slide_type": "slide"
    }
   },
   "source": [
    "# Reinforcement learning\n",
    "\n",
    "* Hoe een bankrover een heel moeilijk cijferslot kraakt\n",
    "    * HERHAAL proberen, luisteren, aanpassen  TODAT deur openspringt\n",
    "    \n",
    "### Niet in deze cursus"
   ]
  },
  {
   "cell_type": "markdown",
   "id": "d29148d4",
   "metadata": {
    "slideshow": {
     "slide_type": "slide"
    }
   },
   "source": [
    "# Vandaag: leren van voorbeelden\n",
    "\n",
    "* Een van de meest simpele methodes, ontwikkeld in 1951.\n",
    "\n",
    "## Wat gaan we nu doen?\n",
    "\n",
    "* Jullie \"ontdekken/verzinnen\" die methode zelf."
   ]
  },
  {
   "cell_type": "markdown",
   "id": "1f98061f",
   "metadata": {
    "slideshow": {
     "slide_type": "slide"
    }
   },
   "source": [
    "# leren van voorbeelden: dit is het\n",
    "\n",
    "### Invoer: heel veel voorbeelden.\n",
    "\n",
    "##### Voorbeeld \n",
    "\n",
    "* Kan je zien als een verzameling van attribuut-waaarde paartjes die een object beschrijft.\n",
    "* Met 1 paar dat we willen voorspellen.\n",
    "* `{'sex':'M', 'lengte': 195, 'gewicht': 90, 'drinkt_te_veel': True}`\n",
    "\n",
    "\n",
    "### Uitvoer: \n",
    "\n",
    "* methode die op een nieuw nooit gezien object de waarde van het te voorspellen attribuut zo goed mogelijk voorspelt."
   ]
  },
  {
   "cell_type": "markdown",
   "id": "513ea720",
   "metadata": {
    "slideshow": {
     "slide_type": "slide"
    }
   },
   "source": [
    "# Hoe zou je zo'n methode kunnen maken?\n",
    "\n",
    "### stap 1: maak het concreet\n",
    "\n",
    "* Voorbeeld van iemand die zo'n voorspellings-taak de hele dag doet.\n",
    "* Hoe ziet haar trainingsdata eruit?\n",
    "* Hoe komt ze nou tot haar beslissingen?\n",
    "\n",
    "### Stap 2: maak er een algorithme van"
   ]
  },
  {
   "cell_type": "markdown",
   "id": "2359b3e2",
   "metadata": {
    "slideshow": {
     "slide_type": "slide"
    }
   },
   "source": [
    "### stap 1: maak het concreet\n",
    "\n",
    "* Voorbeeld van iemand die zo'n voorspellings-taak de hele dag doet."
   ]
  },
  {
   "cell_type": "markdown",
   "id": "ef9f33f8",
   "metadata": {
    "slideshow": {
     "slide_type": "fragment"
    }
   },
   "source": [
    "* de huisarts, een politieagent, een automonteur, ...."
   ]
  },
  {
   "cell_type": "markdown",
   "id": "a5c240c5",
   "metadata": {
    "slideshow": {
     "slide_type": "fragment"
    }
   },
   "source": [
    "* Hoe ziet haar trainingsdata eruit?"
   ]
  },
  {
   "cell_type": "markdown",
   "id": "f7c20fdf",
   "metadata": {
    "slideshow": {
     "slide_type": "fragment"
    }
   },
   "source": [
    "* andere patienten, burgers, kapotte autos"
   ]
  },
  {
   "cell_type": "markdown",
   "id": "ed675cf7",
   "metadata": {
    "slideshow": {
     "slide_type": "fragment"
    }
   },
   "source": [
    "* Hoe komt ze nou tot haar beslissingen?"
   ]
  },
  {
   "cell_type": "markdown",
   "id": "d87732b1",
   "metadata": {
    "slideshow": {
     "slide_type": "slide"
    }
   },
   "source": [
    "# Onthou al je voorbeelden\n",
    "\n",
    "\n",
    "### methode\n",
    "\n",
    "* Als je een nieuw item *i* binnen krijgt,\n",
    "* zoek je in je bewaarde voorbeelden, diegenen die **het meest op *i* lijken**\n",
    "    * de **nearest neighbors**\n",
    "* Van die voorbeelden weet je de uitkomst,\n",
    "* daarmee bepaal je de uitkomst voor het nieuwe item *i*\n",
    "    * Bij Categoriaal: ....\n",
    "    * Bij numerieke: ...."
   ]
  },
  {
   "cell_type": "markdown",
   "id": "0db42243",
   "metadata": {
    "slideshow": {
     "slide_type": "fragment"
    }
   },
   "source": [
    "# Jullie: \n",
    "\n",
    "* Is dit al een algoritme?\n",
    "* Wat moeten we nog precies maken?"
   ]
  },
  {
   "cell_type": "markdown",
   "id": "f4bca65d",
   "metadata": {
    "slideshow": {
     "slide_type": "slide"
    }
   },
   "source": [
    "# KNN: k nearest neighbors\n",
    "\n",
    "* Nog precies maken\n",
    "    * Hoeveel buren gebruiken we?\n",
    "    * Hoe bepaal je hoeveel 2 items op elkaar lijken?"
   ]
  },
  {
   "cell_type": "markdown",
   "id": "957fb079",
   "metadata": {
    "slideshow": {
     "slide_type": "slide"
    }
   },
   "source": [
    "# Similariteit en afstand zijn sleutelbegrippen in ML\n",
    "\n",
    "* Objecten zijn dicts: verzamelingen attribuut waarde paartjes.\n",
    "* Het is duidelijk wanneer 2 item **hetzelfde zijn**.\n",
    "* Als similariteit  tussen 0 en 1 ligt:   afstand = 1 - similariteit."
   ]
  },
  {
   "cell_type": "markdown",
   "id": "243c0b25",
   "metadata": {
    "slideshow": {
     "slide_type": "fragment"
    }
   },
   "source": [
    "#### Makkelijk als waardes allemaal numeriek zijn\n",
    "\n",
    "* helemaal makkelijk in 2 dimensies\n",
    "* Stel 2 objecten, met 2 attributen.\n",
    "    * Kunnen we ook als **lijst** weergeven in plaats van dict\n",
    "    * Positie bepaalgt om welk attribuut het gaat.\n",
    "* $p=[p_1,p_2]$ en $q=[q_1,q_2]$"
   ]
  },
  {
   "cell_type": "markdown",
   "id": "6dffff4c",
   "metadata": {
    "slideshow": {
     "slide_type": "slide"
    }
   },
   "source": [
    "# Pythagoras\n",
    "\n",
    "![](https://upload.wikimedia.org/wikipedia/commons/thumb/5/55/Euclidean_distance_2d.svg/600px-Euclidean_distance_2d.svg.png)"
   ]
  },
  {
   "cell_type": "markdown",
   "id": "632b1304",
   "metadata": {
    "slideshow": {
     "slide_type": "slide"
    }
   },
   "source": [
    "# Euclidean distance\n",
    "\n",
    "* Generaliseert gewoon van 2 naar zoveel dimensies als je wilt.\n",
    "* In 3 dimensies\n",
    "* $$d(p,q)=\\sqrt{(p_1-q_1)^2 + (p_2-q_2)^2 + (p_3-q_3)^2}$$\n",
    "* En algemeen\n",
    "* $$ \\sqrt{\\Sigma_i (p_i-q_i)^2}$$\n",
    "\n",
    "\n",
    "#### lengte van een vector\n",
    "\n",
    "* Tsja, dat is gewoon $|p|= \\sqrt{\\Sigma_i p_i^2}$.\n",
    "* Dus de afstand tussen p en q is dus gewoon de lengte van  $p-q$!"
   ]
  },
  {
   "cell_type": "code",
   "execution_count": 1,
   "id": "7669859c",
   "metadata": {
    "slideshow": {
     "slide_type": "slide"
    }
   },
   "outputs": [
    {
     "name": "stdout",
     "output_type": "stream",
     "text": [
      "1.4142135623730951\n"
     ]
    },
    {
     "data": {
      "text/plain": [
       "1.4142135623730951"
      ]
     },
     "execution_count": 1,
     "metadata": {},
     "output_type": "execute_result"
    }
   ],
   "source": [
    "import numpy as np\n",
    "\n",
    "a,b= np.array([1, 0, 0]), np.array([0, 1, 0])\n",
    "print(np.linalg.norm(a-b))\n",
    "\n",
    "from scipy.spatial import distance\n",
    "distance.euclidean(a,b)"
   ]
  },
  {
   "cell_type": "markdown",
   "id": "a6003f54",
   "metadata": {
    "slideshow": {
     "slide_type": "slide"
    }
   },
   "source": [
    " # Your turn\n",
    " \n",
    " De afstand tussen \n",
    " \n",
    " * persoon a met lengte 12 en gewicht 5\n",
    " * persoon b met lengte 15 en gewicht 9"
   ]
  },
  {
   "cell_type": "code",
   "execution_count": 2,
   "id": "38da278c",
   "metadata": {
    "slideshow": {
     "slide_type": "fragment"
    }
   },
   "outputs": [
    {
     "data": {
      "text/plain": [
       "5.0"
      ]
     },
     "execution_count": 2,
     "metadata": {},
     "output_type": "execute_result"
    }
   ],
   "source": [
    "distance.euclidean([12,5],[15,9])"
   ]
  },
  {
   "cell_type": "markdown",
   "id": "c58648d0",
   "metadata": {
    "slideshow": {
     "slide_type": "fragment"
    }
   },
   "source": [
    "* gewoon de formule invullen:\n",
    "\n",
    "$$ \\sqrt{ (12-15)^2 + (5-9)^2)}= \\sqrt{ 3^2 + 4^2)}= \\sqrt{9+16}=\\sqrt{25}=5$$"
   ]
  },
  {
   "cell_type": "markdown",
   "id": "1e1dde66",
   "metadata": {
    "slideshow": {
     "slide_type": "slide"
    }
   },
   "source": [
    "# Even pas op de plaats\n",
    "\n",
    "## Waar zijn we en wat deden we?\n",
    "\n",
    "1. Gingen een voorspeller maken op basis van al geziene voorbeelden.\n",
    "2. Gegeven een nieuw object i zochten we de **k dichtsbij liggende voorbeelden** op\n",
    "3. En bepaalden de waarde voor i uit de waardes op die k voorbeelden.\n",
    "\n",
    "### Ah hoe bepalen we die waarde?\n",
    "\n",
    "* Bij Categoriaal: ....\n",
    "* Bij numerieke: ...."
   ]
  },
  {
   "cell_type": "markdown",
   "id": "12aa353c",
   "metadata": {
    "slideshow": {
     "slide_type": "slide"
    }
   },
   "source": [
    "# KNN algoritme\n",
    "\n",
    "\n",
    "* `def knn(Examples,i,k=5):`\n",
    "    * 1. find the 5 closest items in Examples to i\n",
    "    * 2. Regression: output the mean value of these items\n",
    "    * 2. Classification: output the most common value of these items.\n"
   ]
  },
  {
   "cell_type": "markdown",
   "id": "29ea749c",
   "metadata": {
    "slideshow": {
     "slide_type": "slide"
    }
   },
   "source": [
    "# KNN bijzonderheden\n",
    "\n",
    "1. Je \"leert niks\", je onthoud gewoon alles.\n",
    "    * Normaal betekent leren \"indikken\", een model maken, iets dat \"kleiner\" is dan alle voorbeelden.\n",
    "2. Daarom is KNN ook best *duur*.\n",
    "    * Train tijd is natuurlijk heel kort.... ;-)\n",
    "    * Maar test tijd is best lang\n",
    "        * Met N voorbeelden: N keer distance uitrekenen\n",
    "        * dan nog ordenen, \n",
    "        * en waarde bepalen.\n",
    "        \n",
    "\n",
    "## KNN verbeteringen\n",
    "\n",
    "1. Heap in plaats van sorteren.\n",
    "2. Niet alle voorbeelden onthouden, maar een selectie van \"representatieve stereiotypes\"\n",
    "3. NU: elk van de k voorbeelden weegt even zwaar mee.\n",
    "    * Verbetering: ...."
   ]
  },
  {
   "cell_type": "markdown",
   "id": "b5a6268d",
   "metadata": {
    "slideshow": {
     "slide_type": "slide"
    }
   },
   "source": [
    "# Vergelijk KNN met lineaire regressie\n",
    "\n",
    "* Voordelen lin reg:\n",
    "    * Lineaire regressie geeft je een simpele regel:\n",
    "        * tip = 10% van het totale bedrag.\n",
    "    * heel snel uitgerekend voor nieuw item\n",
    "    * Je hebt een model dat je kunt \"begrijpen\". \n",
    "* Nadeel\n",
    "    * werkt alleen goed als de aanname van een **lineaire vorm** ook past bij de data.\n",
    "    \n",
    "![](https://miro.medium.com/max/1222/1*jopCO2kMEI84s6fiGKdXqg.png)        \n",
    "    "
   ]
  },
  {
   "cell_type": "markdown",
   "id": "0f488fd5",
   "metadata": {
    "slideshow": {
     "slide_type": "slide"
    }
   },
   "source": [
    "# KNN is non parametric\n",
    "\n",
    "\n",
    "\n",
    "\n",
    ">Nonparametric regression is a category of regression analysis in which the predictor does not take a predetermined form but is constructed according to information derived from the data. That is, no parametric form is assumed for the relationship between predictors and dependent variable. [Wikipedia](https://en.wikipedia.org/wiki/Nonparametric_regression)\n",
    "\n",
    "<div>\n",
    "<img src=\"../img/non_parametric_ex.png\" width=\"500\"/>\n",
    "</div>\n",
    "<!--![](../img/non_parametric_ex.png)-->"
   ]
  },
  {
   "cell_type": "markdown",
   "id": "fc1df5e7",
   "metadata": {
    "slideshow": {
     "slide_type": "slide"
    }
   },
   "source": [
    "# KNN is non parametric\n",
    "\n",
    "* Ruwweg gezegd: je neemt geen enkele vooraf vastgestelde vorm van de te voorspellen data aan. \n",
    "* Heel veel ML methodes zijn juist wel parametrisch (en meestal met een aanname van een lineaire vorm)\n",
    "* Niet parametrisch:\n",
    "    * KNN\n",
    "    * Decision trees\n",
    "    * $\\pm$ Neural networks\n",
    "        * A standard deep neural network (DNN) is, technically speaking, parametric since it has a fixed number of parameters. However, most DNNs have so many parameters that they could be interpreted as nonparametric; it has been proven that in the limit of infinite width, a deep neural network can be seen as a Gaussian process (GP), which is a nonparametric model [Lee et al., 2018]."
   ]
  },
  {
   "cell_type": "markdown",
   "id": "05d326ff",
   "metadata": {
    "slideshow": {
     "slide_type": "slide"
    }
   },
   "source": [
    "# Wrap up\n",
    "\n",
    "* Meest simpele supervised learning method besproken: KNN.\n",
    "* Werkt voor regressie en classificatie.\n",
    "* Duur in opslag en predictie.\n",
    "* Goed voor wild gevormde data.\n",
    "* Heel snel te ontwikkelen baseline.\n",
    "\n",
    "## Huiswerk\n",
    "\n",
    "* Hiermee verder.\n",
    "\n",
    "## Volgende week\n",
    "\n",
    "* Unsupervsied learning"
   ]
  },
  {
   "cell_type": "code",
   "execution_count": null,
   "id": "96960f2a",
   "metadata": {
    "slideshow": {
     "slide_type": "skip"
    }
   },
   "outputs": [],
   "source": []
  }
 ],
 "metadata": {
  "celltoolbar": "Slideshow",
  "kernelspec": {
   "display_name": "Python 3 (ipykernel)",
   "language": "python",
   "name": "python3"
  },
  "language_info": {
   "codemirror_mode": {
    "name": "ipython",
    "version": 3
   },
   "file_extension": ".py",
   "mimetype": "text/x-python",
   "name": "python",
   "nbconvert_exporter": "python",
   "pygments_lexer": "ipython3",
   "version": "3.9.7"
  },
  "toc": {
   "nav_menu": {},
   "number_sections": false,
   "sideBar": true,
   "skip_h1_title": false,
   "title_cell": "Table of Contents",
   "title_sidebar": "Contents",
   "toc_cell": false,
   "toc_position": {},
   "toc_section_display": true,
   "toc_window_display": false
  }
 },
 "nbformat": 4,
 "nbformat_minor": 5
}

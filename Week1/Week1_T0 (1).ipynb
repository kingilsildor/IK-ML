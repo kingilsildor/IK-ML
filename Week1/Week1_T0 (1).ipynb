{
 "cells": [
  {
   "cell_type": "code",
   "execution_count": 24,
   "metadata": {
    "slideshow": {
     "slide_type": "skip"
    }
   },
   "outputs": [
    {
     "name": "stdout",
     "output_type": "stream",
     "text": [
      "[NbConvertApp] Converting notebook Week1_T0.ipynb to slides\n",
      "[NbConvertApp] Writing 706367 bytes to Week1_T0.slides.html\n",
      "[NbConvertApp] Redirecting reveal.js requests to https://cdnjs.cloudflare.com/ajax/libs/reveal.js/3.5.0\n",
      "Serving your slides at http://127.0.0.1:8000/Week1_T0.slides.html\n",
      "Use Control-C to stop this server\n",
      "^C\n",
      "\n",
      "Interrupted\n"
     ]
    }
   ],
   "source": [
    "!jupyter nbconvert Week1_T0.ipynb --to slides --post serve"
   ]
  },
  {
   "cell_type": "code",
   "execution_count": 12,
   "metadata": {
    "slideshow": {
     "slide_type": "skip"
    }
   },
   "outputs": [],
   "source": [
    "import seaborn as sns\n",
    "import numpy as np\n",
    "import pandas as pd\n",
    "from  sklearn import linear_model\n",
    "import matplotlib.pyplot as plt"
   ]
  },
  {
   "cell_type": "markdown",
   "metadata": {
    "slideshow": {
     "slide_type": "slide"
    }
   },
   "source": [
    "# Applied Machine Learning Overzicht\n",
    "\n",
    "\n",
    "1.  Alles via Canvas\n",
    "2. Huiswerk in groepjes, elke week een ander groepje uit jouw klas\n",
    "    3. Wordt nagekeken, jullie krijgen feedback, en alles komt anoniem op github.\n",
    "    4. Behandel huiswerk in het tweede college in de week. \n",
    "\n",
    "## tentamens\n",
    "\n",
    "* 2 deeltentamens, ieder 50%, 2 uur in Jupyter notebook.\n",
    "* Volgende dag, responsiecollege, en hopelijk ook nagekeken."
   ]
  },
  {
   "cell_type": "markdown",
   "metadata": {
    "slideshow": {
     "slide_type": "slide"
    }
   },
   "source": [
    "# What is Machine Learning?\n",
    "\n",
    "\n",
    ">Machine learning algorithms build a model based on sample data, known as training data, in order to make predictions or decisions on new unseen data, without being explicitly programmed to do so."
   ]
  },
  {
   "cell_type": "markdown",
   "metadata": {
    "slideshow": {
     "slide_type": "slide"
    }
   },
   "source": [
    "#  **Week by week Course setup**\n",
    "\n",
    "1. Introductie, KNN\n",
    "3. unsupervised learning\n",
    "2. Evaluatie\n",
    "4. Exam\n",
    "6.\tRegressie\n",
    "5.  Classificatie\n",
    "7. Neural networks;Wrap up\n",
    "8. Exam"
   ]
  },
  {
   "cell_type": "markdown",
   "metadata": {
    "slideshow": {
     "slide_type": "slide"
    }
   },
   "source": [
    "## Data Science/Machine Learning \"steps\"\n",
    "\n",
    "1. “Interacting with the outside world\n",
    "    * Reading and writing with a variety of file formats and databases.\n",
    "2. Preparation\n",
    "    * Cleaning, munging, combining, normalizing, reshaping, slicing and dicing, and transforming data for analysis.\n",
    "3. Transformation\n",
    "    * Applying mathematical and statistical operations to groups of data sets to derive new data sets. \n",
    "    * For example, aggregating a large table by group variables.\n",
    "4. Modeling and computation\n",
    "    * Connecting your data to statistical models, machine learning algorithms, or other computational tools\n",
    "5. Presentation\n",
    "    * Creating interactive or static graphical visualizations or textual summaries”\n",
    "\n",
    "Excerpt From: Wes McKinney. “Python for Data Analysis.”\n",
    "\n",
    "* Steps 1-3 is the topic of your data science course. \n",
    "* **Step 4 is the topic of this course.**\n",
    "* Step 5 of your Information Visualization course. \n"
   ]
  },
  {
   "cell_type": "markdown",
   "metadata": {
    "slideshow": {
     "slide_type": "slide"
    }
   },
   "source": [
    "# Python\n",
    "* Python is great for data science, as it let you do all these steps inside one programming framework.\n",
    "* Using notebooks, you can in fact do all these steps inside one notebook for a small project. "
   ]
  },
  {
   "cell_type": "markdown",
   "metadata": {
    "slideshow": {
     "slide_type": "slide"
    }
   },
   "source": [
    "# Learning outcomes of this course\n",
    "\n",
    "\n",
    "See Canvas\n",
    "\n",
    "1. You can answer these questions: What is ML? What can it do and what not?\n",
    "2. You can make a good prediction whether a certain task is suitable to be solved by ML, **given the data available**.\n",
    "3. You are able to run ML algorithms on *clean data*, to improve them, and to compare their performance.\n",
    "4. You are able to evaluate the quality of an ML model.\n",
    "5. You understand how one fits a *regression line* through a data point cloud, and appreciate the beauty and cunningness of the used method, called *gradient descent*.\n",
    "5. You can explain to some extend what a neural network is, and how it learns.\n",
    "6. You are a lot more comfortable with programming in Jupyter notebooks than you are today."
   ]
  },
  {
   "cell_type": "markdown",
   "metadata": {
    "slideshow": {
     "slide_type": "slide"
    }
   },
   "source": [
    "# Tips for passing this course"
   ]
  },
  {
   "cell_type": "markdown",
   "metadata": {
    "slideshow": {
     "slide_type": "slide"
    }
   },
   "source": [
    "### At the lectures\n",
    "\n",
    "* Sit in front of the class.\n",
    "* Make (lots of) notes\n",
    "    * Especially when he explains something \"theoretical\"\n",
    "        * That Marx-guy loves to ask exam questions about such things\n",
    "        "
   ]
  },
  {
   "cell_type": "markdown",
   "metadata": {
    "slideshow": {
     "slide_type": "slide"
    }
   },
   "source": [
    "### At home\n",
    "\n",
    "* Get really handy with the notebook/Python/Pandas **without Google/internet/StackOverflow**\n",
    "    * but with `period TAB` and `function?` and `method?`\n",
    "    "
   ]
  },
  {
   "cell_type": "markdown",
   "metadata": {
    "slideshow": {
     "slide_type": "slide"
    }
   },
   "source": [
    "### In your group\n",
    "\n",
    "* check and question each other\n",
    "    * ~~in partucluar when you partition the assignment~~\n",
    "* use your peers\n",
    "* discuss the four found solutions, compare them, and refactor them into one supergreat solution."
   ]
  },
  {
   "cell_type": "markdown",
   "metadata": {
    "slideshow": {
     "slide_type": "slide"
    }
   },
   "source": [
    "### Don't think you learn something from seeing the answer to a problem.\n",
    "\n",
    "* If you still do, I suggest\n",
    "    * answer the problem from the top of your head on the way home in the bus/on your bike\n",
    "    * same, but at home in a notebook\n",
    "    * witghout fooling yourself.\n",
    "* also for me that is often very hard."
   ]
  },
  {
   "cell_type": "markdown",
   "metadata": {
    "slideshow": {
     "slide_type": "slide"
    }
   },
   "source": [
    "# Attention: pencils ready\n",
    "\n",
    "*  theoretical topics ahead\n",
    "    * evaluation,  \n",
    "    * baselines"
   ]
  },
  {
   "cell_type": "markdown",
   "metadata": {
    "slideshow": {
     "slide_type": "slide"
    }
   },
   "source": [
    "# ML and evaluation\n",
    "\n",
    "* In machine learning we always **evaluate** models:\n",
    "    * **Classification:** \n",
    "        * Accuracy, Precision, Recall,  F1\n",
    "    * **Regression:** \n",
    "        * RMSE\n",
    "        \n",
    "![](https://miro.medium.com/max/1222/1*jopCO2kMEI84s6fiGKdXqg.png)        \n",
    "    "
   ]
  },
  {
   "cell_type": "markdown",
   "metadata": {
    "slideshow": {
     "slide_type": "slide"
    }
   },
   "source": [
    "# Just a short (<strike>intelligence</strike>) test\n",
    "\n",
    "* RMSE\n",
    "    * Root\n",
    "        * Mean\n",
    "            * Squared\n",
    "                * Error\n",
    "                \n",
    "## Program it in Python\n",
    "\n",
    "* You are given two arrays `true` and `predicted` of the same length with the values\n"
   ]
  },
  {
   "cell_type": "code",
   "execution_count": 13,
   "metadata": {
    "slideshow": {
     "slide_type": "slide"
    }
   },
   "outputs": [
    {
     "data": {
      "text/plain": [
       "0.7745966692414834"
      ]
     },
     "execution_count": 13,
     "metadata": {},
     "output_type": "execute_result"
    }
   ],
   "source": [
    "from math import sqrt\n",
    "\n",
    "true= [2,3,5,2,4]\n",
    "predicted= [2,2,4,2,5]\n",
    "\n",
    "def rmse(A,B):\n",
    "    N= len(A)\n",
    "    return sqrt( sum( (A[i]-B[i])**2  for i in range(N) )\n",
    "                 /\n",
    "                N\n",
    "               )\n",
    "\n",
    "rmse(true,predicted)"
   ]
  },
  {
   "cell_type": "markdown",
   "metadata": {
    "slideshow": {
     "slide_type": "slide"
    }
   },
   "source": [
    "# In reality in ML:\n",
    "\n",
    "\n",
    "* vectorized computations\n",
    "    * very very fast\n",
    "    * super elegant"
   ]
  },
  {
   "cell_type": "code",
   "execution_count": 14,
   "metadata": {
    "slideshow": {
     "slide_type": "fragment"
    }
   },
   "outputs": [
    {
     "data": {
      "text/plain": [
       "0.7745966692414834"
      ]
     },
     "execution_count": 14,
     "metadata": {},
     "output_type": "execute_result"
    }
   ],
   "source": [
    "import numpy as np\n",
    "\n",
    "def rmse(A,B):\n",
    "    A,B = np.array(A), np.array(B)\n",
    "    return sqrt( ((A-B)**2).mean()  )\n",
    "\n",
    "rmse(true,predicted)"
   ]
  },
  {
   "cell_type": "markdown",
   "metadata": {
    "slideshow": {
     "slide_type": "slide"
    }
   },
   "source": [
    "# Baselines\n",
    "\n",
    "\n",
    "### Your problem if you have to convince your manager/examiner/friend/....\n",
    "* Suppose you have trained a classifier and it has accuracy $A$.\n",
    "    * Is that good?\n",
    "    * How to assess that?\n",
    "    "
   ]
  },
  {
   "cell_type": "markdown",
   "metadata": {
    "slideshow": {
     "slide_type": "fragment"
    }
   },
   "source": [
    "* **Compare to a baseline!**"
   ]
  },
  {
   "cell_type": "markdown",
   "metadata": {
    "slideshow": {
     "slide_type": "fragment"
    }
   },
   "source": [
    "* Baseline? \n",
    "    * A predictor \"learned\" using only **global** information\n",
    "        * **That is, the distribution of the classes or values  over the population.**\n",
    "    * Your predictor is only based on  \"prejudice\"\n",
    "    * It does not use any feature of an instance\n",
    "    "
   ]
  },
  {
   "cell_type": "markdown",
   "metadata": {
    "slideshow": {
     "slide_type": "fragment"
    }
   },
   "source": [
    "## a rule-based predictor!"
   ]
  },
  {
   "cell_type": "markdown",
   "metadata": {
    "slideshow": {
     "slide_type": "slide"
    }
   },
   "source": [
    "# Your turn: what would be a good baseline for\n",
    "\n",
    "### Geslacht informatiekunde student\n",
    "\n",
    "* waarom?"
   ]
  },
  {
   "cell_type": "markdown",
   "metadata": {
    "slideshow": {
     "slide_type": "fragment"
    }
   },
   "source": [
    "### Jullie cijfer voor dit vak\n",
    "\n"
   ]
  },
  {
   "cell_type": "markdown",
   "metadata": {
    "slideshow": {
     "slide_type": "fragment"
    }
   },
   "source": [
    "### het aantal uur zon vandaag\n",
    "\n"
   ]
  },
  {
   "cell_type": "markdown",
   "metadata": {
    "slideshow": {
     "slide_type": "slide"
    }
   },
   "source": [
    "#  What would be a good baseline for tipping?"
   ]
  },
  {
   "cell_type": "code",
   "execution_count": 15,
   "metadata": {
    "scrolled": true,
    "slideshow": {
     "slide_type": "fragment"
    }
   },
   "outputs": [
    {
     "name": "stdout",
     "output_type": "stream",
     "text": [
      "(244, 7)\n"
     ]
    },
    {
     "data": {
      "text/html": [
       "<div>\n",
       "<style scoped>\n",
       "    .dataframe tbody tr th:only-of-type {\n",
       "        vertical-align: middle;\n",
       "    }\n",
       "\n",
       "    .dataframe tbody tr th {\n",
       "        vertical-align: top;\n",
       "    }\n",
       "\n",
       "    .dataframe thead th {\n",
       "        text-align: right;\n",
       "    }\n",
       "</style>\n",
       "<table border=\"1\" class=\"dataframe\">\n",
       "  <thead>\n",
       "    <tr style=\"text-align: right;\">\n",
       "      <th></th>\n",
       "      <th>total_bill</th>\n",
       "      <th>tip</th>\n",
       "      <th>sex</th>\n",
       "      <th>smoker</th>\n",
       "      <th>day</th>\n",
       "      <th>time</th>\n",
       "      <th>size</th>\n",
       "    </tr>\n",
       "  </thead>\n",
       "  <tbody>\n",
       "    <tr>\n",
       "      <th>0</th>\n",
       "      <td>16.99</td>\n",
       "      <td>1.01</td>\n",
       "      <td>Female</td>\n",
       "      <td>No</td>\n",
       "      <td>Sun</td>\n",
       "      <td>Dinner</td>\n",
       "      <td>2</td>\n",
       "    </tr>\n",
       "    <tr>\n",
       "      <th>1</th>\n",
       "      <td>10.34</td>\n",
       "      <td>1.66</td>\n",
       "      <td>Male</td>\n",
       "      <td>No</td>\n",
       "      <td>Sun</td>\n",
       "      <td>Dinner</td>\n",
       "      <td>3</td>\n",
       "    </tr>\n",
       "  </tbody>\n",
       "</table>\n",
       "</div>"
      ],
      "text/plain": [
       "   total_bill   tip     sex smoker  day    time  size\n",
       "0       16.99  1.01  Female     No  Sun  Dinner     2\n",
       "1       10.34  1.66    Male     No  Sun  Dinner     3"
      ]
     },
     "execution_count": 15,
     "metadata": {},
     "output_type": "execute_result"
    },
    {
     "data": {
      "image/png": "[encoded data removed]",
      "text/plain": [
       "<Figure size 432x288 with 1 Axes>"
      ]
     },
     "metadata": {
      "needs_background": "light"
     },
     "output_type": "display_data"
    }
   ],
   "source": [
    "tips = sns.load_dataset('tips')\n",
    "print(tips.shape)\n",
    "sns.regplot(x='total_bill', y='tip', data=tips);\n",
    "tips.head(2)"
   ]
  },
  {
   "cell_type": "markdown",
   "metadata": {
    "slideshow": {
     "slide_type": "slide"
    }
   },
   "source": [
    "# Baseline \n",
    "\n",
    "* The best guess, based only on the tip column."
   ]
  },
  {
   "cell_type": "markdown",
   "metadata": {
    "slideshow": {
     "slide_type": "fragment"
    }
   },
   "source": [
    "* mean or median!\n",
    "* A horizontal straight line in our plot: we always tip the same amount, no matter the price on the bill"
   ]
  },
  {
   "cell_type": "code",
   "execution_count": 16,
   "metadata": {
    "slideshow": {
     "slide_type": "fragment"
    }
   },
   "outputs": [
    {
     "data": {
      "text/plain": [
       "(3.0, 2.9)"
      ]
     },
     "execution_count": 16,
     "metadata": {},
     "output_type": "execute_result"
    }
   ],
   "source": [
    "round(tips.tip.mean(),2), round(tips.tip.median(),2)"
   ]
  },
  {
   "cell_type": "markdown",
   "metadata": {
    "slideshow": {
     "slide_type": "slide"
    }
   },
   "source": [
    "# Evaluate!\n",
    "\n",
    "* RMSE of course!"
   ]
  },
  {
   "cell_type": "code",
   "execution_count": 17,
   "metadata": {
    "slideshow": {
     "slide_type": "fragment"
    }
   },
   "outputs": [
    {
     "data": {
      "text/plain": [
       "1.3807999538298954"
      ]
     },
     "execution_count": 17,
     "metadata": {},
     "output_type": "execute_result"
    }
   ],
   "source": [
    "rmse(tips.tip.values,tips.tip.mean())"
   ]
  },
  {
   "cell_type": "code",
   "execution_count": 18,
   "metadata": {
    "slideshow": {
     "slide_type": "fragment"
    }
   },
   "outputs": [
    {
     "data": {
      "text/plain": [
       "1.38"
      ]
     },
     "execution_count": 18,
     "metadata": {},
     "output_type": "execute_result"
    }
   ],
   "source": [
    "# much better. \n",
    "# Please do not come over as naieve and pretend you know \n",
    "# something with such precision\n",
    "# Even at Olimpic games they do not measure up to such precision\n",
    "\n",
    "round(rmse(tips.tip.values,tips.tip.mean()),2)"
   ]
  },
  {
   "cell_type": "markdown",
   "metadata": {
    "slideshow": {
     "slide_type": "slide"
    }
   },
   "source": [
    "# Huh?\n",
    "\n",
    "* What is crazy here? `rmse(tips.tip.values,tips.tip.mean())`"
   ]
  },
  {
   "cell_type": "markdown",
   "metadata": {
    "slideshow": {
     "slide_type": "slide"
    }
   },
   "source": [
    "* `tips.tip.values` is a long array of values\n",
    "* `tips.tip.mean()` is just a number.\n",
    "* RMSE is comparing two equal array lengths"
   ]
  },
  {
   "cell_type": "code",
   "execution_count": 19,
   "metadata": {
    "slideshow": {
     "slide_type": "fragment"
    }
   },
   "outputs": [
    {
     "data": {
      "text/plain": [
       "1.3807999538298954"
      ]
     },
     "execution_count": 19,
     "metadata": {},
     "output_type": "execute_result"
    }
   ],
   "source": [
    "true=tips.tip.values\n",
    "predicted = [tips.tip.mean() for _ in range(len(true))]\n",
    "\n",
    "rmse(true,predicted)"
   ]
  },
  {
   "cell_type": "markdown",
   "metadata": {
    "slideshow": {
     "slide_type": "fragment"
    }
   },
   "source": [
    "#### Rubberband nature of numpy and pandas: broadcasting"
   ]
  },
  {
   "cell_type": "markdown",
   "metadata": {
    "slideshow": {
     "slide_type": "slide"
    }
   },
   "source": [
    "# Always compare your learned model to baselines\n",
    "\n",
    "* It  schould really do better than  the baseline.\n",
    "* \"really\" means **significant**\n",
    "    * in the true meaning of that word: which chance less than 5% that we are wrong (and the learned model  is NOT doing better)\n",
    "* Topic in week    3 "
   ]
  },
  {
   "cell_type": "markdown",
   "metadata": {
    "slideshow": {
     "slide_type": "slide"
    }
   },
   "source": [
    "# The scikit learn ML steps"
   ]
  },
  {
   "cell_type": "code",
   "execution_count": 20,
   "metadata": {
    "slideshow": {
     "slide_type": "fragment"
    }
   },
   "outputs": [
    {
     "name": "stdout",
     "output_type": "stream",
     "text": [
      "Coefficients: \n",
      " [[0.10502452]]\n",
      "Mean squared error: 1.02\n"
     ]
    }
   ],
   "source": [
    "# 1. choose a model\n",
    "regr = linear_model.LinearRegression()\n",
    "\n",
    "# 2.Prepare data: X = explanatory variables, y: outcome \n",
    "X= tips.total_bill.values.reshape(-1, 1)\n",
    "y= tips.tip.values.reshape(-1, 1)\n",
    "\n",
    "# 3.  Train the model using all data\n",
    "regr.fit(X,y) \n",
    "\n",
    "# 4. Make predictions using all data\n",
    "y_pred = regr.predict(X)\n",
    "\n",
    "# 5 . Evaluate \n",
    "\n",
    "# The coefficients\n",
    "print(\"Coefficients: \\n\", regr.coef_)\n",
    "# The mean squared error\n",
    "print(\"Mean squared error: %.2f\" % rmse(y,  y_pred))\n",
    " "
   ]
  },
  {
   "cell_type": "code",
   "execution_count": 21,
   "metadata": {
    "slideshow": {
     "slide_type": "slide"
    }
   },
   "outputs": [
    {
     "name": "stdout",
     "output_type": "stream",
     "text": [
      "(244,)\n",
      "(244, 1)\n",
      "[16.99 10.34 21.01 23.68 24.59]\n",
      "[[16.99]\n",
      " [10.34]\n",
      " [21.01]\n",
      " [23.68]\n",
      " [24.59]]\n"
     ]
    }
   ],
   "source": [
    "# Huh reshape(-1,1)\n",
    "O= tips.total_bill.values\n",
    "New= tips.total_bill.values.reshape(-1, 1)\n",
    "print(O.shape)\n",
    "print(New.shape)\n",
    "print(O[:5]) \n",
    "print(New[:5])\n",
    "# You just turn a 1D list into a 2D matrix/spreadsheet with one column\n",
    "# The data/information content stays the same."
   ]
  },
  {
   "cell_type": "markdown",
   "metadata": {
    "slideshow": {
     "slide_type": "slide"
    }
   },
   "source": [
    "# What does this mean?\n",
    "\n",
    "* Coefficients: [[0.10502452]]\n",
    "* Mean squared error: 1.02"
   ]
  },
  {
   "cell_type": "markdown",
   "metadata": {
    "slideshow": {
     "slide_type": "fragment"
    }
   },
   "source": [
    "* tip = 0.10 * total bill\n",
    "    * 10% tip rule\n",
    "* We are wrong on average roughly 1 dollar.\n",
    "    * when we fit on all data!\n",
    "    * we normally do not do that."
   ]
  },
  {
   "cell_type": "markdown",
   "metadata": {
    "slideshow": {
     "slide_type": "slide"
    }
   },
   "source": [
    "# Key to all ML/data science projects\n",
    "\n",
    "* Know your population!\n",
    "* Do **Exploratory data analysis**\n",
    "\n",
    "### Categorial variable: pie-plot\n",
    "\n",
    "* Shows the priors for each class.\n",
    "\n",
    "### Numerical variable\n",
    "\n",
    "* histogram\n",
    "* boxplot\n",
    "* kernel density estimation, and the **shape** of the distribution"
   ]
  },
  {
   "cell_type": "markdown",
   "metadata": {
    "slideshow": {
     "slide_type": "slide"
    }
   },
   "source": [
    "# [histogram](https://en.wikipedia.org/wiki/Histogram)\n",
    "\n",
    "![](https://upload.wikimedia.org/wikipedia/commons/thumb/5/53/Cumulative_vs_normal_histogram.svg/1600px-Cumulative_vs_normal_histogram.svg.png)"
   ]
  },
  {
   "cell_type": "markdown",
   "metadata": {
    "slideshow": {
     "slide_type": "slide"
    }
   },
   "source": [
    "# [Boxplot](https://en.wikipedia.org/wiki/Box_plot)\n",
    "\n",
    "* a box plot or boxplot is a method for graphically demonstrating the locality, spread and skewness groups of numerical data through their quartiles\n",
    "\n",
    "![](https://miro.medium.com/max/1400/1*2c21SkzJMf3frPXPAR_gZA.png)"
   ]
  },
  {
   "cell_type": "code",
   "execution_count": 22,
   "metadata": {
    "slideshow": {
     "slide_type": "slide"
    }
   },
   "outputs": [
    {
     "data": {
      "image/png": "[encoded data removed]",
      "text/plain": [
       "<Figure size 360x360 with 1 Axes>"
      ]
     },
     "metadata": {
      "needs_background": "light"
     },
     "output_type": "display_data"
    }
   ],
   "source": [
    "# histogram plus kde\n",
    "\n",
    "penguins = sns.load_dataset(\"penguins\")\n",
    "sns.displot(data=penguins, x=\"flipper_length_mm\", kde=True);"
   ]
  },
  {
   "cell_type": "markdown",
   "metadata": {
    "slideshow": {
     "slide_type": "fragment"
    }
   },
   "source": [
    "# Huh, flipper length a bi-modal distribution????"
   ]
  },
  {
   "cell_type": "code",
   "execution_count": 23,
   "metadata": {
    "slideshow": {
     "slide_type": "slide"
    }
   },
   "outputs": [
    {
     "data": {
      "image/png": "[encoded data removed]",
      "text/plain": [
       "<Figure size 444.125x360 with 1 Axes>"
      ]
     },
     "metadata": {
      "needs_background": "light"
     },
     "output_type": "display_data"
    }
   ],
   "source": [
    "sns.displot(data=penguins, x=\"flipper_length_mm\", kde=True,\n",
    "            hue='species');"
   ]
  },
  {
   "cell_type": "markdown",
   "metadata": {
    "slideshow": {
     "slide_type": "slide"
    }
   },
   "source": [
    "# Type of distribution\n",
    "\n",
    "* Normal, log-normal, Pareto, power-law,.....\n",
    "\n",
    "#### be careful\n",
    "\n",
    "* With a normal distribution, the mean (and the std) make (much) sense\n",
    "* With a right skewed distribution, they might not\n",
    "    * mean is (much) higher than median\n",
    "    * 2 stds left of mean may already be an impossible value (eg below zero)\n",
    "    \n",
    "![](https://upload.wikimedia.org/wikipedia/commons/thumb/d/de/Comparison_mean_median_mode.svg/560px-Comparison_mean_median_mode.svg.png)"
   ]
  },
  {
   "cell_type": "markdown",
   "metadata": {
    "slideshow": {
     "slide_type": "slide"
    }
   },
   "source": [
    "# Wrap up: what did we do?\n",
    "\n",
    "1. How to get the most out of this course?\n",
    "1. What is ML, several types of ML\n",
    "2. Evaluation, baselines\n",
    "3. Understand what you are doing using good pictures"
   ]
  },
  {
   "cell_type": "code",
   "execution_count": null,
   "metadata": {},
   "outputs": [],
   "source": []
  }
 ],
 "metadata": {
  "anaconda-cloud": {},
  "celltoolbar": "Slideshow",
  "kernelspec": {
   "display_name": "Python 3 (ipykernel)",
   "language": "python",
   "name": "python3"
  },
  "language_info": {
   "codemirror_mode": {
    "name": "ipython",
    "version": 3
   },
   "file_extension": ".py",
   "mimetype": "text/x-python",
   "name": "python",
   "nbconvert_exporter": "python",
   "pygments_lexer": "ipython3",
   "version": "3.9.7"
  },
  "toc": {
   "nav_menu": {},
   "number_sections": false,
   "sideBar": true,
   "skip_h1_title": false,
   "title_cell": "Table of Contents",
   "title_sidebar": "Contents",
   "toc_cell": false,
   "toc_position": {},
   "toc_section_display": true,
   "toc_window_display": false
  }
 },
 "nbformat": 4,
 "nbformat_minor": 1
}

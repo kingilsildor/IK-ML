{
 "cells": [
  {
   "cell_type": "code",
   "execution_count": 1,
   "id": "d811ea3a",
   "metadata": {
    "slideshow": {
     "slide_type": "skip"
    }
   },
   "outputs": [
    {
     "name": "stdout",
     "output_type": "stream",
     "text": [
      "^C\n"
     ]
    }
   ],
   "source": [
    "!jupyter nbconvert Week2_T1.ipynb --to slides --post serve\n",
    "import pandas as pd"
   ]
  },
  {
   "cell_type": "markdown",
   "id": "8941d16a",
   "metadata": {
    "slideshow": {
     "slide_type": "slide"
    }
   },
   "source": [
    "# Even opfrissen: onderwerp van deze cursus: *leren door machines*\n",
    "\n",
    "\n",
    "## V: Wat is dat eigenlijk: leren?"
   ]
  },
  {
   "cell_type": "markdown",
   "id": "6d9b1244",
   "metadata": {
    "slideshow": {
     "slide_type": "fragment"
    }
   },
   "source": [
    "## A: Orde aanbrengen \n",
    "\n",
    "* We onderscheiden 4 soorten"
   ]
  },
  {
   "cell_type": "markdown",
   "id": "9a2cba89",
   "metadata": {
    "slideshow": {
     "slide_type": "slide"
    }
   },
   "source": [
    "# Soorten ML\n",
    "\n",
    "## Groeperen en sorteren\n",
    "\n",
    "* Verdeel ongeordende verzameling items in groepjes\n",
    "\n",
    "## Classificeren\n",
    "\n",
    "* geef items een klasse, een label, benoem ze als lid van soort X\n",
    "\n",
    "## Voorspellen\n",
    "\n",
    "* voorspel een waarde voor een bepaalde eigenschap van een item, gegeven waardes op andere eigenschappen\n",
    "\n",
    "## Handelen \n",
    "\n",
    "* hoe te handelen in een (nieuwe) situatie?"
   ]
  },
  {
   "cell_type": "markdown",
   "id": "dcd25276",
   "metadata": {
    "slideshow": {
     "slide_type": "slide"
    }
   },
   "source": [
    "# Deze week\n",
    "\n",
    "### Unsupervised learning\n",
    "\n",
    "* Groeperen/clusteren (3.5 in book)\n",
    "    * Kmeans\n",
    "    * Agglomarative clustering\n",
    "    * DBSCAN\n",
    "* Versimpelen (3.4 in book)\n",
    "    * PCA\n",
    "    * Matrix factorisatie\n",
    "   "
   ]
  },
  {
   "cell_type": "markdown",
   "id": "632b1304",
   "metadata": {
    "slideshow": {
     "slide_type": "slide"
    }
   },
   "source": [
    "# Groeperen en sorteren\n",
    "\n",
    "## Invoer\n",
    "\n",
    "![](../img/rommeligste-kinderkamer-verenigd-koninkrijk.png)"
   ]
  },
  {
   "cell_type": "markdown",
   "id": "997b760d",
   "metadata": {
    "slideshow": {
     "slide_type": "slide"
    }
   },
   "source": [
    "# Wat te doen?\n",
    "\n",
    "* Stel jij bent een *nanny*, net aangekomen uit een totaal andere cultuur, en deze spullen zijn allemaal nieuw voor je.\n",
    "* Jouw taak is om **orde aan te brengen**: sorteer en groepeer.\n",
    "\n",
    "## V: hoe doe je dat?"
   ]
  },
  {
   "cell_type": "markdown",
   "id": "f49ffc71",
   "metadata": {
    "slideshow": {
     "slide_type": "fragment"
    }
   },
   "source": [
    "1. Bepaal **eigenschappen** van de items\n",
    "    * kleur, materiaal, doel, ..\n",
    "2. Bepaal **waardes** voor elke eigenschap\n",
    "    * voor materiaal: plastic, hout, stof, metaal, ...\n",
    "3. Leg soort bij soort\n",
    "    * rood bij rood, broeken bij broeken, houten dingen bij elkaar"
   ]
  },
  {
   "cell_type": "markdown",
   "id": "0a15493b",
   "metadata": {
    "slideshow": {
     "slide_type": "slide"
    }
   },
   "source": [
    "# Even abstraheren\n",
    "\n",
    "## Input\n",
    "\n",
    "* Verzameling $D$ van items.\n",
    "* Elk $d\\in D$ heeft een aantal eigenschappen \n",
    "* op elke eigenschap heeft elke item een waarde\n",
    "    * numeriek\n",
    "        * reeel getal uit $[0,1]$ of cijfer tussen 1 en 10.\n",
    "    * categoriaal\n",
    "        * Bools (waar/onwaar), Kleur (rood, geel, groen, ....)\n",
    "* **We kunnen bepalen hoeveel 2 items op elkaar lijken**: *similariteitsscore*."
   ]
  },
  {
   "cell_type": "markdown",
   "id": "9b479882",
   "metadata": {
    "slideshow": {
     "slide_type": "slide"
    }
   },
   "source": [
    "## Taak: deel $D$ op in $k$ groepen\n",
    "\n",
    "* Aanname: $k$ wordt vooraf gegeven\n",
    "    * Dus de \"groepeerder\" hoeft het aantal groepjes niet te bepalen.\n",
    "* Dit heet een *partitie*\n",
    "    * geen overlap\n",
    "    * elk element zit in een groepje\n",
    "    \n",
    "![](../img/A-set-E-and-some-partition-cells.png)    "
   ]
  },
  {
   "cell_type": "markdown",
   "id": "84fc7cb2",
   "metadata": {
    "slideshow": {
     "slide_type": "slide"
    }
   },
   "source": [
    "# Hoe zou je dat doen?\n",
    "\n",
    "## Input\n",
    "\n",
    "* Verzameling $D$ van items\n",
    "* elk item ziet er uit als een *Python Dict*, van **attribuut waarde paartjes**\n",
    "    * `'a'= {'kleur':'rood', 'geslacht':'M', 'lengte': 187,....}`\n",
    "* **Aanname**\n",
    "    * We hebben alleen attributen met **numerieke waardes**\n",
    "    * We kunnen elk item dan ook zien als een **vector** met getallen uit  $\\mathbf{R}$.\n",
    "        * `[.2,18,.7,3,...]`\n",
    "    * de **positie** bepaalt dan om welk attribuut het gaat\n",
    "* Similariteitscorings functie $f:D\\times D\\longrightarrow [0,1]$\n",
    "    * Vb: $f(\"Marx\",\"van Splunter\")= .7$, \n",
    "    * $f(\"Marx\",\"Prinses Amalia\")= .2$ \n",
    "    * $f(\"Marx\",\"Marx\")= 1$ \n",
    "* gewenst aantal groepjes $k$\n",
    "\n",
    "## Output \n",
    "\n",
    "![](../img/A-set-E-and-some-partition-cells.png) "
   ]
  },
  {
   "cell_type": "markdown",
   "id": "fc9f820e",
   "metadata": {
    "slideshow": {
     "slide_type": "slide"
    }
   },
   "source": [
    "# Hoe zou je dat doen? wat formeler\n",
    "\n",
    "### Input\n",
    "\n",
    "* Set $D$ bestaande uit $|D|$ veel vectors in $\\mathbf{R}^n$ (we hebben $n$ attributen)\n",
    "* Similariteitsfunctie $f:D\\times D\\longrightarrow [0,1]$\n",
    "* $k$\n",
    "\n",
    "### Output\n",
    "\n",
    "* **Zinvolle** partitie van $D$ in $k$ niet lege deelverzamelingen (blokken genoemd)\n",
    "   \n",
    "#### Zinvol? \n",
    "\n",
    "* Binnen de blokken lijken elementen heel erg op elkaar.\n",
    "* Elementen uit 2 verschillende blokken lijken juist niet op elkaar.\n",
    "\n",
    "## Jullie taak\n",
    "\n",
    "* Hoe pakt die nieuwe nanny dat aan?\n",
    "* **Maak een algoithme dat in elke situatie werkt**"
   ]
  },
  {
   "cell_type": "markdown",
   "id": "4d00db67",
   "metadata": {
    "slideshow": {
     "slide_type": "slide"
    }
   },
   "source": [
    "# Groepeer methode \n",
    "\n",
    "## Initialisatie stap (dat is gewoon het begin)\n",
    "\n",
    "1. Kies willekeurig $k$ elementen $d_1,....,d_k$\n",
    "2. Maak $k$ groepjes $\\{d_1\\},\\{d_2\\},...,\\{d_k\\}$ \n",
    "2. Voor elk ander element $d\\in D\\setminus \\{d_1,....,d_k\\}$:\n",
    "    * bepaal  welke $d_i$ het meeste lijkt op $d$ \n",
    "        * $argmax_{d_i} f(d,d_i)$\n",
    "    * stop $d$ dan in het groepje van de winnaar $d_i$\n",
    "        * (verzin een regel voor \"gelijkspel\": tiebreaker)\n",
    "        \n",
    "### Output: een partitie in $k$ groepjes!\n",
    "\n",
    "* Precies wat we wilden! "
   ]
  },
  {
   "cell_type": "markdown",
   "id": "c3d1a6e2",
   "metadata": {
    "slideshow": {
     "slide_type": "fragment"
    }
   },
   "source": [
    "## Zijn we nu al klaar dan?"
   ]
  },
  {
   "cell_type": "markdown",
   "id": "1493049c",
   "metadata": {
    "slideshow": {
     "slide_type": "fragment"
    }
   },
   "source": [
    "## Nee!"
   ]
  },
  {
   "cell_type": "markdown",
   "id": "69515770",
   "metadata": {
    "slideshow": {
     "slide_type": "slide"
    }
   },
   "source": [
    "# Hoe nu verder?\n",
    "\n",
    "* Dus we hebben een partitie in $k$ groepjes.\n",
    "* Is die zinvol/het beste?\n",
    "    * Hoe checken we dat?"
   ]
  },
  {
   "cell_type": "markdown",
   "id": "3fdb6014",
   "metadata": {
    "slideshow": {
     "slide_type": "fragment"
    }
   },
   "source": [
    "* We kunnen gaan kijken of elk element wel in \"het juiste groepje\" zit.\n",
    "* We hebben net alleen gekeken hoe veel een element lijkt op de $d_i$.\n",
    "* We willen nu kijken *hoe goed een element \"past\" in elke groepje*\n",
    "    \n",
    "### Jullie: hoe zouden we dat kunnen doen?   \n",
    "\n",
    "* **Bedenk:** Elk groepje bestaat uit een aantal vectoren\n",
    "    * dat zijn gewoon rijtjes getallen"
   ]
  },
  {
   "cell_type": "code",
   "execution_count": 2,
   "id": "17d0fa07",
   "metadata": {
    "slideshow": {
     "slide_type": "slide"
    }
   },
   "outputs": [
    {
     "data": {
      "text/plain": [
       "((150, 4),\n",
       " array([[5.1, 3.5, 1.4, 0.2],\n",
       "        [4.9, 3. , 1.4, 0.2],\n",
       "        [4.7, 3.2, 1.3, 0.2],\n",
       "        [4.6, 3.1, 1.5, 0.2],\n",
       "        [5. , 3.6, 1.4, 0.2],\n",
       "        [5.4, 3.9, 1.7, 0.4],\n",
       "        [4.6, 3.4, 1.4, 0.3],\n",
       "        [5. , 3.4, 1.5, 0.2],\n",
       "        [4.4, 2.9, 1.4, 0.2],\n",
       "        [4.9, 3.1, 1.5, 0.1]]))"
      ]
     },
     "execution_count": 2,
     "metadata": {},
     "output_type": "execute_result"
    }
   ],
   "source": [
    "import pandas as pd\n",
    "import numpy as np\n",
    "from sklearn import datasets \n",
    "\n",
    "iris = datasets.load_iris()['data']\n",
    "\n",
    "iris.shape,iris[:10]"
   ]
  },
  {
   "cell_type": "markdown",
   "id": "d7b7607a",
   "metadata": {
    "slideshow": {
     "slide_type": "fragment"
    }
   },
   "source": [
    "## Wat betekent dit?\n",
    "\n",
    "* We hebben 150 items in de iris dataset\n",
    "* elk item heeft 4 attributen met numerieke waardes"
   ]
  },
  {
   "cell_type": "code",
   "execution_count": 3,
   "id": "7e39ac46",
   "metadata": {
    "slideshow": {
     "slide_type": "slide"
    }
   },
   "outputs": [
    {
     "data": {
      "text/plain": [
       "(150, 5, [30, 30, 30, 30, 30])"
      ]
     },
     "execution_count": 3,
     "metadata": {},
     "output_type": "execute_result"
    }
   ],
   "source": [
    "# maak een partitie\n",
    "\n",
    "k=5\n",
    "\n",
    "partitie= np.vsplit(iris,k)\n",
    "\n",
    "len(iris),len(partitie), [len(blok) for blok in partitie]"
   ]
  },
  {
   "cell_type": "code",
   "execution_count": 4,
   "id": "3cd67110",
   "metadata": {
    "slideshow": {
     "slide_type": "slide"
    }
   },
   "outputs": [
    {
     "data": {
      "text/plain": [
       "((150, 4),\n",
       " array([[5.1, 3.5, 1.4, 0.2],\n",
       "        [4.9, 3. , 1.4, 0.2],\n",
       "        [4.7, 3.2, 1.3, 0.2],\n",
       "        [4.6, 3.1, 1.5, 0.2],\n",
       "        [5. , 3.6, 1.4, 0.2]]))"
      ]
     },
     "execution_count": 4,
     "metadata": {},
     "output_type": "execute_result"
    }
   ],
   "source": [
    "iris.shape,iris[:5]"
   ]
  },
  {
   "cell_type": "code",
   "execution_count": 5,
   "id": "4f89d5a0",
   "metadata": {
    "slideshow": {
     "slide_type": "slide"
    }
   },
   "outputs": [
    {
     "data": {
      "text/plain": [
       "3.4644999999999997"
      ]
     },
     "execution_count": 5,
     "metadata": {},
     "output_type": "execute_result"
    }
   ],
   "source": [
    "# wat is dit?\n",
    "iris.mean()"
   ]
  },
  {
   "cell_type": "code",
   "execution_count": 6,
   "id": "d0e29847",
   "metadata": {
    "slideshow": {
     "slide_type": "slide"
    }
   },
   "outputs": [
    {
     "data": {
      "text/plain": [
       "array([2.55 , 2.375, 2.35 , 2.35 , 2.55 , 2.85 , 2.425, 2.525, 2.225,\n",
       "       2.4  , 2.7  , 2.5  , 2.325, 2.125, 2.8  , 3.   , 2.75 , 2.575,\n",
       "       2.875, 2.675, 2.675, 2.675, 2.35 , 2.65 , 2.575, 2.45 , 2.6  ,\n",
       "       2.6  , 2.55 , 2.425, 2.425, 2.675, 2.725, 2.825, 2.425, 2.4  ,\n",
       "       2.625, 2.5  , 2.225, 2.55 , 2.525, 2.1  , 2.275, 2.675, 2.8  ,\n",
       "       2.375, 2.675, 2.35 , 2.675, 2.475, 4.075, 3.9  , 4.1  , 3.275,\n",
       "       3.85 , 3.575, 3.975, 2.9  , 3.85 , 3.3  , 2.875, 3.65 , 3.3  ,\n",
       "       3.775, 3.35 , 3.9  , 3.65 , 3.4  , 3.6  , 3.275, 3.925, 3.55 ,\n",
       "       3.8  , 3.7  , 3.725, 3.85 , 3.95 , 4.1  , 3.725, 3.2  , 3.2  ,\n",
       "       3.15 , 3.4  , 3.85 , 3.6  , 3.875, 4.   , 3.575, 3.5  , 3.325,\n",
       "       3.425, 3.775, 3.4  , 2.9  , 3.45 , 3.525, 3.525, 3.675, 2.925,\n",
       "       3.475, 4.525, 3.875, 4.525, 4.15 , 4.375, 4.825, 3.4  , 4.575,\n",
       "       4.2  , 4.85 , 4.2  , 4.075, 4.35 , 3.8  , 4.025, 4.3  , 4.2  ,\n",
       "       5.1  , 4.875, 3.675, 4.525, 3.825, 4.8  , 3.925, 4.45 , 4.55 ,\n",
       "       3.9  , 3.95 , 4.225, 4.4  , 4.55 , 5.025, 4.25 , 3.925, 3.925,\n",
       "       4.775, 4.425, 4.2  , 3.9  , 4.375, 4.45 , 4.35 , 3.875, 4.55 ,\n",
       "       4.55 , 4.3  , 3.925, 4.175, 4.325, 3.95 ])"
      ]
     },
     "execution_count": 6,
     "metadata": {},
     "output_type": "execute_result"
    }
   ],
   "source": [
    "# en dit?\n",
    "iris.mean(axis=1)"
   ]
  },
  {
   "cell_type": "code",
   "execution_count": 7,
   "id": "230dbaeb",
   "metadata": {
    "slideshow": {
     "slide_type": "slide"
    }
   },
   "outputs": [
    {
     "data": {
      "text/plain": [
       "array([5.84333333, 3.05733333, 3.758     , 1.19933333])"
      ]
     },
     "execution_count": 7,
     "metadata": {},
     "output_type": "execute_result"
    }
   ],
   "source": [
    "# en dit dan?\n",
    "iris.mean(axis=0)"
   ]
  },
  {
   "cell_type": "code",
   "execution_count": 8,
   "id": "55db56d9",
   "metadata": {
    "slideshow": {
     "slide_type": "slide"
    }
   },
   "outputs": [
    {
     "data": {
      "text/plain": [
       "5"
      ]
     },
     "execution_count": 8,
     "metadata": {},
     "output_type": "execute_result"
    }
   ],
   "source": [
    "len(partitie)"
   ]
  },
  {
   "cell_type": "code",
   "execution_count": 9,
   "id": "0cb0b895",
   "metadata": {
    "slideshow": {
     "slide_type": "fragment"
    }
   },
   "outputs": [
    {
     "data": {
      "text/plain": [
       "[array([5.02666667, 3.45      , 1.47333333, 0.24666667]),\n",
       " array([5.35      , 3.22      , 2.42      , 0.62333333]),\n",
       " array([5.98, 2.75, 4.3 , 1.34]),\n",
       " array([6.25333333, 2.85666667, 5.11333333, 1.77333333]),\n",
       " array([6.60666667, 3.01      , 5.48333333, 2.01333333])]"
      ]
     },
     "execution_count": 9,
     "metadata": {},
     "output_type": "execute_result"
    }
   ],
   "source": [
    "# wat doe ik nou?\n",
    "[blok.mean(0) for blok in partitie]"
   ]
  },
  {
   "cell_type": "markdown",
   "id": "f887b38b",
   "metadata": {
    "slideshow": {
     "slide_type": "fragment"
    }
   },
   "source": [
    "# Van blok naar \"element\"\n",
    "\n",
    "* Voor elk blok hebben we een vector gemaakt die precies lijkt op de vector van elk element in $D$."
   ]
  },
  {
   "cell_type": "markdown",
   "id": "c712d1ea",
   "metadata": {
    "slideshow": {
     "slide_type": "fragment"
    }
   },
   "source": [
    "## He, wat kunnen we nu dan doen?"
   ]
  },
  {
   "cell_type": "markdown",
   "id": "bdc4fc79",
   "metadata": {
    "slideshow": {
     "slide_type": "slide"
    }
   },
   "source": [
    "# Herschikkingsstap\n",
    "\n",
    "1. We hebben $k$ blokken.\n",
    "2. Bereken voor elk blok $D_i$ het gemiddelde $\\mu(D_i)$. \n",
    "    * wordt vaak de **centroid** genoemd\n",
    "3. Herschik  elk element in $D$.\n",
    "    * voor elk $d\\in D$\n",
    "    * bepaal $argmax_i f(d, \\mu(D_i))$\n",
    "    * stop $d$ dan in blok $D_i$.\n",
    "    \n",
    "### Output: opnieuw een $k$-partitie!"
   ]
  },
  {
   "cell_type": "markdown",
   "id": "bef81564",
   "metadata": {
    "slideshow": {
     "slide_type": "fragment"
    }
   },
   "source": [
    "## Zijn we nu dan klaar?\n",
    "\n",
    "* Misschien.\n",
    "* Misschien niet."
   ]
  },
  {
   "cell_type": "markdown",
   "id": "07b20c9b",
   "metadata": {
    "slideshow": {
     "slide_type": "fragment"
    }
   },
   "source": [
    "## Wanneer stoppen we dan eindelijk?"
   ]
  },
  {
   "cell_type": "markdown",
   "id": "93a420c8",
   "metadata": {
    "slideshow": {
     "slide_type": "fragment"
    }
   },
   "source": [
    "* tsja, als er na herschikken niks is veranderd."
   ]
  },
  {
   "cell_type": "markdown",
   "id": "337080ea",
   "metadata": {
    "slideshow": {
     "slide_type": "slide"
    }
   },
   "source": [
    "# Welk programmeer construct hoort hierbij?\n",
    "\n",
    "* Welk Python commando?\n",
    "* We blijven herschikken zo lang er iets verandert....."
   ]
  },
  {
   "cell_type": "markdown",
   "id": "1102b286",
   "metadata": {
    "slideshow": {
     "slide_type": "fragment"
    }
   },
   "source": [
    "## `while test do actie`\n",
    "\n",
    "* eigenlijk `repeat actie until test`, maar dat kent Python niet "
   ]
  },
  {
   "cell_type": "markdown",
   "id": "da0e7777",
   "metadata": {
    "slideshow": {
     "slide_type": "slide"
    }
   },
   "source": [
    "# Hele algorithme: $k$-means\n",
    "\n",
    "1. `#` Initialisatie\n",
    "    1. Kies willekeurig $k$ elementen uit $D$\n",
    "    2. Maak daarmee $k$ groepjes: `P`\n",
    "2. `#` Loop\n",
    "    * `REPEAT`\n",
    "        1. bepaal gemiddelde voor elk groepje\n",
    "        2. herschik alle elementen: $k$ nieuwe  groepjes `Pnew`\n",
    "    * `UNTIL P=Pnew`\n",
    "    \n",
    "    \n",
    "## Jullie taak\n",
    "\n",
    "1. Programmeer dit met `numpy`\n",
    "2. test met `iris` data set en $k=3$\n",
    "3. Vergelijk jouw output met `sklearn` k-means\n",
    "4. vergelijk jouw output met de true opdeling in de 3 soorten iris bloemen."
   ]
  },
  {
   "cell_type": "markdown",
   "id": "926c0e1d",
   "metadata": {
    "slideshow": {
     "slide_type": "slide"
    }
   },
   "source": [
    "# Verbetering\n",
    "\n",
    "* Denk eens na: \n",
    "    * geeft deze manier altijd dezelfde uitkomst?\n",
    "* Is zulk gedrag gewenst/onoverkomelijk?\n",
    "* Is de ene niet misschien beter dan de ander?"
   ]
  },
  {
   "cell_type": "markdown",
   "id": "a9c012c4",
   "metadata": {
    "slideshow": {
     "slide_type": "fragment"
    }
   },
   "source": [
    "## Allerlei methodes om \"beste\" representanten te kiezen.\n",
    "\n",
    "* mooi verspreid over $D$\n",
    "* liefst \"prototypes/stereotypes\" voor elke klasse\n",
    "* Dus juist **zo ver mogelijk van elkaar vandaan** (in de similariteitsmaat)"
   ]
  },
  {
   "cell_type": "markdown",
   "id": "ddeb2262",
   "metadata": {
    "slideshow": {
     "slide_type": "slide"
    }
   },
   "source": [
    "# beste start\n",
    "\n",
    ">One of the drawbacks of k-means is that it relies on a random initialization, which\n",
    "means the outcome of the algorithm depends on a random seed. By default, scikitlearn runs the algorithm 10 times with 10 different random initializations, and\n",
    "returns the **best** result.\n",
    "\n",
    "### OK, gaaf, maar wat is \"best\"?"
   ]
  },
  {
   "cell_type": "markdown",
   "id": "babe5fd2",
   "metadata": {
    "slideshow": {
     "slide_type": "fragment"
    }
   },
   "source": [
    " > “best” means that the sum of variances of the clusters is small.\n",
    " \n",
    " eeh en dat is...?"
   ]
  },
  {
   "cell_type": "markdown",
   "id": "cd7af1f7",
   "metadata": {
    "slideshow": {
     "slide_type": "fragment"
    }
   },
   "source": [
    "$$\\sum_{d\\in D} (d-ClusterCentroid(d))^2,$$\n",
    "\n",
    "waarbij $ClusterCentroid(d)$ de centroid van het cluster van $d$ is. De *mean* van $d$'s cluster dus."
   ]
  },
  {
   "cell_type": "markdown",
   "id": "ea51bdab",
   "metadata": {
    "slideshow": {
     "slide_type": "slide"
    }
   },
   "source": [
    "# Open einde 1\n",
    "\n",
    "* Hoe berekenen we die similariteit?\n",
    "* Door middel van [inertia](https://scikit-learn.org/stable/modules/clustering.html#k-means)\n",
    "* Dit is gewoon weer de **euclidische afstand**. \n",
    "* Bereken gegeven een item $d$ de euclidische afstand tot elke centroid\n",
    "    * en stop $d$ dan in het cluster van de centroid met de kleinste afstand.\n",
    "    * (dus hier de argmin)\n",
    "\n",
    " "
   ]
  },
  {
   "cell_type": "markdown",
   "id": "78ba2d82",
   "metadata": {
    "slideshow": {
     "slide_type": "slide"
    }
   },
   "source": [
    "# Open einde 2\n",
    "\n",
    "* We kunnen attributen hebben met ruwe waardes in heel verschillende dimensies.\n",
    "    * denk aan gewicht in kilo en lengte in meters\n",
    "* Die moeten we dan eerst **normaliseren** zodat ze allemaal in dezelfde *range* liggen.\n",
    "* Bijv met **z-normalisatie**  (in `sklearn` heet dit `StandardScalar`)\n",
    "    * gemiddelde = 0\n",
    "    * standaard deviatie =1\n",
    "* Zie Boek 3.3"
   ]
  },
  {
   "cell_type": "markdown",
   "id": "7c095738",
   "metadata": {
    "slideshow": {
     "slide_type": "slide"
    }
   },
   "source": [
    "# Jullie beurt: z scaler\n",
    "\n",
    "* Hoe zorg je dat het gemiddelde van een verdeling 0 wordt?"
   ]
  },
  {
   "cell_type": "markdown",
   "id": "36b6d6d0",
   "metadata": {
    "slideshow": {
     "slide_type": "fragment"
    }
   },
   "source": [
    "* Door van elk element ion die verdeling, het gemiddelde van die verdeling af te trekken."
   ]
  },
  {
   "cell_type": "markdown",
   "id": "c813d156",
   "metadata": {
    "slideshow": {
     "slide_type": "fragment"
    }
   },
   "source": [
    "* En hoe krijg je dan de std gelijk aan 1?"
   ]
  },
  {
   "cell_type": "markdown",
   "id": "8a24758f",
   "metadata": {
    "slideshow": {
     "slide_type": "fragment"
    }
   },
   "source": [
    "* door te delen door de std van de verdeling!\n"
   ]
  },
  {
   "cell_type": "code",
   "execution_count": 10,
   "id": "e5245fcb",
   "metadata": {
    "slideshow": {
     "slide_type": "slide"
    }
   },
   "outputs": [
    {
     "name": "stdout",
     "output_type": "stream",
     "text": [
      "150 \n",
      " [[5.1 3.5 1.4 0.2]\n",
      " [4.9 3.  1.4 0.2]\n",
      " [4.7 3.2 1.3 0.2]\n",
      " [4.6 3.1 1.5 0.2]\n",
      " [5.  3.6 1.4 0.2]]\n",
      "150 \n",
      " [[-0.90068117  1.01900435 -1.34022653 -1.3154443 ]\n",
      " [-1.14301691 -0.13197948 -1.34022653 -1.3154443 ]\n",
      " [-1.38535265  0.32841405 -1.39706395 -1.3154443 ]\n",
      " [-1.50652052  0.09821729 -1.2833891  -1.3154443 ]\n",
      " [-1.02184904  1.24920112 -1.34022653 -1.3154443 ]]\n"
     ]
    },
    {
     "data": {
      "text/plain": [
       "(array([-1.69031455e-15, -1.84297022e-15, -1.69864123e-15, -1.40924309e-15]),\n",
       " array([1., 1., 1., 1.]))"
      ]
     },
     "execution_count": 10,
     "metadata": {},
     "output_type": "execute_result"
    }
   ],
   "source": [
    "# nog even rekenen\n",
    "\n",
    "def z_scaler(M):\n",
    "    '''Geef de z-geschaalde versie van M terug.\n",
    "    Met gemiddelde 0 en std 1 voor elk attribuut (kolom)'''\n",
    "    return (M - M.mean(0)) / M.std(0)\n",
    "\n",
    "# effe testen\n",
    "\n",
    "print(len(iris),\"\\n\", iris[:5])\n",
    "\n",
    "ziris= z_scaler(iris)\n",
    "print(len(ziris),\"\\n\", ziris[:5])\n",
    "\n",
    "ziris.mean(0), ziris.std(0)"
   ]
  },
  {
   "cell_type": "markdown",
   "id": "57021201",
   "metadata": {
    "slideshow": {
     "slide_type": "slide"
    }
   },
   "source": [
    "# Open einde 3: argmax\n",
    "\n",
    " \n",
    "### Zeg het eens in woorden:\n",
    "\n",
    ">De argmax van een dict $D$ is ...."
   ]
  },
  {
   "cell_type": "markdown",
   "id": "69367fe2",
   "metadata": {
    "slideshow": {
     "slide_type": "fragment"
    }
   },
   "source": [
    "> dat element in $D$ (die sleutel) met de hoogtste waarde in $D$.\n",
    "\n",
    "#### Met max pak je de hooogtse waarde, met de argmax \"het ding\" met de hoogste waarde."
   ]
  },
  {
   "cell_type": "markdown",
   "id": "5d49c2d4",
   "metadata": {
    "slideshow": {
     "slide_type": "slide"
    }
   },
   "source": [
    "# Argmax, zelf programmeren\n",
    "\n",
    "* Input: dict met waardes die geordend zijn met $<$. \n",
    "* Even afvragen wat je doet als er meerdere \"winnaars\" zijn....\n",
    "\n",
    "```\n",
    "def argmax(D): \n",
    "```"
   ]
  },
  {
   "cell_type": "code",
   "execution_count": 3,
   "id": "fa2ec634",
   "metadata": {
    "slideshow": {
     "slide_type": "fragment"
    }
   },
   "outputs": [
    {
     "name": "stdout",
     "output_type": "stream",
     "text": [
      "dict_values(['gaaf', 'stom', 'suf', 'saai'])\n"
     ]
    },
    {
     "data": {
      "text/plain": [
       "{3}"
      ]
     },
     "execution_count": 3,
     "metadata": {},
     "output_type": "execute_result"
    }
   ],
   "source": [
    "def argmax(D):\n",
    "    grootste= max(D.values())\n",
    "    return {d for d in D if D[d]==grootste}\n",
    "\n",
    "argmax({1:'gaaf', 2:\"stom\", 3:'suf', 4: 'saai'})"
   ]
  },
  {
   "cell_type": "markdown",
   "id": "ac64093e",
   "metadata": {
    "slideshow": {
     "slide_type": "slide"
    }
   },
   "source": [
    "# Alternatieve manier van clusteren: hierarchisch\n",
    "\n",
    "\n",
    "## Twee manieren\n",
    "\n",
    "### Top down\n",
    "\n",
    "* begin met alles in 1 cluster\n",
    "* breek dan in tweeen\n",
    "* en ga door, steeds met een breuk (groepering), die \"het meeste oplevert\"\n",
    "\n",
    "\n",
    "### Bottom up\n",
    "\n",
    "* begin met elk element is z'n eigen (singleton) cluster\n",
    "* Voeg dan steeds 2 cllusters samen \"die het dichts bij elkaar liggen\""
   ]
  },
  {
   "cell_type": "markdown",
   "id": "5819a3dd",
   "metadata": {
    "slideshow": {
     "slide_type": "slide"
    }
   },
   "source": [
    "# top down\n",
    "\n",
    "![](https://upload.wikimedia.org/wikipedia/commons/thumb/a/ad/Hierarchical_clustering_simple_diagram.svg/418px-Hierarchical_clustering_simple_diagram.svg.png)"
   ]
  },
  {
   "cell_type": "markdown",
   "id": "ab6667d7",
   "metadata": {
    "slideshow": {
     "slide_type": "slide"
    }
   },
   "source": [
    "# bottom up\n",
    "\n",
    "![](https://upload.wikimedia.org/wikipedia/commons/thumb/1/12/Iris_dendrogram.png/440px-Iris_dendrogram.png)"
   ]
  },
  {
   "cell_type": "markdown",
   "id": "5edb45ca",
   "metadata": {
    "slideshow": {
     "slide_type": "slide"
    }
   },
   "source": [
    "# Intuitief idee, wat heb je nodig?\n",
    "\n",
    "\n",
    "* Representatie van de items\n",
    "    * vectoren van waardes op eigenschappen\n",
    "* afstand, similariteit\n",
    "    * Nu niet alleen tussen de items, maar ook tussen de clusters\n",
    "        * Waarom?\n",
    "        \n",
    "#### En wat nog meer?"
   ]
  },
  {
   "cell_type": "markdown",
   "id": "453c131c",
   "metadata": {
    "slideshow": {
     "slide_type": "fragment"
    }
   },
   "source": [
    "* eigenlijk ook een aantal clusters waarop we stoppen\n",
    "* Want het hierarchisch clusteren gaat gewoon door."
   ]
  },
  {
   "cell_type": "markdown",
   "id": "c598f187",
   "metadata": {
    "slideshow": {
     "slide_type": "slide"
    }
   },
   "source": [
    "# Dendogram \n",
    "\n",
    "* geeft hulp bij het bepalen van het moment  om te stoppen.\n",
    "\n",
    "![](../img/dendogram3_36.png)\n",
    "\n",
    ">The y-axis in the dendrogram doesn’t just specify when in the agglomerative algo‐\n",
    "rithm two clusters get merged. The length of each branch also shows how far apart\n",
    "the merged clusters are. \n",
    "\n",
    ">The longest branches in this dendrogram are the three lines\n",
    "that are marked by the dashed line labeled “three clusters.” That these are the longest\n",
    "branches indicates that going from three to two clusters meant merging some very\n",
    "far-apart points"
   ]
  },
  {
   "cell_type": "markdown",
   "id": "944895a7",
   "metadata": {
    "slideshow": {
     "slide_type": "slide"
    }
   },
   "source": [
    "# Afstand tussen 2 clusters\n",
    "\n",
    "* In sklearn op 3 manieren:\n",
    "\n",
    "* ward\n",
    "    * The default choice, ward picks the two clusters to merge such that the variance\n",
    "within all clusters increases the least. This often leads to clusters that are relatively equally sized.\n",
    "* average\n",
    "    * average linkage merges the two clusters that have the smallest average distance\n",
    "between all their points.\n",
    "* complete\n",
    "    * complete linkage (also known as maximum linkage) merges the two clusters that\n",
    "have the smallest maximum distance between their points."
   ]
  },
  {
   "cell_type": "markdown",
   "id": "2d42d57a",
   "metadata": {
    "slideshow": {
     "slide_type": "slide"
    }
   },
   "source": [
    "# Ward\n",
    "\n",
    "> Ward's minimum variance criterion minimizes the total within-cluster variance. To implement this method, at each step find the pair of clusters that leads to minimum increase in total within-cluster variance after merging. This increase is a weighted squared distance between cluster centers.\n",
    "\n",
    "### eeh ok, wie begrijpt dit?"
   ]
  },
  {
   "cell_type": "markdown",
   "id": "72286694",
   "metadata": {
    "slideshow": {
     "slide_type": "fragment"
    }
   },
   "source": [
    "### Mijn filosofie\n",
    "\n",
    "* Je begrijpt het als je het kunt zeggen.\n",
    "    * In één grammaticaal correcte Nederlandse of Engelse zin,\n",
    "    * en daarna\n",
    "    * in een python functie (met die zin in de *docstring*."
   ]
  },
  {
   "cell_type": "markdown",
   "id": "1843aac0",
   "metadata": {
    "slideshow": {
     "slide_type": "slide"
    }
   },
   "source": [
    "# OK, laten we het proberen\n",
    "\n",
    "* Eerst dit: *weighted squared distance between cluster centers*\n",
    "    * (we vergeten dat *weighted* even)\n",
    "* Daarmee bedoelde Ward, de gekwadrateerde *Euclidean distance*\n",
    "* voor 2 cluster centers $C1,C2$ (beide natuurlijk vectoren)\n",
    "\n",
    "$$ \\sum_i (C1_i-C2_i)^2$$\n",
    "* Stel we hebben 2 clusters `A` en `B`  (dus sets van items), beide gerepresenteerd als een 2D numpy array \n",
    "* programmeer maar"
   ]
  },
  {
   "cell_type": "code",
   "execution_count": 12,
   "id": "8962f07c",
   "metadata": {
    "slideshow": {
     "slide_type": "slide"
    }
   },
   "outputs": [
    {
     "name": "stdout",
     "output_type": "stream",
     "text": [
      "C1 (5, 4) [4.86 3.28 1.4  0.2 ]\n",
      "C2 (8, 4) [5.025  3.4125 1.5625 0.2875]\n",
      "0.0788437500000003\n"
     ]
    }
   ],
   "source": [
    "def sq_distance(C1,C2):\n",
    "    '''Return the  squared distance between the centers of clusters C1 and C2. '''\n",
    "    return sum((C1.mean(axis=0)- C2.mean(axis=0))**2)\n",
    "\n",
    "C1,C2= iris[:5], iris[20:28]\n",
    "\n",
    "print('C1',C1.shape, C1.mean(0))\n",
    "print('C2',C2.shape, C2.mean(0))\n",
    "print(sq_distance(C1,C2))"
   ]
  },
  {
   "cell_type": "markdown",
   "id": "84f26f95",
   "metadata": {
    "slideshow": {
     "slide_type": "slide"
    }
   },
   "source": [
    "# Nu de 2 clusters vinden\n",
    "\n",
    ">To implement this method, at each step find the pair of clusters that leads to minimum increase in total within-cluster variance after merging.\n",
    "\n",
    "### implementeer\n",
    "\n",
    "* Stel we hebben een ~~verzameling clusters `S`~~.\n",
    "    * Een dict van de vorm `{'cluster_id: cluster}`\n",
    "* Output: de 2 clusters die we volgens Ward moeten gaan samenvoegen.\n",
    "    "
   ]
  },
  {
   "cell_type": "code",
   "execution_count": 16,
   "id": "f828f54c",
   "metadata": {
    "slideshow": {
     "slide_type": "slide"
    }
   },
   "outputs": [],
   "source": [
    "def merge_ward(S):\n",
    "    # compute all distances\n",
    "    pairwise_distances={(c1,c2):sq_distance(c1,c2)   for c1 in S\n",
    "                               for c2 in S\n",
    "                                   if c1<c2}\n",
    "\n",
    "    # choose the minimum\n",
    "    # sort, nah this is too expensive"
   ]
  },
  {
   "cell_type": "code",
   "execution_count": 27,
   "id": "9cef5a65",
   "metadata": {
    "slideshow": {
     "slide_type": "slide"
    }
   },
   "outputs": [
    {
     "data": {
      "text/plain": [
       "(0, 4)"
      ]
     },
     "execution_count": 27,
     "metadata": {},
     "output_type": "execute_result"
    }
   ],
   "source": [
    "def merge_ward(S):\n",
    "    clusters= list(S.keys())\n",
    "    # initialize: the winner is the first two clusters.\n",
    "    s1,s2= clusters[0],clusters[1]\n",
    "    minimal_distance= sq_distance(S[s1],S[s2]) \n",
    "    # compute and update the heap\n",
    "    for c1 in clusters:\n",
    "        for c2 in clusters:\n",
    "               if c1<c2:\n",
    "                    new=sq_distance(S[c1],S[c2]) \n",
    "                    if new<minimal_distance: # update if we have a better pair\n",
    "                        minimal_distance=new\n",
    "                        s1,s2=c1,c2\n",
    "    return s1,s2\n",
    "\n",
    "# make clusters from iris\n",
    "D= {k:cluster for k,cluster in enumerate(np.vsplit(iris,15))}\n",
    "\n",
    "merge_ward(D)"
   ]
  },
  {
   "cell_type": "code",
   "execution_count": 28,
   "id": "0b95df8a",
   "metadata": {},
   "outputs": [
    {
     "ename": "NameError",
     "evalue": "name 'samples' is not defined",
     "output_type": "error",
     "traceback": [
      "\u001b[1;31m---------------------------------------------------------------------------\u001b[0m",
      "\u001b[1;31mNameError\u001b[0m                                 Traceback (most recent call last)",
      "Cell \u001b[1;32mIn[28], line 31\u001b[0m\n\u001b[0;32m     26\u001b[0m         output_labels[point_ids] \u001b[38;5;241m=\u001b[39m i\n\u001b[0;32m     29\u001b[0m     \u001b[38;5;28;01mreturn\u001b[39;00m output_labels\n\u001b[1;32m---> 31\u001b[0m agglomerative_clustering(\u001b[43msamples\u001b[49m, number_of_clusters\u001b[38;5;241m=\u001b[39m\u001b[38;5;241m4\u001b[39m, linkage_type\u001b[38;5;241m=\u001b[39m\u001b[38;5;124m\"\u001b[39m\u001b[38;5;124maverage\u001b[39m\u001b[38;5;124m\"\u001b[39m)\n",
      "\u001b[1;31mNameError\u001b[0m: name 'samples' is not defined"
     ]
    }
   ],
   "source": [
    "# in our version, we will define a number of clusters we want to find\n",
    "# you may also define this in sklearn for your comparison later\n",
    "def agglomerative_clustering(input_points, number_of_clusters: int, linkage_type: str):\n",
    "    assert linkage_type in ['average', 'complete']\n",
    "    \n",
    "    # We start by just having each point in its own cluster\n",
    "    # update this dictionary in the while loop.\n",
    "\n",
    "    clusters = {i: [i] for i in range(len(input_points))}   \n",
    "    \n",
    "    # Look at the stopping condition, understand why?\n",
    "    while len(clusters) != number_of_clusters:\n",
    "        index_first, index_second = clustering_step(input_points, clusters, linkage_type=linkage_type)\n",
    "        clusters[index_first] = clusters[index_first], clusters[index_second]\n",
    "        del clusters[index_second]\n",
    "        print(\"\\n\",clusters, \"\\n\")    \n",
    "    \n",
    "               \n",
    "    # Your output should be a dict with as keys the resulting cluster IDs and as values the points belonging to\n",
    "    # that cluster. It does not matter what the ID itself is.5658622225\n",
    "    \n",
    "    # create the output array (we will do this for you)\n",
    "    output_labels = np.zeros((input_points.shape[0], 1))\n",
    "    for i, point_ids in enumerate(clusters.values()):\n",
    "        print(i, point_ids, clusters.values())\n",
    "        output_labels[point_ids] = i\n",
    "    \n",
    "    \n",
    "    return output_labels\n",
    "\n",
    "agglomerative_clustering(samples, number_of_clusters=4, linkage_type=\"average\")"
   ]
  },
  {
   "cell_type": "markdown",
   "id": "124c04e4",
   "metadata": {
    "slideshow": {
     "slide_type": "slide"
    }
   },
   "source": [
    "# DBscan\n",
    "\n",
    "* *densitybased spatial clustering  of applications with noise*\n",
    "* **+++** je hoeft geen $k$ op te geven! \n",
    "\n",
    "## Idee\n",
    "\n",
    "* Ruimte is opgedeeld in **dense regions**, bestaande uit *core points*\n",
    "* Daarnaast heb je *border points*, punten bereikbaar vanuit een core_point maar zelf niet core\n",
    "* En *noise points*, punten niet bereikbaar vanuit corepoints.\n",
    "\n",
    "#### De dense regions samen met hun border points worden de clusters.\n",
    "\n",
    "* aantal clusters wordt dus bepaald door de data (en het algoritme)\n",
    "* niet alle punten hoeven in een cluster te komen\n",
    "* clusters overlappen nog steeds niet\n",
    "    * alhoewel toekenning van border points aan clusters bij gelijke afstand dus met een tiebreaker gaat"
   ]
  },
  {
   "cell_type": "markdown",
   "id": "a9aef754",
   "metadata": {
    "slideshow": {
     "slide_type": "slide"
    }
   },
   "source": [
    "# Defs\n",
    "\n",
    "* je bent een core point als er `min_samples` veel punten op afstand minder dan `eps` van je afliggen\n",
    "* je bent een border point als je geen core point bent, maar wel op een afstand minder dan `eps` van een core point afligt.\n",
    "* je bent een noise point als je niet op een afstand minder dan `eps` van een core   point ligt.\n",
    "\n",
    "![](../img/dbscan1.png)"
   ]
  },
  {
   "cell_type": "markdown",
   "id": "7d7aafad",
   "metadata": {
    "slideshow": {
     "slide_type": "slide"
    }
   },
   "source": [
    "# Defs cluster\n",
    "\n",
    "* Elk core-point $c$ vormt een cluster samen met \n",
    "    * de andere core points *bereikbaar* vanuit $c$\n",
    "        * =  via een pad van core points allemaal op afstand minder dan `eps` van elkaar\n",
    "    * de border points die direct bereikbaar zijn vanuit een core-point in het cluster van $c$."
   ]
  },
  {
   "cell_type": "markdown",
   "id": "f0edde2f",
   "metadata": {
    "slideshow": {
     "slide_type": "slide"
    }
   },
   "source": [
    "\n",
    "![](../img/dbscan2.pbm)"
   ]
  },
  {
   "cell_type": "markdown",
   "id": "1418ffd3",
   "metadata": {
    "slideshow": {
     "slide_type": "slide"
    }
   },
   "source": [
    "# Het algoritme\n",
    "\n",
    "1. Pak een willekeurig punt c. $C=\\{c\\}$\n",
    "2. Vind alle direct bereikbare punten (op afstand kleiner dan $eps$) vanuit c. \n",
    "    * Stop die allemaal in $C$\n",
    "3. Zijn er genoeg? Dus $|C|\\geq min-samples$? \n",
    "    * Dan is $C$ het begin van een cluster, met minimaal 1 core point $c$.\n",
    "    * Is er nog een core point in $C$? Zo ja: \n",
    "    * Vind nu alle punten direct bereikbaar vanuit dat core punt  en voeg die ook toe aan $C$.\n",
    "        * zijn dat core-points? (dus genoeg direct bereikbare buren)?\n",
    "            * ga dan weer verder, en verder,....\n",
    "    * Geen nieuwe core points meer: Klaar met $C$\n",
    "    * Ga nu hetzelfde doen met alle punten behalve $C$.\n",
    "4. Zijn er niet genoeg?\n",
    "    * Zeg voorlopig dat $c$ een noise punt is.\n",
    "    * En ga nu hetzelfde doen met een nieuw willekeurig punt.\n",
    "        * En met alle punte behalve die in cluster $C$.\n",
    "    * Let op, $c$ kan nog een boundary punt van een ander cluster worden later.\n",
    "        * Maar dus nooit meer een core point."
   ]
  },
  {
   "cell_type": "markdown",
   "id": "ad3a92e3",
   "metadata": {
    "slideshow": {
     "slide_type": "slide"
    }
   },
   "source": [
    "# Bewijs\n",
    "\n",
    "* Het algoritme eindigt.\n",
    "* Het is \"bijna-deterministisch\"\n",
    "    * altijd dezelfde core, border en noise points\n",
    "    * alleen kunnen border points aan andere clusters worden toegewezen.\n",
    "    "
   ]
  },
  {
   "cell_type": "markdown",
   "id": "493f9149",
   "metadata": {
    "slideshow": {
     "slide_type": "slide"
    }
   },
   "source": [
    "# Data Versimpelen \n",
    "\n",
    "\n",
    "### laatste onderwerp vandaag"
   ]
  },
  {
   "cell_type": "markdown",
   "id": "4fce8839",
   "metadata": {
    "slideshow": {
     "slide_type": "slide"
    }
   },
   "source": [
    "# Data Versimpelen = meestal minder dimensies (3.4 in book)\n",
    "\n",
    "* We bekijken 2 technieken:\n",
    "    * PCA, principal component analysis\n",
    "    * NMF, Matrix factorisatie\n",
    "* Beide verminderen het aantal dimensies in onze data\n",
    "    * \"de lengte van de vectoren\"\n",
    "* maar ja, de dimensies die we dan nog hebben zijn dan wel abstract, of latent\n",
    "    * vaak erg lastig of helemaal niet te interpreteren\n",
    "    \n",
    "### Waarom doe je dat eigenlijk?\n",
    "\n",
    "* visualisatie (vooral naar 2D)\n",
    "* data compressie (anders duurt het te lang, gaat het gewoon niet)\n",
    "* meer informatieve representatie\n",
    "    * \"noise\" is weggefilterd \n",
    "        * noise is dan \"weggestopt\" in  latente dimensies die maar heel weining toevoegen aan de verklaarde variantie\n",
    "        * Blijft vaak net zo effectief, of wordt zelfs beter!"
   ]
  },
  {
   "cell_type": "markdown",
   "id": "6d9e078e",
   "metadata": {
    "slideshow": {
     "slide_type": "slide"
    }
   },
   "source": [
    "# PCA\n",
    "\n",
    "* Fig 3.3 in the book\n",
    "\n",
    "![](../img/pca1.png)"
   ]
  },
  {
   "cell_type": "markdown",
   "id": "00236624",
   "metadata": {
    "slideshow": {
     "slide_type": "slide"
    }
   },
   "source": [
    "# PCA simplified explained\n",
    "\n",
    "* See [this blogpost](https://towardsdatascience.com/a-one-stop-shop-for-principal-component-analysis-5582fb7e0a9c) for also a simple but slightly mor etechnical and thus deeper explanation\n",
    "\n",
    "\n",
    "### steps\n",
    "\n",
    "1. Start with n-dimensional data.\n",
    "2. Z-standardise: 0 mean and unit standard deviation for each dimension\n",
    "2. Find  n **orthogonal** dimensions in the data.\n",
    "    * direction and magnitude\n",
    "    * you find the *eigenvectors* with their magnitude given by their *eigenvalues*\n",
    "3. Order the dimensions by their importance/magnitude/eigenvalue\n",
    "4. You can get the original data back using all these dimensions\n",
    "5. But roughly the eigenvalue of each dimension corresponds to the variance **explained  bhy that dimension**.\n",
    "6. So you may leave out the least important ones, and thus\n",
    "7. **reduce the number of dimensions**"
   ]
  },
  {
   "cell_type": "markdown",
   "id": "0c445113",
   "metadata": {
    "slideshow": {
     "slide_type": "slide"
    }
   },
   "source": [
    "# Example\n",
    "\n",
    "* Breast cancer dataset\n",
    "    * 30 explanatory variables\n",
    "    * binary classification: benign or malevolent\n",
    "* Reduce these 30 to 2 dimensions\n",
    "* Visualize in 2D space: see if the classes nicely seperate.\n",
    "    * Great first indication whether an ML approach has a chance on succes."
   ]
  },
  {
   "cell_type": "code",
   "execution_count": 32,
   "id": "60202447",
   "metadata": {
    "slideshow": {
     "slide_type": "slide"
    }
   },
   "outputs": [
    {
     "name": "stdout",
     "output_type": "stream",
     "text": [
      "Original shape: (569, 30)\n",
      "Reduced shape: (569, 2)\n"
     ]
    }
   ],
   "source": [
    "from sklearn.datasets import load_breast_cancer \n",
    "from sklearn.preprocessing import StandardScaler\n",
    "\n",
    "cancer = load_breast_cancer()\n",
    "scaler = StandardScaler()\n",
    "scaler.fit(cancer.data)\n",
    "X_scaled = scaler.transform(cancer.data)\n",
    "\n",
    "from sklearn.decomposition import PCA\n",
    "# keep the first two principal components of the data \n",
    "pca = PCA(n_components=2)\n",
    "# fit PCA model to breast cancer  data \n",
    "pca.fit(X_scaled)\n",
    "# transform data onto the first two principal components\n",
    "X_pca = pca.transform(X_scaled)\n",
    "print(\"Original shape: {}\".format(str(X_scaled.shape))) \n",
    "print(\"Reduced shape: {}\".format(str(X_pca.shape)))"
   ]
  },
  {
   "cell_type": "code",
   "execution_count": 39,
   "id": "28c8c71a",
   "metadata": {
    "slideshow": {
     "slide_type": "slide"
    }
   },
   "outputs": [
    {
     "data": {
      "text/plain": [
       "array([[ 9.19283683,  1.94858307],\n",
       "       [ 2.3878018 , -3.76817174],\n",
       "       [ 5.73389628, -1.0751738 ],\n",
       "       [ 7.1229532 , 10.27558912],\n",
       "       [ 3.93530207, -1.94807157]])"
      ]
     },
     "execution_count": 39,
     "metadata": {},
     "output_type": "execute_result"
    }
   ],
   "source": [
    "# Even checken\n",
    "\n",
    "X_pca[:5] # 569 voorbeelden, met steeds 2 features=dimensies"
   ]
  },
  {
   "cell_type": "code",
   "execution_count": 45,
   "id": "ebd7a619",
   "metadata": {
    "slideshow": {
     "slide_type": "slide"
    }
   },
   "outputs": [
    {
     "data": {
      "text/plain": [
       "array([ 9.19283683,  2.3878018 ,  5.73389628,  7.1229532 ,  3.93530207,\n",
       "        2.38024715,  2.23888331,  2.1432985 ,  3.17492429,  6.35174679,\n",
       "       -0.81041377,  2.65110048,  8.18503446,  0.34212591,  4.34237919,\n",
       "        4.07565618,  0.23005502,  4.41801092,  4.94870355, -1.23706336,\n",
       "       -1.57816123, -3.55733637,  4.73321079,  4.20852421,  4.94963207,\n",
       "        7.09856285,  3.5102626 ,  3.06405389,  4.00726414,  1.71530973,\n",
       "        6.05944551,  2.9022361 ,  4.55478269,  4.99060272,  2.98534079,\n",
       "        2.76636916,  1.29619877, -3.7493134 , -0.9980689 ,  0.76526412,\n",
       "       -2.15095347, -0.09333139,  9.08799968,  0.99045377, -0.29354655,\n",
       "        5.38094041, -4.58193667,  1.70000689, -2.13644528, -1.567479  ,\n",
       "       -3.54290556, -3.15781405, -3.45048854,  3.30255095, -0.67461929,\n",
       "       -2.85815844,  4.64873887,  2.17686288, -3.72145899, -4.13596294,\n",
       "       -2.38583566, -2.57888325,  4.75911215, -2.31413225,  1.69160792,\n",
       "        1.81230541, -2.78592476, -3.51864834,  4.33000265, -3.26127947,\n",
       "        2.70459617, -0.30785577,  5.50370532, -0.36170919, -2.62997664,\n",
       "        1.42816759, -0.83451788,  6.23089651, 11.66871465, -2.02157766,\n",
       "       -1.63838494,  1.16746161, 10.76924282,  5.03481109, -2.17446431,\n",
       "        3.28823538,  0.60760795,  3.58356363, -0.9341581 ,  1.25960465,\n",
       "       -1.58826397,  0.25249757, -2.84743159, -1.96495011,  2.77586557,\n",
       "        4.39622795, -2.59208283, -3.90433815, -2.81823121,  0.61628087,\n",
       "       -0.43286022, -4.55502884, -3.44818354, -2.11596026, -2.6913522 ,\n",
       "        3.21391677, -0.74927136, -3.15900604, 13.05612186, -2.22867981,\n",
       "       -2.49283104, -0.10335043,  3.59129412, -1.34894868, -2.51011768,\n",
       "       -2.04602957, -2.09706917,  3.11052769,  4.95672557,  0.85101426,\n",
       "       -2.96599921,  3.3341332 , 12.89461213, -0.77074368, -2.20251552,\n",
       "       -3.14341225, -0.6388805 ,  1.91913342,  1.40886836,  4.64369132,\n",
       "       -1.87746736,  1.43206943,  1.35262703, -0.70911483,  2.17141602,\n",
       "       -1.97684036, -2.6007895 , -3.25800736,  3.78202646, -1.99203472,\n",
       "       -5.01500869,  1.34502044, -2.45596881, -1.83728167, -4.34648971,\n",
       "       -0.73281292,  2.39999784,  0.39309866, -0.41232781, -3.04992494,\n",
       "       -1.44256373,  0.0831861 ,  7.09330671, -3.74340454, -0.96917281,\n",
       "       -2.41871991,  4.10078773, -0.75160301, -3.65464653, -4.68021158,\n",
       "       -0.59778177,  3.38733076,  6.14988619, -1.32503135,  5.4941528 ,\n",
       "       -2.99740321, -4.38673272,  1.21363461,  5.06966108, -1.97770144,\n",
       "       -2.51487642, -0.94748789,  2.81936834, -3.4839863 , -4.65872958,\n",
       "       -5.35161811,  1.17089778,  2.95630187, -4.97570206, -4.06402566,\n",
       "        9.51266984,  9.00716553,  0.75887848, -2.65935962, -0.39001898,\n",
       "       -3.88906553,  0.36487615, -2.83589092, -3.31028362, -3.3573044 ,\n",
       "        6.52311662, -1.71773518, -5.5657359 ,  1.77966149,  2.61148489,\n",
       "       -2.81903851,  2.49843888,  1.27702718,  3.47319734,  1.25667511,\n",
       "       -1.47343137,  1.6494607 ,  9.03658948,  4.55459006, -0.78118997,\n",
       "       -0.22309261, -3.45489539,  0.4465444 ,  0.31443823, -2.05919194,\n",
       "        4.80896924, -2.99871053, 12.28501976,  3.37219659,  2.50876631,\n",
       "        1.31806848, -0.3887563 , -2.75693299,  4.94358101,  4.29807733,\n",
       "       -2.3735018 , -0.96719031, -2.97579879,  1.80324702, -2.47835951,\n",
       "       -0.82603929, -3.89469733, -0.38957809, -1.45732136,  2.755568  ,\n",
       "        3.25725467, -4.01914024, -3.67641329,  3.31632411, -4.03660736,\n",
       "       -2.33423335,  8.40384711,  2.64756863, -0.68176887,  3.35029579,\n",
       "       -2.22772052, -4.47758466,  1.32262142, -1.85008986,  3.79556564,\n",
       "       -2.2813181 , -3.22877012,  1.02590079, -2.58255584, -2.48588323,\n",
       "        7.14384204, -3.03248114,  7.08501065,  1.314099  ,  3.71164951,\n",
       "        0.46047909,  6.39264992,  5.25554495,  8.7338615 ,  3.69131788,\n",
       "        3.37825087, -0.84020965,  3.28437262, -1.90876893,  1.61478193,\n",
       "        6.61972635, -1.46467593, -2.01215243, -2.28434025, -0.73974309,\n",
       "       -4.50656251, -3.1587543 ,  7.67614947, -3.63913597,  0.33734549,\n",
       "       -1.27658338, -4.34601405,  0.01743079, -3.49242604, -1.86654885,\n",
       "        4.96026812, -2.47072269,  3.7850601 ,  2.63725578, -1.37268502,\n",
       "       -4.13888257, -0.68694029, -4.31212958,  0.40330942, -3.0036058 ,\n",
       "        3.13400821, -0.41783687, -1.42022314, -2.87058835, -3.3658457 ,\n",
       "       -3.31500015, -4.76971016, -2.38588276, -2.78709601, -3.39384177,\n",
       "        6.59023594, -1.45533052,  7.1829331 , -3.5788354 , -3.05703264,\n",
       "       -3.07443583, -3.85353973, -5.39025639, -4.65768233, -4.02754239,\n",
       "       -3.34782194, -3.29984201, -2.13640414, -4.03801714, -3.76541455,\n",
       "       -4.87123938, -4.74724852,  1.89531628,  1.57293114, -4.02662025,\n",
       "       -1.29486617,  1.83484047, -1.81038056,  7.23648531, -3.14565019,\n",
       "       -2.88726806, -3.14965398, -4.62837948,  2.25051037,  2.10780123,\n",
       "        1.78594998, -0.52769662, -3.21350098, -4.38642297, -3.81001787,\n",
       "        3.31967397, -2.39327596,  4.68016626, -3.06769514,  7.35321858,\n",
       "        0.29531318, -1.9389695 , -2.07717892,  4.97516236, -2.17691688,\n",
       "       -2.43155146, -3.36796578, -1.20659779, -3.32607925, -1.9287954 ,\n",
       "       -4.04183509,  6.18228374, 10.93429816,  2.11849693, -3.01219497,\n",
       "       -0.98264858,  0.35789386, -3.19391787, -2.9932333 , -3.19391415,\n",
       "       -4.59196185, -2.48591615, -2.39866535, -0.7796152 , -3.13998843,\n",
       "        2.73501177,  6.22702599, -2.22377575,  5.30714002,  7.24800106,\n",
       "        4.20722062, -2.49963637,  3.63501495,  3.51924828, -2.61494831,\n",
       "       -0.09610812,  2.04485693, -3.06674953, -1.60358644,  3.76593215,\n",
       "       -0.9255666 , -3.28834959, -1.55485215, -0.39877992, -2.30056782,\n",
       "       -0.54290136, -2.05881946, -3.42451806, -0.47240655,  4.70350073,\n",
       "       -3.64338024, -3.59468934,  4.14909734,  7.67214155, -2.01037941,\n",
       "       -2.92083349, -0.5007378 , -1.91149857, -3.78509923, -2.70839397,\n",
       "        6.28967347, -3.43077069, -2.00138847, -2.47329309, -3.64725775,\n",
       "       -2.34618685, -1.14299693, -1.3508573 ,  2.76337079, -1.96932361,\n",
       "       -2.93118706, -2.92637439, -3.99618828,  0.15513806, -0.93409081,\n",
       "       -1.92962173, -2.6223386 ,  6.00361659, -2.9218778 , -3.3419448 ,\n",
       "       -2.01491503,  1.98846211, -1.66960393, -0.37117811, -1.84895993,\n",
       "       -4.7030422 , -1.28318715, -2.31424682, -4.65908518, -3.94347338,\n",
       "        4.94985846, -0.91580352,  4.54911115,  4.44234282, -2.1949843 ,\n",
       "        0.66444091, -2.24087605, -2.12518044, -2.61531741, -3.21096798,\n",
       "       -0.3067504 ,  2.47235692, -3.45471837, -3.90052685,  0.98172754,\n",
       "       -1.25725157,  3.24541365, -1.55721941, -1.2492581 ,  4.33165334,\n",
       "       -1.07745133,  2.5117531 , -2.21709231, -1.17383065, -2.83630144,\n",
       "       -1.8570859 , -1.32861437, -2.80277136, -3.1745688 , -4.08707736,\n",
       "        3.47549375, 16.31923323, -2.56011502, -2.9688888 , -2.75743045,\n",
       "        1.37033988, -0.41766449, -3.83839862,  5.93096486,  0.64547865,\n",
       "       -2.6838464 , -2.04166405, -1.39929635, -3.5364153 , -1.99052945,\n",
       "       -1.99818537, -0.52065811, -3.17237049, -2.20271019,  3.82443304,\n",
       "       -2.98548469, -2.48105511, -1.27211146, -2.23515689, -0.0561831 ,\n",
       "        2.31739061, -2.28433126,  4.75461487, -1.72631092, -0.74178177,\n",
       "       -2.89431066, -1.65452185,  3.1035197 , -4.0642706 , -2.79333066,\n",
       "       -1.47491994, -0.22939464, -2.55325841,  3.7157051 ,  5.09484184,\n",
       "       -0.60061611,  2.79039983, -1.40877121,  7.25917884,  1.29886655,\n",
       "        1.07669328, -1.24976052, -1.25692841, -1.16653521,  4.09414256,\n",
       "       -1.88763924, -2.7674357 ,  2.22699449, -1.13157689, -0.73377245,\n",
       "       -2.33367074,  2.69722375,  3.37901467, -0.19987058, -1.17602591,\n",
       "       -1.29263654,  8.63075586, -4.42945637, -0.61983874, -3.25231577,\n",
       "       -3.35292705, -0.85980299, -3.15662197,  0.34652811, -2.46140665,\n",
       "       -1.53010072, -1.77358507, -2.68044162,  4.02843526, -2.13635123,\n",
       "        5.16541095,  0.53593195,  0.34312338, -4.19707999, -1.14283186,\n",
       "       -1.66547515,  1.0117125 , -1.30092971, -2.37342873, -1.66587101,\n",
       "       -1.92767819, -4.23721662, -2.67787072, -3.83649785, -2.5514403 ,\n",
       "       -4.69492345, -2.02503716, -2.89594821, -3.50220104, -2.15390367,\n",
       "       -2.05508407, -3.87728958, -4.06386211, -0.09866733, -1.08937619,\n",
       "       -0.48177096, -4.87030952,  5.91761259,  8.74133808,  6.43931548,\n",
       "        3.79338237,  1.25617928, 10.37479406, -5.4752433 ])"
      ]
     },
     "execution_count": 45,
     "metadata": {},
     "output_type": "execute_result"
    }
   ],
   "source": [
    "# Hoe pak je de eerste kolom (= de belangrijkste eigenvector=principle component)\n",
    "\n",
    "X_pca[:,0]"
   ]
  },
  {
   "cell_type": "code",
   "execution_count": 33,
   "id": "99f35af7",
   "metadata": {
    "slideshow": {
     "slide_type": "slide"
    }
   },
   "outputs": [
    {
     "data": {
      "image/png": "[encoded data removed]",
      "text/plain": [
       "<Figure size 432x288 with 1 Axes>"
      ]
     },
     "metadata": {
      "needs_background": "light"
     },
     "output_type": "display_data"
    }
   ],
   "source": [
    "# make all principal components\n",
    "# order them and plot the eigenvalues, explained variance,, per component\n",
    "pca_all = PCA(n_components=30)\n",
    "pca_all.fit(X_scaled)\n",
    "pd.Series(pca_all.explained_variance_).plot(title='explained variance per component');"
   ]
  },
  {
   "cell_type": "code",
   "execution_count": 34,
   "id": "afd53d2c",
   "metadata": {
    "slideshow": {
     "slide_type": "slide"
    }
   },
   "outputs": [
    {
     "data": {
      "image/png": "[encoded data removed]",
      "text/plain": [
       "<Figure size 432x288 with 1 Axes>"
      ]
     },
     "metadata": {
      "needs_background": "light"
     },
     "output_type": "display_data"
    }
   ],
   "source": [
    "# cumulative plot\n",
    "pd.Series(pca_all.explained_variance_).cumsum().plot(title='explained variance per component');"
   ]
  },
  {
   "cell_type": "code",
   "execution_count": 35,
   "id": "60d545c7",
   "metadata": {
    "slideshow": {
     "slide_type": "slide"
    }
   },
   "outputs": [
    {
     "name": "stdout",
     "output_type": "stream",
     "text": [
      "[-3.16286735e-15 -6.53060890e-15 -7.07889127e-16 -8.79983452e-16\n",
      "  6.13217737e-15 -1.12036918e-15 -4.42138027e-16  9.73249991e-16\n",
      " -1.97167024e-15 -1.45363120e-15 -9.07641468e-16 -8.85349205e-16\n",
      "  1.77367396e-15 -8.29155139e-16 -7.54180940e-16 -3.92187747e-16\n",
      "  7.91789988e-16 -2.73946068e-16 -3.10823423e-16 -3.36676596e-16\n",
      " -2.33322442e-15  1.76367415e-15 -1.19802625e-15  5.04966114e-16\n",
      " -5.21317026e-15 -2.17478837e-15  6.85645643e-16 -1.41265636e-16\n",
      " -2.28956670e-15  2.57517109e-15]\n",
      "[1. 1. 1. 1. 1. 1. 1. 1. 1. 1. 1. 1. 1. 1. 1. 1. 1. 1. 1. 1. 1. 1. 1. 1.\n",
      " 1. 1. 1. 1. 1. 1.]\n"
     ]
    }
   ],
   "source": [
    "# check that scaling = Z-transformation: 0 mean, and unit std\n",
    "print(X_scaled.mean(0))\n",
    "print(X_scaled.std(0 ))"
   ]
  },
  {
   "cell_type": "code",
   "execution_count": 36,
   "id": "a093430e",
   "metadata": {
    "slideshow": {
     "slide_type": "slide"
    }
   },
   "outputs": [
    {
     "data": {
      "image/png": "[encoded data removed]",
      "text/plain": [
       "<Figure size 432x288 with 1 Axes>"
      ]
     },
     "metadata": {
      "needs_background": "light"
     },
     "output_type": "display_data"
    }
   ],
   "source": [
    "# Far more general alternative for the plot code in the book p147\n",
    "\n",
    "import seaborn as sns\n",
    "\n",
    "sns.scatterplot(x=X_pca[:, 0], y= X_pca[:, 1], hue = cancer.target);"
   ]
  },
  {
   "cell_type": "code",
   "execution_count": 29,
   "id": "c7d98fde",
   "metadata": {
    "slideshow": {
     "slide_type": "slide"
    }
   },
   "outputs": [
    {
     "data": {
      "text/html": [
       "<div>\n",
       "<style scoped>\n",
       "    .dataframe tbody tr th:only-of-type {\n",
       "        vertical-align: middle;\n",
       "    }\n",
       "\n",
       "    .dataframe tbody tr th {\n",
       "        vertical-align: top;\n",
       "    }\n",
       "\n",
       "    .dataframe thead th {\n",
       "        text-align: right;\n",
       "    }\n",
       "</style>\n",
       "<table border=\"1\" class=\"dataframe\">\n",
       "  <thead>\n",
       "    <tr style=\"text-align: right;\">\n",
       "      <th></th>\n",
       "      <th>First PC</th>\n",
       "      <th>Second PC</th>\n",
       "      <th>Class</th>\n",
       "    </tr>\n",
       "  </thead>\n",
       "  <tbody>\n",
       "    <tr>\n",
       "      <th>0</th>\n",
       "      <td>9.192837</td>\n",
       "      <td>1.948583</td>\n",
       "      <td>0</td>\n",
       "    </tr>\n",
       "    <tr>\n",
       "      <th>1</th>\n",
       "      <td>2.387802</td>\n",
       "      <td>-3.768172</td>\n",
       "      <td>0</td>\n",
       "    </tr>\n",
       "    <tr>\n",
       "      <th>2</th>\n",
       "      <td>5.733896</td>\n",
       "      <td>-1.075174</td>\n",
       "      <td>0</td>\n",
       "    </tr>\n",
       "    <tr>\n",
       "      <th>3</th>\n",
       "      <td>7.122953</td>\n",
       "      <td>10.275589</td>\n",
       "      <td>0</td>\n",
       "    </tr>\n",
       "    <tr>\n",
       "      <th>4</th>\n",
       "      <td>3.935302</td>\n",
       "      <td>-1.948072</td>\n",
       "      <td>0</td>\n",
       "    </tr>\n",
       "  </tbody>\n",
       "</table>\n",
       "</div>"
      ],
      "text/plain": [
       "   First PC  Second PC  Class\n",
       "0  9.192837   1.948583      0\n",
       "1  2.387802  -3.768172      0\n",
       "2  5.733896  -1.075174      0\n",
       "3  7.122953  10.275589      0\n",
       "4  3.935302  -1.948072      0"
      ]
     },
     "execution_count": 29,
     "metadata": {},
     "output_type": "execute_result"
    }
   ],
   "source": [
    "# Via pandas\n",
    "\n",
    "import pandas as pd\n",
    "\n",
    "df= pd.DataFrame(X_pca)\n",
    "df['target']= cancer.target\n",
    "df.columns=['First PC', 'Second PC', 'Class']\n",
    "df.head()"
   ]
  },
  {
   "cell_type": "code",
   "execution_count": 50,
   "id": "3c1b679a",
   "metadata": {
    "slideshow": {
     "slide_type": "slide"
    }
   },
   "outputs": [
    {
     "data": {
      "image/png": "[encoded data removed]",
      "text/plain": [
       "<Figure size 432x288 with 1 Axes>"
      ]
     },
     "metadata": {
      "needs_background": "light"
     },
     "output_type": "display_data"
    }
   ],
   "source": [
    "sns.scatterplot(x='First PC', y='Second PC', hue =  'Class', data=df);"
   ]
  },
  {
   "cell_type": "code",
   "execution_count": 49,
   "id": "4887dbbe",
   "metadata": {
    "slideshow": {
     "slide_type": "skip"
    }
   },
   "outputs": [
    {
     "data": {
      "text/plain": [
       "Class\n",
       "1    357\n",
       "0    212\n",
       "Name: count, dtype: int64"
      ]
     },
     "execution_count": 49,
     "metadata": {},
     "output_type": "execute_result"
    }
   ],
   "source": [
    "#Even checken\n",
    "\n",
    "df.Class.value_counts()"
   ]
  },
  {
   "cell_type": "markdown",
   "id": "3aba1fc5",
   "metadata": {
    "slideshow": {
     "slide_type": "slide"
    }
   },
   "source": [
    "# Wrap up\n",
    "\n",
    "1. We hebben ML in 4 soorten opgedeeld\n",
    "    1. Groeperen\n",
    "    2. Classificeren\n",
    "    3. Voorspellen\n",
    "    4. Handelen "
   ]
  },
  {
   "cell_type": "markdown",
   "id": "6b630be1",
   "metadata": {
    "slideshow": {
     "slide_type": "fragment"
    }
   },
   "source": [
    "2. In de gebruikelijke ML terminologie:\n",
    "    1. Clustering\n",
    "    2. Classification\n",
    "    3. Regression\n",
    "    4. Reinforcement learning"
   ]
  },
  {
   "cell_type": "markdown",
   "id": "a19ca63d",
   "metadata": {
    "slideshow": {
     "slide_type": "slide"
    }
   },
   "source": [
    "# Soort training\n",
    "\n",
    "* *Unsupervised*\n",
    "    1. Clustering\n",
    "* *Supervised*\n",
    "    2. Classification\n",
    "    3. Regression\n",
    "* *Uitproberen met feedback/reward*\n",
    "    4. Reinforcement learning"
   ]
  },
  {
   "cell_type": "markdown",
   "id": "fa39462b",
   "metadata": {
    "slideshow": {
     "slide_type": "slide"
    }
   },
   "source": [
    "# Vandaag\n",
    "\n",
    "* Groeperen\n",
    "    * Geen trainingsvoorbeelden nodig\n",
    "    * Clustering, K-means, hierarchisch, DBSCAN\n",
    "* PCA\n",
    "* Boek Hfd 3."
   ]
  },
  {
   "cell_type": "code",
   "execution_count": null,
   "id": "7669859c",
   "metadata": {},
   "outputs": [],
   "source": []
  }
 ],
 "metadata": {
  "celltoolbar": "Slideshow",
  "kernelspec": {
   "display_name": "Python 3 (ipykernel)",
   "language": "python",
   "name": "python3"
  },
  "language_info": {
   "codemirror_mode": {
    "name": "ipython",
    "version": 3
   },
   "file_extension": ".py",
   "mimetype": "text/x-python",
   "name": "python",
   "nbconvert_exporter": "python",
   "pygments_lexer": "ipython3",
   "version": "3.9.13"
  },
  "toc": {
   "nav_menu": {},
   "number_sections": false,
   "sideBar": true,
   "skip_h1_title": false,
   "title_cell": "Table of Contents",
   "title_sidebar": "Contents",
   "toc_cell": false,
   "toc_position": {},
   "toc_section_display": true,
   "toc_window_display": false
  }
 },
 "nbformat": 4,
 "nbformat_minor": 5
}
